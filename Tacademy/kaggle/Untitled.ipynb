{
 "cells": [
  {
   "cell_type": "markdown",
   "metadata": {},
   "source": [
    "- 확률론"
   ]
  },
  {
   "cell_type": "markdown",
   "metadata": {},
   "source": [
    "# 1 \n",
    "- 로지스틱 회귀 분석: regression에 odd, 확률 개념을 더해 Maximum Likelihood, 최대 우도 측정\n",
    "- SVM : 서포트 벡터의 마진을 최대화 하는 선을 긋는 것, Cost: soft, hard \n",
    "    - 마진 최대화: 구조적 위험 최소화\n",
    "    - soft 마진, hard 마진\n",
    "- 트리: greedy한 알고리즘(현재 상태에서 가장 좋은 걸 고른다, 최적 트리 보장 x) == 연산은 적은데 성능은 비슷하다"
   ]
  },
  {
   "cell_type": "code",
   "execution_count": null,
   "metadata": {},
   "outputs": [],
   "source": [
    "hyper opt\n",
    "NNI\n"
   ]
  },
  {
   "cell_type": "code",
   "execution_count": null,
   "metadata": {},
   "outputs": [],
   "source": [
    "tree_method='gpu_hist'"
   ]
  }
 ],
 "metadata": {
  "kernelspec": {
   "display_name": "Python 3",
   "language": "python",
   "name": "python3"
  },
  "language_info": {
   "codemirror_mode": {
    "name": "ipython",
    "version": 3
   },
   "file_extension": ".py",
   "mimetype": "text/x-python",
   "name": "python",
   "nbconvert_exporter": "python",
   "pygments_lexer": "ipython3",
   "version": "3.7.6"
  }
 },
 "nbformat": 4,
 "nbformat_minor": 4
}
