{
 "cells": [
  {
   "cell_type": "code",
   "execution_count": 12,
   "metadata": {},
   "outputs": [],
   "source": [
    "import autograd.numpy as np\n",
    "from autograd import grad\n",
    "import numpy as np\n",
    "from scipy.optimize import minimize"
   ]
  },
  {
   "cell_type": "code",
   "execution_count": 13,
   "metadata": {},
   "outputs": [],
   "source": [
    "def objective(X):\n",
    "    x,y,z = X\n",
    "    return x + 2*y +3*z   #f(X)\n",
    "\n",
    "def eq1(X):\n",
    "    x,y,z = X\n",
    "    return x - y + z -1  #g(X)\n",
    "\n",
    "def eq2(X):\n",
    "    x,y,z = X\n",
    "    return x**2 + y**2 -1  #h(X)\n",
    "def F(L):\n",
    "    x, y, z, _lambda, _mu = L\n",
    "    return objective([x,y,z]) - _lambda*eq1([x,y,z]) - _mu*eq2([x,y,z])\n"
   ]
  },
  {
   "cell_type": "code",
   "execution_count": 14,
   "metadata": {},
   "outputs": [
    {
     "name": "stdout",
     "output_type": "stream",
     "text": [
      "라그랑즈 곱수를 이용한 최적점 하나는 (-0.3713906763529852, 0.9284766908858452, 2.2998673672388303)\n",
      "라그랑즈 곱수를 이용한 최적점 다른 하나는 (0.371390676354149, -0.9284766908852784, -0.2998673672394273)\n"
     ]
    }
   ],
   "source": [
    "# gradients of Lagrange function\n",
    "# F값이 0이 되는 solution을 찾는다\n",
    "dfdL = grad(F, 0)\n",
    "\n",
    "def obj(L):\n",
    "    x, y, z, _lambda, _mu = L\n",
    "    dFdx,dFdy,dFdz, dFdlam, dFdmu = dfdL(L) # x,y,z,_lambda,mu로 편미분한 값\n",
    "    return [dFdx,dFdy,dFdz,eq1([x,y,z]),eq2([x,y,z])]\n",
    "\n",
    "from scipy.optimize import fsolve\n",
    "x1,y1,z1,_lam,_mu = fsolve(obj, [0., 0., 0., 3., 3.])\n",
    "x2,y2,z2,_lam,_mu = fsolve(obj, [0., 0., 0., -3., -3.])\n",
    "print(f'라그랑즈 곱수를 이용한 최적점 하나는 {x1, y1, z1}')\n",
    "print(f'라그랑즈 곱수를 이용한 최적점 다른 하나는 {x2, y2, z2}')"
   ]
  },
  {
   "cell_type": "code",
   "execution_count": 15,
   "metadata": {},
   "outputs": [
    {
     "name": "stdout",
     "output_type": "stream",
     "text": [
      "최댓값: 8.385164807135196\n",
      "최솟값: -2.38516480713469\n"
     ]
    }
   ],
   "source": [
    "print('최댓값:',objective([x1,y1,z1]))\n",
    "print('최솟값:',objective([x2,y2,z2]))"
   ]
  },
  {
   "cell_type": "code",
   "execution_count": null,
   "metadata": {},
   "outputs": [],
   "source": []
  }
 ],
 "metadata": {
  "kernelspec": {
   "display_name": "Python 3",
   "language": "python",
   "name": "python3"
  },
  "language_info": {
   "codemirror_mode": {
    "name": "ipython",
    "version": 3
   },
   "file_extension": ".py",
   "mimetype": "text/x-python",
   "name": "python",
   "nbconvert_exporter": "python",
   "pygments_lexer": "ipython3",
   "version": "3.7.6"
  }
 },
 "nbformat": 4,
 "nbformat_minor": 4
}
