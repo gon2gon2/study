{
 "cells": [
  {
   "cell_type": "markdown",
   "metadata": {},
   "source": [
    "### 경로 설정하기\n",
    "- from_dir: 원본이 있는 폴더\n",
    "- to_dir: 원본을 복사해서 저장할 폴더"
   ]
  },
  {
   "cell_type": "code",
   "execution_count": 27,
   "metadata": {},
   "outputs": [],
   "source": [
    "def From_to(from_dir, to_dir):\n",
    "    import os, shutil\n",
    "    \n",
    "    try:\n",
    "        os.mkdir(to_dir)\n",
    "    except:\n",
    "        pass\n",
    "    \n",
    "    fnames = os.listdir(from_dir)\n",
    "    for fname in fnames:\n",
    "        src = os.path.join(from_dir, fname)\n",
    "        dst = os.path.join(to_dir, fname)\n",
    "        shutil.copyfile(src, dst)"
   ]
  },
  {
   "cell_type": "code",
   "execution_count": 28,
   "metadata": {
    "scrolled": true
   },
   "outputs": [],
   "source": [
    "from_to('C:/projects/Data/animal(2)', 'C:/projects/Data/animal')"
   ]
  }
 ],
 "metadata": {
  "kernelspec": {
   "display_name": "Python 3",
   "language": "python",
   "name": "python3"
  },
  "language_info": {
   "codemirror_mode": {
    "name": "ipython",
    "version": 3
   },
   "file_extension": ".py",
   "mimetype": "text/x-python",
   "name": "python",
   "nbconvert_exporter": "python",
   "pygments_lexer": "ipython3",
   "version": "3.7.6"
  }
 },
 "nbformat": 4,
 "nbformat_minor": 4
}
