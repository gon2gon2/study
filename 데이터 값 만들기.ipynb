{
 "cells": [
  {
   "cell_type": "code",
   "execution_count": 1,
   "metadata": {},
   "outputs": [],
   "source": [
    "import pandas as pd\n",
    "import numpy as np"
   ]
  },
  {
   "cell_type": "code",
   "execution_count": 2,
   "metadata": {},
   "outputs": [
    {
     "data": {
      "text/html": [
       "<div>\n",
       "<style scoped>\n",
       "    .dataframe tbody tr th:only-of-type {\n",
       "        vertical-align: middle;\n",
       "    }\n",
       "\n",
       "    .dataframe tbody tr th {\n",
       "        vertical-align: top;\n",
       "    }\n",
       "\n",
       "    .dataframe thead th {\n",
       "        text-align: right;\n",
       "    }\n",
       "</style>\n",
       "<table border=\"1\" class=\"dataframe\">\n",
       "  <thead>\n",
       "    <tr style=\"text-align: right;\">\n",
       "      <th></th>\n",
       "      <th>0</th>\n",
       "      <th>1</th>\n",
       "      <th>2</th>\n",
       "    </tr>\n",
       "  </thead>\n",
       "  <tbody>\n",
       "    <tr>\n",
       "      <th>0</th>\n",
       "      <td>1</td>\n",
       "      <td>2</td>\n",
       "      <td>3</td>\n",
       "    </tr>\n",
       "    <tr>\n",
       "      <th>1</th>\n",
       "      <td>2</td>\n",
       "      <td>3</td>\n",
       "      <td>4</td>\n",
       "    </tr>\n",
       "  </tbody>\n",
       "</table>\n",
       "</div>"
      ],
      "text/plain": [
       "   0  1  2\n",
       "0  1  2  3\n",
       "1  2  3  4"
      ]
     },
     "execution_count": 2,
     "metadata": {},
     "output_type": "execute_result"
    }
   ],
   "source": [
    "a = [[1,2,3],[2,3,4]]\n",
    "[]"
   ]
  },
  {
   "cell_type": "code",
   "execution_count": 43,
   "metadata": {},
   "outputs": [
    {
     "data": {
      "text/plain": [
       "24"
      ]
     },
     "execution_count": 43,
     "metadata": {},
     "output_type": "execute_result"
    }
   ],
   "source": [
    "len(a)"
   ]
  },
  {
   "cell_type": "code",
   "execution_count": 64,
   "metadata": {},
   "outputs": [],
   "source": [
    "table = np.zeros((13,13),dtype='int')\n",
    "\n",
    "a = [[0,1],\n",
    "     [1,0],[1,2],[1,12],\n",
    "     [2,1],[2,3],\n",
    "     [3,2],[3,4],\n",
    "     [4,3],[4,5],\n",
    "     [5,4],[5,6],\n",
    "     [6,5],\n",
    "     [7,8],\n",
    "     [10,6],[10,11],\n",
    "     [11,10],[11,12],\n",
    "     [12,1],[12,11]]"
   ]
  },
  {
   "cell_type": "code",
   "execution_count": 65,
   "metadata": {},
   "outputs": [
    {
     "data": {
      "text/plain": [
       "array([[0, 0, 0, 0, 0, 0, 0, 0, 0, 0, 0, 0, 0],\n",
       "       [0, 0, 0, 0, 0, 0, 0, 0, 0, 0, 0, 0, 0],\n",
       "       [0, 0, 0, 0, 0, 0, 0, 0, 0, 0, 0, 0, 0],\n",
       "       [0, 0, 0, 0, 0, 0, 0, 0, 0, 0, 0, 0, 0],\n",
       "       [0, 0, 0, 0, 0, 0, 0, 0, 0, 0, 0, 0, 0],\n",
       "       [0, 0, 0, 0, 0, 0, 0, 0, 0, 0, 0, 0, 0],\n",
       "       [0, 0, 0, 0, 0, 0, 0, 0, 0, 0, 0, 0, 0],\n",
       "       [0, 0, 0, 0, 0, 0, 0, 0, 0, 0, 0, 0, 0],\n",
       "       [0, 0, 0, 0, 0, 0, 0, 0, 0, 0, 0, 0, 0],\n",
       "       [0, 0, 0, 0, 0, 0, 0, 0, 0, 0, 0, 0, 0],\n",
       "       [0, 0, 0, 0, 0, 0, 0, 0, 0, 0, 0, 0, 0],\n",
       "       [0, 0, 0, 0, 0, 0, 0, 0, 0, 0, 0, 0, 0],\n",
       "       [0, 0, 0, 0, 0, 0, 0, 0, 0, 0, 0, 0, 0]])"
      ]
     },
     "execution_count": 65,
     "metadata": {},
     "output_type": "execute_result"
    }
   ],
   "source": [
    "table"
   ]
  },
  {
   "cell_type": "code",
   "execution_count": 66,
   "metadata": {},
   "outputs": [],
   "source": [
    "for i in a:\n",
    "    x = i[0]\n",
    "    y = i[1]\n",
    "#     print(x,y)\n",
    "    table[x][y] = 2"
   ]
  },
  {
   "cell_type": "code",
   "execution_count": 67,
   "metadata": {},
   "outputs": [],
   "source": [
    "table\n",
    "for i in range(13):\n",
    "    for j in range(13):\n",
    "        if table[i][j]== 0:\n",
    "            table[i][j] = 99999"
   ]
  },
  {
   "cell_type": "code",
   "execution_count": 68,
   "metadata": {},
   "outputs": [
    {
     "data": {
      "text/plain": [
       "array([[99999,     2, 99999, 99999, 99999, 99999, 99999, 99999, 99999,\n",
       "        99999, 99999, 99999, 99999],\n",
       "       [    2, 99999,     2, 99999, 99999, 99999, 99999, 99999, 99999,\n",
       "        99999, 99999, 99999,     2],\n",
       "       [99999,     2, 99999,     2, 99999, 99999, 99999, 99999, 99999,\n",
       "        99999, 99999, 99999, 99999],\n",
       "       [99999, 99999,     2, 99999,     2, 99999, 99999, 99999, 99999,\n",
       "        99999, 99999, 99999, 99999],\n",
       "       [99999, 99999, 99999,     2, 99999,     2, 99999, 99999, 99999,\n",
       "        99999, 99999, 99999, 99999],\n",
       "       [99999, 99999, 99999, 99999,     2, 99999,     2, 99999, 99999,\n",
       "        99999, 99999, 99999, 99999],\n",
       "       [99999, 99999, 99999, 99999, 99999,     2, 99999, 99999, 99999,\n",
       "        99999, 99999, 99999, 99999],\n",
       "       [99999, 99999, 99999, 99999, 99999, 99999, 99999, 99999,     2,\n",
       "        99999, 99999, 99999, 99999],\n",
       "       [99999, 99999, 99999, 99999, 99999, 99999, 99999, 99999, 99999,\n",
       "        99999, 99999, 99999, 99999],\n",
       "       [99999, 99999, 99999, 99999, 99999, 99999, 99999, 99999, 99999,\n",
       "        99999, 99999, 99999, 99999],\n",
       "       [99999, 99999, 99999, 99999, 99999, 99999,     2, 99999, 99999,\n",
       "        99999, 99999,     2, 99999],\n",
       "       [99999, 99999, 99999, 99999, 99999, 99999, 99999, 99999, 99999,\n",
       "        99999,     2, 99999,     2],\n",
       "       [99999,     2, 99999, 99999, 99999, 99999, 99999, 99999, 99999,\n",
       "        99999, 99999,     2, 99999]])"
      ]
     },
     "execution_count": 68,
     "metadata": {},
     "output_type": "execute_result"
    }
   ],
   "source": [
    "table"
   ]
  },
  {
   "cell_type": "code",
   "execution_count": 55,
   "metadata": {},
   "outputs": [],
   "source": [
    "c = []\n",
    "for i in range(3):\n",
    "    c.append(table.tolist())"
   ]
  },
  {
   "cell_type": "code",
   "execution_count": 58,
   "metadata": {
    "scrolled": true
   },
   "outputs": [
    {
     "name": "stdout",
     "output_type": "stream",
     "text": [
      "[[[99999, 2, 99999, 99999, 99999, 99999, 99999, 99999, 99999, 99999, 99999, 99999, 99999], [2, 99999, 2, 99999, 99999, 99999, 99999, 99999, 99999, 99999, 99999, 99999, 2], [99999, 2, 99999, 2, 99999, 99999, 99999, 99999, 99999, 99999, 99999, 99999, 99999], [99999, 99999, 2, 99999, 2, 99999, 99999, 99999, 99999, 99999, 99999, 99999, 99999], [99999, 99999, 99999, 2, 99999, 2, 99999, 99999, 99999, 99999, 99999, 99999, 99999], [99999, 99999, 99999, 99999, 2, 99999, 2, 99999, 99999, 99999, 99999, 99999, 99999], [99999, 99999, 99999, 99999, 99999, 2, 99999, 99999, 99999, 99999, 2, 99999, 99999], [99999, 99999, 99999, 99999, 99999, 99999, 99999, 99999, 2, 99999, 99999, 99999, 99999], [99999, 99999, 99999, 99999, 99999, 99999, 99999, 99999, 99999, 2, 99999, 99999, 99999], [99999, 99999, 99999, 99999, 99999, 99999, 99999, 99999, 2, 99999, 2, 99999, 99999], [99999, 99999, 99999, 99999, 99999, 99999, 99999, 99999, 99999, 2, 99999, 2, 99999], [99999, 99999, 99999, 99999, 99999, 99999, 99999, 99999, 99999, 99999, 2, 99999, 2], [99999, 2, 99999, 99999, 99999, 99999, 99999, 99999, 99999, 99999, 99999, 2, 99999]], [[99999, 2, 99999, 99999, 99999, 99999, 99999, 99999, 99999, 99999, 99999, 99999, 99999], [2, 99999, 2, 99999, 99999, 99999, 99999, 99999, 99999, 99999, 99999, 99999, 2], [99999, 2, 99999, 2, 99999, 99999, 99999, 99999, 99999, 99999, 99999, 99999, 99999], [99999, 99999, 2, 99999, 2, 99999, 99999, 99999, 99999, 99999, 99999, 99999, 99999], [99999, 99999, 99999, 2, 99999, 2, 99999, 99999, 99999, 99999, 99999, 99999, 99999], [99999, 99999, 99999, 99999, 2, 99999, 2, 99999, 99999, 99999, 99999, 99999, 99999], [99999, 99999, 99999, 99999, 99999, 2, 99999, 99999, 99999, 99999, 2, 99999, 99999], [99999, 99999, 99999, 99999, 99999, 99999, 99999, 99999, 2, 99999, 99999, 99999, 99999], [99999, 99999, 99999, 99999, 99999, 99999, 99999, 99999, 99999, 2, 99999, 99999, 99999], [99999, 99999, 99999, 99999, 99999, 99999, 99999, 99999, 2, 99999, 2, 99999, 99999], [99999, 99999, 99999, 99999, 99999, 99999, 99999, 99999, 99999, 2, 99999, 2, 99999], [99999, 99999, 99999, 99999, 99999, 99999, 99999, 99999, 99999, 99999, 2, 99999, 2], [99999, 2, 99999, 99999, 99999, 99999, 99999, 99999, 99999, 99999, 99999, 2, 99999]], [[99999, 2, 99999, 99999, 99999, 99999, 99999, 99999, 99999, 99999, 99999, 99999, 99999], [2, 99999, 2, 99999, 99999, 99999, 99999, 99999, 99999, 99999, 99999, 99999, 2], [99999, 2, 99999, 2, 99999, 99999, 99999, 99999, 99999, 99999, 99999, 99999, 99999], [99999, 99999, 2, 99999, 2, 99999, 99999, 99999, 99999, 99999, 99999, 99999, 99999], [99999, 99999, 99999, 2, 99999, 2, 99999, 99999, 99999, 99999, 99999, 99999, 99999], [99999, 99999, 99999, 99999, 2, 99999, 2, 99999, 99999, 99999, 99999, 99999, 99999], [99999, 99999, 99999, 99999, 99999, 2, 99999, 99999, 99999, 99999, 2, 99999, 99999], [99999, 99999, 99999, 99999, 99999, 99999, 99999, 99999, 2, 99999, 99999, 99999, 99999], [99999, 99999, 99999, 99999, 99999, 99999, 99999, 99999, 99999, 2, 99999, 99999, 99999], [99999, 99999, 99999, 99999, 99999, 99999, 99999, 99999, 2, 99999, 2, 99999, 99999], [99999, 99999, 99999, 99999, 99999, 99999, 99999, 99999, 99999, 2, 99999, 2, 99999], [99999, 99999, 99999, 99999, 99999, 99999, 99999, 99999, 99999, 99999, 2, 99999, 2], [99999, 2, 99999, 99999, 99999, 99999, 99999, 99999, 99999, 99999, 99999, 2, 99999]]]\n"
     ]
    }
   ],
   "source": [
    "print(c)"
   ]
  },
  {
   "cell_type": "code",
   "execution_count": 89,
   "metadata": {},
   "outputs": [],
   "source": [
    "data = pd.read_csv('data.csv',header=None)"
   ]
  },
  {
   "cell_type": "code",
   "execution_count": 90,
   "metadata": {},
   "outputs": [],
   "source": [
    "data = data.fillna(99999)"
   ]
  },
  {
   "cell_type": "code",
   "execution_count": 91,
   "metadata": {},
   "outputs": [],
   "source": [
    "data = data.astype(int)"
   ]
  },
  {
   "cell_type": "code",
   "execution_count": 92,
   "metadata": {},
   "outputs": [
    {
     "data": {
      "text/html": [
       "<div>\n",
       "<style scoped>\n",
       "    .dataframe tbody tr th:only-of-type {\n",
       "        vertical-align: middle;\n",
       "    }\n",
       "\n",
       "    .dataframe tbody tr th {\n",
       "        vertical-align: top;\n",
       "    }\n",
       "\n",
       "    .dataframe thead th {\n",
       "        text-align: right;\n",
       "    }\n",
       "</style>\n",
       "<table border=\"1\" class=\"dataframe\">\n",
       "  <thead>\n",
       "    <tr style=\"text-align: right;\">\n",
       "      <th></th>\n",
       "      <th>0</th>\n",
       "      <th>1</th>\n",
       "      <th>2</th>\n",
       "      <th>3</th>\n",
       "      <th>4</th>\n",
       "      <th>5</th>\n",
       "      <th>6</th>\n",
       "      <th>7</th>\n",
       "      <th>8</th>\n",
       "      <th>9</th>\n",
       "      <th>10</th>\n",
       "      <th>11</th>\n",
       "      <th>12</th>\n",
       "    </tr>\n",
       "  </thead>\n",
       "  <tbody>\n",
       "    <tr>\n",
       "      <th>0</th>\n",
       "      <td>99999</td>\n",
       "      <td>0</td>\n",
       "      <td>99999</td>\n",
       "      <td>99999</td>\n",
       "      <td>99999</td>\n",
       "      <td>99999</td>\n",
       "      <td>99999</td>\n",
       "      <td>99999</td>\n",
       "      <td>99999</td>\n",
       "      <td>99999</td>\n",
       "      <td>99999</td>\n",
       "      <td>99999</td>\n",
       "      <td>99999</td>\n",
       "    </tr>\n",
       "    <tr>\n",
       "      <th>1</th>\n",
       "      <td>0</td>\n",
       "      <td>99999</td>\n",
       "      <td>0</td>\n",
       "      <td>99999</td>\n",
       "      <td>99999</td>\n",
       "      <td>99999</td>\n",
       "      <td>99999</td>\n",
       "      <td>99999</td>\n",
       "      <td>99999</td>\n",
       "      <td>99999</td>\n",
       "      <td>99999</td>\n",
       "      <td>99999</td>\n",
       "      <td>0</td>\n",
       "    </tr>\n",
       "    <tr>\n",
       "      <th>2</th>\n",
       "      <td>99999</td>\n",
       "      <td>0</td>\n",
       "      <td>99999</td>\n",
       "      <td>0</td>\n",
       "      <td>99999</td>\n",
       "      <td>99999</td>\n",
       "      <td>99999</td>\n",
       "      <td>99999</td>\n",
       "      <td>99999</td>\n",
       "      <td>99999</td>\n",
       "      <td>99999</td>\n",
       "      <td>99999</td>\n",
       "      <td>99999</td>\n",
       "    </tr>\n",
       "    <tr>\n",
       "      <th>3</th>\n",
       "      <td>99999</td>\n",
       "      <td>99999</td>\n",
       "      <td>0</td>\n",
       "      <td>99999</td>\n",
       "      <td>0</td>\n",
       "      <td>99999</td>\n",
       "      <td>99999</td>\n",
       "      <td>99999</td>\n",
       "      <td>99999</td>\n",
       "      <td>99999</td>\n",
       "      <td>99999</td>\n",
       "      <td>99999</td>\n",
       "      <td>99999</td>\n",
       "    </tr>\n",
       "    <tr>\n",
       "      <th>4</th>\n",
       "      <td>99999</td>\n",
       "      <td>99999</td>\n",
       "      <td>99999</td>\n",
       "      <td>0</td>\n",
       "      <td>99999</td>\n",
       "      <td>8</td>\n",
       "      <td>99999</td>\n",
       "      <td>99999</td>\n",
       "      <td>99999</td>\n",
       "      <td>99999</td>\n",
       "      <td>99999</td>\n",
       "      <td>99999</td>\n",
       "      <td>99999</td>\n",
       "    </tr>\n",
       "    <tr>\n",
       "      <th>5</th>\n",
       "      <td>99999</td>\n",
       "      <td>99999</td>\n",
       "      <td>99999</td>\n",
       "      <td>99999</td>\n",
       "      <td>4</td>\n",
       "      <td>99999</td>\n",
       "      <td>3</td>\n",
       "      <td>99999</td>\n",
       "      <td>99999</td>\n",
       "      <td>99999</td>\n",
       "      <td>99999</td>\n",
       "      <td>99999</td>\n",
       "      <td>99999</td>\n",
       "    </tr>\n",
       "    <tr>\n",
       "      <th>6</th>\n",
       "      <td>99999</td>\n",
       "      <td>99999</td>\n",
       "      <td>99999</td>\n",
       "      <td>99999</td>\n",
       "      <td>99999</td>\n",
       "      <td>6</td>\n",
       "      <td>99999</td>\n",
       "      <td>6</td>\n",
       "      <td>99999</td>\n",
       "      <td>99999</td>\n",
       "      <td>99999</td>\n",
       "      <td>99999</td>\n",
       "      <td>99999</td>\n",
       "    </tr>\n",
       "    <tr>\n",
       "      <th>7</th>\n",
       "      <td>99999</td>\n",
       "      <td>99999</td>\n",
       "      <td>99999</td>\n",
       "      <td>99999</td>\n",
       "      <td>99999</td>\n",
       "      <td>99999</td>\n",
       "      <td>3</td>\n",
       "      <td>99999</td>\n",
       "      <td>0</td>\n",
       "      <td>99999</td>\n",
       "      <td>99999</td>\n",
       "      <td>99999</td>\n",
       "      <td>99999</td>\n",
       "    </tr>\n",
       "    <tr>\n",
       "      <th>8</th>\n",
       "      <td>99999</td>\n",
       "      <td>99999</td>\n",
       "      <td>99999</td>\n",
       "      <td>99999</td>\n",
       "      <td>99999</td>\n",
       "      <td>99999</td>\n",
       "      <td>99999</td>\n",
       "      <td>0</td>\n",
       "      <td>99999</td>\n",
       "      <td>0</td>\n",
       "      <td>99999</td>\n",
       "      <td>99999</td>\n",
       "      <td>99999</td>\n",
       "    </tr>\n",
       "    <tr>\n",
       "      <th>9</th>\n",
       "      <td>99999</td>\n",
       "      <td>99999</td>\n",
       "      <td>99999</td>\n",
       "      <td>99999</td>\n",
       "      <td>99999</td>\n",
       "      <td>99999</td>\n",
       "      <td>99999</td>\n",
       "      <td>99999</td>\n",
       "      <td>0</td>\n",
       "      <td>99999</td>\n",
       "      <td>0</td>\n",
       "      <td>99999</td>\n",
       "      <td>99999</td>\n",
       "    </tr>\n",
       "    <tr>\n",
       "      <th>10</th>\n",
       "      <td>99999</td>\n",
       "      <td>99999</td>\n",
       "      <td>99999</td>\n",
       "      <td>99999</td>\n",
       "      <td>99999</td>\n",
       "      <td>99999</td>\n",
       "      <td>99999</td>\n",
       "      <td>99999</td>\n",
       "      <td>99999</td>\n",
       "      <td>0</td>\n",
       "      <td>99999</td>\n",
       "      <td>2</td>\n",
       "      <td>99999</td>\n",
       "    </tr>\n",
       "    <tr>\n",
       "      <th>11</th>\n",
       "      <td>99999</td>\n",
       "      <td>99999</td>\n",
       "      <td>99999</td>\n",
       "      <td>99999</td>\n",
       "      <td>99999</td>\n",
       "      <td>99999</td>\n",
       "      <td>99999</td>\n",
       "      <td>99999</td>\n",
       "      <td>99999</td>\n",
       "      <td>99999</td>\n",
       "      <td>4</td>\n",
       "      <td>99999</td>\n",
       "      <td>3</td>\n",
       "    </tr>\n",
       "    <tr>\n",
       "      <th>12</th>\n",
       "      <td>99999</td>\n",
       "      <td>0</td>\n",
       "      <td>99999</td>\n",
       "      <td>99999</td>\n",
       "      <td>99999</td>\n",
       "      <td>99999</td>\n",
       "      <td>99999</td>\n",
       "      <td>99999</td>\n",
       "      <td>99999</td>\n",
       "      <td>99999</td>\n",
       "      <td>99999</td>\n",
       "      <td>6</td>\n",
       "      <td>99999</td>\n",
       "    </tr>\n",
       "  </tbody>\n",
       "</table>\n",
       "</div>"
      ],
      "text/plain": [
       "       0      1      2      3      4      5      6      7      8      9   \\\n",
       "0   99999      0  99999  99999  99999  99999  99999  99999  99999  99999   \n",
       "1       0  99999      0  99999  99999  99999  99999  99999  99999  99999   \n",
       "2   99999      0  99999      0  99999  99999  99999  99999  99999  99999   \n",
       "3   99999  99999      0  99999      0  99999  99999  99999  99999  99999   \n",
       "4   99999  99999  99999      0  99999      8  99999  99999  99999  99999   \n",
       "5   99999  99999  99999  99999      4  99999      3  99999  99999  99999   \n",
       "6   99999  99999  99999  99999  99999      6  99999      6  99999  99999   \n",
       "7   99999  99999  99999  99999  99999  99999      3  99999      0  99999   \n",
       "8   99999  99999  99999  99999  99999  99999  99999      0  99999      0   \n",
       "9   99999  99999  99999  99999  99999  99999  99999  99999      0  99999   \n",
       "10  99999  99999  99999  99999  99999  99999  99999  99999  99999      0   \n",
       "11  99999  99999  99999  99999  99999  99999  99999  99999  99999  99999   \n",
       "12  99999      0  99999  99999  99999  99999  99999  99999  99999  99999   \n",
       "\n",
       "       10     11     12  \n",
       "0   99999  99999  99999  \n",
       "1   99999  99999      0  \n",
       "2   99999  99999  99999  \n",
       "3   99999  99999  99999  \n",
       "4   99999  99999  99999  \n",
       "5   99999  99999  99999  \n",
       "6   99999  99999  99999  \n",
       "7   99999  99999  99999  \n",
       "8   99999  99999  99999  \n",
       "9       0  99999  99999  \n",
       "10  99999      2  99999  \n",
       "11      4  99999      3  \n",
       "12  99999      6  99999  "
      ]
     },
     "execution_count": 92,
     "metadata": {},
     "output_type": "execute_result"
    }
   ],
   "source": [
    "data"
   ]
  },
  {
   "cell_type": "code",
   "execution_count": 93,
   "metadata": {},
   "outputs": [
    {
     "name": "stdout",
     "output_type": "stream",
     "text": [
      "[[99999, 0, 99999, 99999, 99999, 99999, 99999, 99999, 99999, 99999, 99999, 99999, 99999], [0, 99999, 0, 99999, 99999, 99999, 99999, 99999, 99999, 99999, 99999, 99999, 0], [99999, 0, 99999, 0, 99999, 99999, 99999, 99999, 99999, 99999, 99999, 99999, 99999], [99999, 99999, 0, 99999, 0, 99999, 99999, 99999, 99999, 99999, 99999, 99999, 99999], [99999, 99999, 99999, 0, 99999, 8, 99999, 99999, 99999, 99999, 99999, 99999, 99999], [99999, 99999, 99999, 99999, 4, 99999, 3, 99999, 99999, 99999, 99999, 99999, 99999], [99999, 99999, 99999, 99999, 99999, 6, 99999, 6, 99999, 99999, 99999, 99999, 99999], [99999, 99999, 99999, 99999, 99999, 99999, 3, 99999, 0, 99999, 99999, 99999, 99999], [99999, 99999, 99999, 99999, 99999, 99999, 99999, 0, 99999, 0, 99999, 99999, 99999], [99999, 99999, 99999, 99999, 99999, 99999, 99999, 99999, 0, 99999, 0, 99999, 99999], [99999, 99999, 99999, 99999, 99999, 99999, 99999, 99999, 99999, 0, 99999, 2, 99999], [99999, 99999, 99999, 99999, 99999, 99999, 99999, 99999, 99999, 99999, 4, 99999, 3], [99999, 0, 99999, 99999, 99999, 99999, 99999, 99999, 99999, 99999, 99999, 6, 99999]]\n"
     ]
    }
   ],
   "source": [
    "print(data.values.tolist())"
   ]
  },
  {
   "cell_type": "code",
   "execution_count": 23,
   "metadata": {},
   "outputs": [],
   "source": [
    "data = pd.read_csv('data1.csv',header=None)"
   ]
  },
  {
   "cell_type": "code",
   "execution_count": 24,
   "metadata": {},
   "outputs": [],
   "source": [
    "data = data.fillna(99999)"
   ]
  },
  {
   "cell_type": "code",
   "execution_count": 25,
   "metadata": {
    "scrolled": true
   },
   "outputs": [],
   "source": [
    "data = data.astype('int')"
   ]
  },
  {
   "cell_type": "code",
   "execution_count": 27,
   "metadata": {},
   "outputs": [
    {
     "name": "stdout",
     "output_type": "stream",
     "text": [
      "[[99999, 0, 99999, 99999, 99999, 99999, 99999, 99999, 99999, 99999, 99999, 99999, 99999], [0, 99999, 0, 99999, 99999, 99999, 99999, 99999, 99999, 99999, 99999, 99999, 0], [99999, 0, 99999, 0, 99999, 99999, 99999, 99999, 99999, 99999, 99999, 99999, 99999], [99999, 99999, 0, 99999, 0, 99999, 99999, 99999, 99999, 99999, 99999, 99999, 99999], [99999, 99999, 99999, 0, 99999, 8, 99999, 99999, 99999, 99999, 99999, 99999, 99999], [99999, 99999, 99999, 99999, 4, 99999, 3, 99999, 99999, 99999, 99999, 99999, 99999], [99999, 99999, 99999, 99999, 99999, 6, 99999, 6, 99999, 99999, 99999, 99999, 99999], [99999, 99999, 99999, 99999, 99999, 99999, 3, 99999, 0, 99999, 99999, 99999, 99999], [99999, 99999, 99999, 99999, 99999, 99999, 99999, 0, 99999, 0, 99999, 99999, 99999], [99999, 99999, 99999, 99999, 99999, 99999, 99999, 99999, 0, 99999, 0, 99999, 99999], [99999, 99999, 99999, 99999, 99999, 99999, 99999, 99999, 99999, 0, 99999, 2, 99999], [99999, 99999, 99999, 99999, 99999, 99999, 99999, 99999, 99999, 99999, 4, 99999, 3], [99999, 0, 99999, 99999, 99999, 99999, 99999, 99999, 99999, 99999, 99999, 6, 99999]]\n"
     ]
    }
   ],
   "source": [
    "print(data.values.tolist())"
   ]
  },
  {
   "cell_type": "code",
   "execution_count": null,
   "metadata": {},
   "outputs": [],
   "source": []
  },
  {
   "cell_type": "code",
   "execution_count": null,
   "metadata": {},
   "outputs": [],
   "source": []
  },
  {
   "cell_type": "code",
   "execution_count": null,
   "metadata": {},
   "outputs": [],
   "source": []
  },
  {
   "cell_type": "code",
   "execution_count": null,
   "metadata": {},
   "outputs": [],
   "source": []
  },
  {
   "cell_type": "code",
   "execution_count": null,
   "metadata": {},
   "outputs": [],
   "source": []
  },
  {
   "cell_type": "code",
   "execution_count": null,
   "metadata": {},
   "outputs": [],
   "source": []
  },
  {
   "cell_type": "markdown",
   "metadata": {},
   "source": [
    "CAM을 구하기 위해서는 마지막 convolutional layer의 output (= GAP의 input) 과 바로 뒤의 Fully-Connected Layer의 weight, 이렇게 두 가지 정보가 필요합니다. \\(f_k(x, y)\\)를 GAP의 input의 \\(k\\)번째 unit의 \\((x, y)\\) 좌표에 해당하는 값이라고 하고, \\(w_{k}^{c}\\)를 Fully-Connected layer에서 input의 \\(k\\)번째 unit과 output의 \\(c\\)번째 (class)에 대응되는 weight이라고 정의합시다."
   ]
  },
  {
   "cell_type": "code",
   "execution_count": 10,
   "metadata": {},
   "outputs": [],
   "source": [
    "def Lotto() :\n",
    "    ball1 = ball2 = ball3 = ball4 = ball5 = ball6 = ball7 = 0\n",
    "    ball1 = random.randint(1, 45)\n",
    "    while True :\n",
    "        ball2 = random.randint(1,45)\n",
    "        ball3 = random.randint(1,45)\n",
    "        ball4 = random.randint(1,45)\n",
    "        ball5 = random.randint(1,45)\n",
    "        ball6 = random.randint(1,45)\n",
    "        if ball1 != ball2 != ball3 != ball4 != ball5 != ball6:\n",
    "            break\n",
    "\n",
    "    while True :\n",
    "        ball7 = random.randint(1, 45)\n",
    "        if ball7 != ball1 and ball7 != ball2 and ball7 != ball3 and ball7 != ball4 and ball7 != ball5 and ball7 != ball6 :\n",
    "            break\n",
    "    print(str(ball1) + ' ' + str(ball2) + ' ' + str(ball3) + ' ' + str(ball4) + ' ' + str(ball5) + ' ' + str(ball6))\n",
    "    return ball7"
   ]
  },
  {
   "cell_type": "code",
   "execution_count": 11,
   "metadata": {},
   "outputs": [
    {
     "name": "stdout",
     "output_type": "stream",
     "text": [
      "35 42 44 19 34 3\n",
      "Bonus number is 14\n"
     ]
    }
   ],
   "source": [
    "import random\n",
    "ball7 = Lotto()\n",
    "print('Bonus number is ' + str(ball7))"
   ]
  },
  {
   "cell_type": "code",
   "execution_count": 6,
   "metadata": {},
   "outputs": [],
   "source": [
    "a = 1\n",
    "b = 2\n",
    "c = 3"
   ]
  },
  {
   "cell_type": "code",
   "execution_count": 9,
   "metadata": {
    "scrolled": true
   },
   "outputs": [
    {
     "data": {
      "text/plain": [
       "True"
      ]
     },
     "execution_count": 9,
     "metadata": {},
     "output_type": "execute_result"
    }
   ],
   "source": [
    "a != b != c\n"
   ]
  },
  {
   "cell_type": "code",
   "execution_count": 6,
   "metadata": {},
   "outputs": [
    {
     "data": {
      "text/plain": [
       "12.5"
      ]
     },
     "execution_count": 6,
     "metadata": {},
     "output_type": "execute_result"
    }
   ],
   "source": [
    "black/2"
   ]
  },
  {
   "cell_type": "code",
   "execution_count": 25,
   "metadata": {
    "scrolled": true
   },
   "outputs": [
    {
     "name": "stdout",
     "output_type": "stream",
     "text": [
      "Enter a character to print\n",
      "a\n",
      "aaaaaaaaaaaaaaaaaaaaaaaaa\n",
      "25\n",
      " aaaaaaaaaaaaaaaaaaaaaaa\n",
      "23\n",
      "  aaaaaaaaaaaaaaaaaaaaa\n",
      "21\n",
      "   aaaaaaaaaaaaaaaaaaa\n",
      "19\n",
      "    aaaaaaaaaaaaaaaaa\n",
      "17\n",
      "     aaaaaaaaaaaaaaa\n",
      "15\n",
      "      aaaaaaaaaaaaa\n",
      "13\n",
      "       aaaaaaaaaaa\n",
      "11\n",
      "        aaaaaaaaa\n",
      "9\n",
      "         aaaaaaa\n",
      "7\n",
      "          aaaaa\n",
      "5\n",
      "           aaa\n",
      "3\n",
      "            a\n",
      "1\n"
     ]
    }
   ],
   "source": [
    "print('Enter a character to print')\n",
    "ascii = input()\n",
    "\n",
    "white = 0\n",
    "black = 25\n",
    "\n",
    "while white <= black/2:\n",
    "    print(white*' ' + (black - 2*white)*ascii)\n",
    "    print(black - 2*white)\n",
    "    white = white + 1"
   ]
  },
  {
   "cell_type": "code",
   "execution_count": null,
   "metadata": {},
   "outputs": [],
   "source": []
  },
  {
   "cell_type": "code",
   "execution_count": 27,
   "metadata": {},
   "outputs": [
    {
     "name": "stdout",
     "output_type": "stream",
     "text": [
      "Enter a character to print\n",
      "a\n",
      "            a\n",
      "           aaa\n",
      "          aaaaa\n",
      "         aaaaaaa\n",
      "        aaaaaaaaa\n",
      "       aaaaaaaaaaa\n",
      "      aaaaaaaaaaaaa\n",
      "     aaaaaaaaaaaaaaa\n",
      "    aaaaaaaaaaaaaaaaa\n",
      "   aaaaaaaaaaaaaaaaaaa\n",
      "  aaaaaaaaaaaaaaaaaaaaa\n",
      " aaaaaaaaaaaaaaaaaaaaaaa\n"
     ]
    }
   ],
   "source": [
    "print('Enter a character to print')\n",
    "ascii = input()\n",
    "\n",
    "white = 12   #\n",
    "black = 25    \n",
    "while white:\n",
    "    print(white*' ' + (black-(white*2))*ascii)\n",
    "    white = white - 1"
   ]
  }
 ],
 "metadata": {
  "kernelspec": {
   "display_name": "Python 3",
   "language": "python",
   "name": "python3"
  },
  "language_info": {
   "codemirror_mode": {
    "name": "ipython",
    "version": 3
   },
   "file_extension": ".py",
   "mimetype": "text/x-python",
   "name": "python",
   "nbconvert_exporter": "python",
   "pygments_lexer": "ipython3",
   "version": "3.7.6"
  }
 },
 "nbformat": 4,
 "nbformat_minor": 4
}
