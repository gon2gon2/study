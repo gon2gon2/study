{
 "cells": [
  {
   "cell_type": "code",
   "execution_count": 9,
   "id": "computational-merit",
   "metadata": {},
   "outputs": [
    {
     "data": {
      "image/png": "[encoded data removed]",
      "text/plain": [
       "<Figure size 432x288 with 1 Axes>"
      ]
     },
     "metadata": {
      "needs_background": "light"
     },
     "output_type": "display_data"
    }
   ],
   "source": [
    "import numpy as np\n",
    "import matplotlib.pyplot as plt\n",
    "%matplotlib inline\n",
    "\n",
    "np.random.seed(42)\n",
    "\n",
    "# 난수 생성, shape은 100,1\n",
    "# w0 = 6, w1= 4\n",
    "X = 2 * np.random.rand(100,1)\n",
    "y = 6 + 4*X + np.random.rand(100,1)\n",
    "\n",
    "plt.scatter(X,y)\n",
    "plt.plot(X,X*4+6,c='r')\n",
    "plt.savefig('1.jpg')"
   ]
  },
  {
   "cell_type": "code",
   "execution_count": 10,
   "id": "concrete-contents",
   "metadata": {},
   "outputs": [
    {
     "data": {
      "image/png": "[encoded data removed]",
      "text/plain": [
       "<Figure size 432x288 with 1 Axes>"
      ]
     },
     "metadata": {
      "needs_background": "light"
     },
     "output_type": "display_data"
    }
   ],
   "source": [
    "from sklearn.linear_model import LinearRegression as LR\n",
    "\n",
    "yes_inter = LR(normalize=True)\n",
    "no_inter = LR(normalize=False)\n",
    "\n",
    "yes_inter.fit(X,y)\n",
    "no_inter.fit(X,y)\n",
    "\n",
    "###### yes_intercept\n",
    "# w0\n",
    "yes_w0 = yes_inter.intercept_[0]\n",
    "# w1\n",
    "yes_w1 = yes_inter.coef_[0][0]\n",
    "\n",
    "\n",
    "\n",
    "##### no_intercept\n",
    "# w0\n",
    "no_w0 = no_inter.intercept_[0]\n",
    "# w1\n",
    "no_w1 = no_inter.coef_[0][0]\n",
    "\n",
    "plt.scatter(X,y)\n",
    "plt.plot(X, X*yes_w1+yes_w0, c='r', label='normalize=True')\n",
    "# plt.plot(X, X*no_w1+no_w0, c='g', label='normalize=False')\n",
    "# plt.legend()\n",
    "# plt.title('intercept T/F')\n",
    "plt.savefig('1.jpg')"
   ]
  },
  {
   "cell_type": "code",
   "execution_count": null,
   "id": "handed-inside",
   "metadata": {},
   "outputs": [],
   "source": [
    "from sklearn.linear_model import LinearRegression as LR\n",
    "\n",
    "model = LR()\n",
    "model.fit(X,y)\n",
    "\n",
    "절편 = model.intercept_\n",
    "회귀 계수 = model.coef_\n",
    "\n",
    "\n",
    "\n",
    "##### no_intercept\n",
    "# w0\n",
    "no_w0 = no_inter.intercept_[0]\n",
    "# w1\n",
    "no_w1 = no_inter.coef_[0][0]\n",
    "\n",
    "plt.scatter(X,y)\n",
    "plt.plot(X, X*yes_w1+yes_w0, c='r', label='normalize=True')\n",
    "# plt.plot(X, X*no_w1+no_w0, c='g', label='normalize=False')\n",
    "# plt.legend()\n",
    "# plt.title('intercept T/F')\n",
    "plt.savefig('1.jpg'"
   ]
  },
  {
   "cell_type": "code",
   "execution_count": null,
   "id": "metallic-abortion",
   "metadata": {},
   "outputs": [],
   "source": [
    "w0 = yes_inter.intercept_[0]\n",
    "w1 = yes_inter.coef_[0][0]\n",
    "\n",
    "\n",
    "\n",
    "# ##### no_intercept\n",
    "# # w0\n",
    "# no_w0 = no_inter.intercept_[0]\n",
    "# # w1\n",
    "# no_w1 = no_inter.coef_[0][0]\n",
    "\n",
    "plt.scatter(X,y)\n",
    "y = X*w1+w0\n",
    "\n",
    "plt.plot(X, X*w1+w0, c='r', label='normalize=True')"
   ]
  },
  {
   "cell_type": "code",
   "execution_count": 170,
   "id": "conventional-grocery",
   "metadata": {
    "scrolled": false
   },
   "outputs": [
    {
     "data": {
      "text/plain": [
       "6.513597656401036"
      ]
     },
     "execution_count": 170,
     "metadata": {},
     "output_type": "execute_result"
    }
   ],
   "source": [
    "yes_inter.intercept_[0]"
   ]
  },
  {
   "cell_type": "code",
   "execution_count": 82,
   "id": "finished-madagascar",
   "metadata": {},
   "outputs": [],
   "source": [
    "# 오차: 모집단에서 얻은 회귀식과 실제 값의 차이\n",
    "# 잔차: 표본집단에서 얻은 회귀식과 실제 값의 차이"
   ]
  },
  {
   "cell_type": "code",
   "execution_count": 143,
   "id": "awful-thinking",
   "metadata": {},
   "outputs": [],
   "source": [
    "w0, w1 = 0,0"
   ]
  },
  {
   "cell_type": "code",
   "execution_count": 155,
   "id": "human-september",
   "metadata": {},
   "outputs": [],
   "source": [
    "w0 = np.zeros((1,1))"
   ]
  },
  {
   "cell_type": "code",
   "execution_count": 157,
   "id": "coordinated-response",
   "metadata": {},
   "outputs": [
    {
     "data": {
      "text/plain": [
       "array([[0.]])"
      ]
     },
     "execution_count": 157,
     "metadata": {},
     "output_type": "execute_result"
    }
   ],
   "source": [
    "w0.T"
   ]
  },
  {
   "cell_type": "code",
   "execution_count": 175,
   "id": "illegal-chance",
   "metadata": {},
   "outputs": [
    {
     "data": {
      "text/plain": [
       "(0.003, 1.0)"
      ]
     },
     "execution_count": 175,
     "metadata": {},
     "output_type": "execute_result"
    }
   ],
   "source": [
    "3e-3, 1e-0"
   ]
  },
  {
   "cell_type": "code",
   "execution_count": 144,
   "id": "arranged-advocacy",
   "metadata": {},
   "outputs": [],
   "source": [
    "# 비용함수\n",
    "def diff_RSS(w0, w1, X=X, y=y):\n",
    "    y_preds = w0 + w1*X\n",
    "    diff = y - y_preds\n",
    "    return diff, sum(diff ** 2) / len(y)"
   ]
  },
  {
   "cell_type": "code",
   "execution_count": 145,
   "id": "constitutional-india",
   "metadata": {},
   "outputs": [
    {
     "name": "stdout",
     "output_type": "stream",
     "text": [
      "첫 비용함수 값: 118.23449125759434\n"
     ]
    }
   ],
   "source": [
    "lr = 0.01\n",
    "EPOCHS = 10000\n",
    "N = len(y)\n",
    "\n",
    "# 1.현재 가중치를 이용해 첫 비용함수의 값을 계산한다\n",
    "w0, w1 = 0,0 # 가중치는 각각 0으로 초기화\n",
    "\n",
    "diff, cost = diff_RSS(w0, w1)\n",
    "print(f'첫 비용함수 값: {cost[0]}')"
   ]
  },
  {
   "cell_type": "code",
   "execution_count": 150,
   "id": "assigned-missile",
   "metadata": {},
   "outputs": [
    {
     "data": {
      "text/plain": [
       "array([[0.25078568]])"
      ]
     },
     "execution_count": 150,
     "metadata": {},
     "output_type": "execute_result"
    }
   ],
   "source": [
    "w1 = w1 - lr * 2/N * (X.T @ diff)"
   ]
  },
  {
   "cell_type": "code",
   "execution_count": 149,
   "id": "absolute-conspiracy",
   "metadata": {},
   "outputs": [
    {
     "data": {
      "text/plain": [
       "array([[125.39284066]])"
      ]
     },
     "execution_count": 149,
     "metadata": {},
     "output_type": "execute_result"
    }
   ],
   "source": [
    "(X.T @ diff)"
   ]
  },
  {
   "cell_type": "code",
   "execution_count": 148,
   "id": "cultural-internet",
   "metadata": {},
   "outputs": [
    {
     "data": {
      "text/plain": [
       "array([[ 9.01690545],\n",
       "       [14.5756243 ],\n",
       "       [12.68839418],\n",
       "       [11.00160698],\n",
       "       [ 7.42997409],\n",
       "       [ 7.43136067],\n",
       "       [ 6.76891114],\n",
       "       [13.4541656 ],\n",
       "       [11.24086511],\n",
       "       [11.95580976]])"
      ]
     },
     "execution_count": 148,
     "metadata": {},
     "output_type": "execute_result"
    }
   ],
   "source": [
    "diff"
   ]
  },
  {
   "cell_type": "code",
   "execution_count": 137,
   "id": "answering-eclipse",
   "metadata": {
    "scrolled": true
   },
   "outputs": [
    {
     "data": {
      "text/plain": [
       "0.0002"
      ]
     },
     "execution_count": 137,
     "metadata": {},
     "output_type": "execute_result"
    }
   ],
   "source": [
    "lr * 2/N"
   ]
  },
  {
   "cell_type": "code",
   "execution_count": 128,
   "id": "prostate-chorus",
   "metadata": {},
   "outputs": [
    {
     "name": "stderr",
     "output_type": "stream",
     "text": [
      "C:\\Anaconda3\\lib\\site-packages\\ipykernel_launcher.py:5: RuntimeWarning: overflow encountered in square\n",
      "  \"\"\"\n",
      "C:\\Anaconda3\\lib\\site-packages\\ipykernel_launcher.py:5: RuntimeWarning: overflow encountered in add\n",
      "  \"\"\"\n"
     ]
    }
   ],
   "source": [
    "for i in range(EPOCHS): \n",
    "# 2. 가중치를 업데이트 한다\n",
    "    # w1 = w1 - (lr * 2/N * X @ (실 - 예))\n",
    "    # w0 = w0 - (lr * 2/N * (실 - 예))\n",
    "    \n",
    "    w0_factors = np.ones((N, 1))\n",
    "\n",
    "    w1_update =  -lr * 2/N * np.dot(X.T, diff)\n",
    "    w0_update = -lr * 2/N * np.dot(w0_factors.T, diff)\n",
    "    w1 = w1-w1_update\n",
    "    w0 = w0-w0_update\n",
    "    \n",
    "    diff, new_cost = diff_RSS(w0,w1)\n",
    "    \n",
    "# 3. 비용함수가 줄어들면 2를 다시 수행한다. 비용함수가 줄어들지 않으면 break    \n",
    "    \n",
    "    if new_cost < cost:\n",
    "        break\n",
    "    else:\n",
    "        cost = new_cost\n",
    "        continue"
   ]
  },
  {
   "cell_type": "code",
   "execution_count": 129,
   "id": "imposed-montana",
   "metadata": {},
   "outputs": [
    {
     "data": {
      "text/plain": [
       "2434497977376883333578231595037416642766102296709719724082496646960221216338415977495128909567249939454598701909905175063621180673770669734989100371410944"
      ]
     },
     "execution_count": 129,
     "metadata": {},
     "output_type": "execute_result"
    }
   ],
   "source": [
    "int(w0)"
   ]
  },
  {
   "cell_type": "code",
   "execution_count": 130,
   "id": "brazilian-architect",
   "metadata": {},
   "outputs": [
    {
     "data": {
      "text/plain": [
       "-2149529387288381271545922662864144946093594676111374072730054828239623652871045780772635943582521222502253782985637896741803604931880687042438502622953472"
      ]
     },
     "execution_count": 130,
     "metadata": {},
     "output_type": "execute_result"
    }
   ],
   "source": [
    "int(w1)"
   ]
  },
  {
   "cell_type": "code",
   "execution_count": 38,
   "id": "greenhouse-damages",
   "metadata": {},
   "outputs": [
    {
     "data": {
      "text/plain": [
       "array([[ 9.02775014],\n",
       "       [14.24212486],\n",
       "       [12.17030752],\n",
       "       [11.29783856],\n",
       "       [ 8.1557156 ],\n",
       "       [ 7.49724839],\n",
       "       [ 6.87505182],\n",
       "       [13.6849603 ],\n",
       "       [11.03771826],\n",
       "       [11.74156053],\n",
       "       [ 6.45442741],\n",
       "       [13.9205001 ],\n",
       "       [13.58923878],\n",
       "       [ 8.50683326],\n",
       "       [ 8.08800349],\n",
       "       [ 8.33869667],\n",
       "       [ 9.23761002],\n",
       "       [10.38462151],\n",
       "       [10.34811915],\n",
       "       [ 8.86917536],\n",
       "       [11.70226331],\n",
       "       [ 8.01204219],\n",
       "       [ 8.65516066],\n",
       "       [ 9.04094667],\n",
       "       [ 9.87649504],\n",
       "       [12.70851548],\n",
       "       [ 8.41540502],\n",
       "       [10.97460609],\n",
       "       [10.74626868],\n",
       "       [ 6.8823506 ],\n",
       "       [11.27776982],\n",
       "       [ 7.5863008 ],\n",
       "       [ 6.64027811],\n",
       "       [13.92869947],\n",
       "       [14.66796597],\n",
       "       [12.79038172],\n",
       "       [ 8.95570078],\n",
       "       [ 7.48439587],\n",
       "       [11.83749381],\n",
       "       [10.49300203],\n",
       "       [ 7.93875317],\n",
       "       [10.21319758],\n",
       "       [ 6.77235667],\n",
       "       [13.57544153],\n",
       "       [ 8.35508035],\n",
       "       [11.33706522],\n",
       "       [ 9.10325294],\n",
       "       [10.66322319],\n",
       "       [10.42516099],\n",
       "       [ 7.75748211],\n",
       "       [14.66494291],\n",
       "       [12.44062448],\n",
       "       [13.6608864 ],\n",
       "       [13.64807156],\n",
       "       [11.76885028],\n",
       "       [13.61704915],\n",
       "       [ 7.38007556],\n",
       "       [ 8.32948251],\n",
       "       [ 6.59945586],\n",
       "       [ 9.33085899],\n",
       "       [ 9.47720145],\n",
       "       [ 8.80309808],\n",
       "       [13.26342978],\n",
       "       [ 9.3898013 ],\n",
       "       [ 8.33776585],\n",
       "       [11.17687116],\n",
       "       [ 7.44817386],\n",
       "       [12.60409436],\n",
       "       [ 6.63718029],\n",
       "       [14.48598844],\n",
       "       [12.85552252],\n",
       "       [ 7.60631328],\n",
       "       [ 6.55627   ],\n",
       "       [12.7501872 ],\n",
       "       [12.30003154],\n",
       "       [12.00642377],\n",
       "       [12.86110051],\n",
       "       [ 6.97909256],\n",
       "       [ 9.80445582],\n",
       "       [ 7.06447342],\n",
       "       [13.24589376],\n",
       "       [11.09985854],\n",
       "       [ 9.57187782],\n",
       "       [ 7.38580616],\n",
       "       [ 8.7458002 ],\n",
       "       [ 9.26145062],\n",
       "       [12.65407163],\n",
       "       [11.65566058],\n",
       "       [13.62735252],\n",
       "       [10.01957169],\n",
       "       [ 7.04985674],\n",
       "       [12.60317406],\n",
       "       [12.98669845],\n",
       "       [11.12331904],\n",
       "       [12.50676723],\n",
       "       [10.29957435],\n",
       "       [10.90781831],\n",
       "       [10.31743841],\n",
       "       [ 7.09043944],\n",
       "       [ 7.64300696]])"
      ]
     },
     "execution_count": 38,
     "metadata": {},
     "output_type": "execute_result"
    }
   ],
   "source": [
    "cost"
   ]
  },
  {
   "cell_type": "code",
   "execution_count": 33,
   "id": "simple-charger",
   "metadata": {},
   "outputs": [],
   "source": [
    "def RSS(w0, w1, X=X, y=y):\n",
    "    y_preds = w0 + w1*X\n",
    "    return y - y_preds"
   ]
  },
  {
   "cell_type": "code",
   "execution_count": 35,
   "id": "agreed-palace",
   "metadata": {},
   "outputs": [
    {
     "data": {
      "text/plain": [
       "array([[ 9.02775014],\n",
       "       [14.24212486],\n",
       "       [12.17030752],\n",
       "       [11.29783856],\n",
       "       [ 8.1557156 ],\n",
       "       [ 7.49724839],\n",
       "       [ 6.87505182],\n",
       "       [13.6849603 ],\n",
       "       [11.03771826],\n",
       "       [11.74156053],\n",
       "       [ 6.45442741],\n",
       "       [13.9205001 ],\n",
       "       [13.58923878],\n",
       "       [ 8.50683326],\n",
       "       [ 8.08800349],\n",
       "       [ 8.33869667],\n",
       "       [ 9.23761002],\n",
       "       [10.38462151],\n",
       "       [10.34811915],\n",
       "       [ 8.86917536],\n",
       "       [11.70226331],\n",
       "       [ 8.01204219],\n",
       "       [ 8.65516066],\n",
       "       [ 9.04094667],\n",
       "       [ 9.87649504],\n",
       "       [12.70851548],\n",
       "       [ 8.41540502],\n",
       "       [10.97460609],\n",
       "       [10.74626868],\n",
       "       [ 6.8823506 ],\n",
       "       [11.27776982],\n",
       "       [ 7.5863008 ],\n",
       "       [ 6.64027811],\n",
       "       [13.92869947],\n",
       "       [14.66796597],\n",
       "       [12.79038172],\n",
       "       [ 8.95570078],\n",
       "       [ 7.48439587],\n",
       "       [11.83749381],\n",
       "       [10.49300203],\n",
       "       [ 7.93875317],\n",
       "       [10.21319758],\n",
       "       [ 6.77235667],\n",
       "       [13.57544153],\n",
       "       [ 8.35508035],\n",
       "       [11.33706522],\n",
       "       [ 9.10325294],\n",
       "       [10.66322319],\n",
       "       [10.42516099],\n",
       "       [ 7.75748211],\n",
       "       [14.66494291],\n",
       "       [12.44062448],\n",
       "       [13.6608864 ],\n",
       "       [13.64807156],\n",
       "       [11.76885028],\n",
       "       [13.61704915],\n",
       "       [ 7.38007556],\n",
       "       [ 8.32948251],\n",
       "       [ 6.59945586],\n",
       "       [ 9.33085899],\n",
       "       [ 9.47720145],\n",
       "       [ 8.80309808],\n",
       "       [13.26342978],\n",
       "       [ 9.3898013 ],\n",
       "       [ 8.33776585],\n",
       "       [11.17687116],\n",
       "       [ 7.44817386],\n",
       "       [12.60409436],\n",
       "       [ 6.63718029],\n",
       "       [14.48598844],\n",
       "       [12.85552252],\n",
       "       [ 7.60631328],\n",
       "       [ 6.55627   ],\n",
       "       [12.7501872 ],\n",
       "       [12.30003154],\n",
       "       [12.00642377],\n",
       "       [12.86110051],\n",
       "       [ 6.97909256],\n",
       "       [ 9.80445582],\n",
       "       [ 7.06447342],\n",
       "       [13.24589376],\n",
       "       [11.09985854],\n",
       "       [ 9.57187782],\n",
       "       [ 7.38580616],\n",
       "       [ 8.7458002 ],\n",
       "       [ 9.26145062],\n",
       "       [12.65407163],\n",
       "       [11.65566058],\n",
       "       [13.62735252],\n",
       "       [10.01957169],\n",
       "       [ 7.04985674],\n",
       "       [12.60317406],\n",
       "       [12.98669845],\n",
       "       [11.12331904],\n",
       "       [12.50676723],\n",
       "       [10.29957435],\n",
       "       [10.90781831],\n",
       "       [10.31743841],\n",
       "       [ 7.09043944],\n",
       "       [ 7.64300696]])"
      ]
     },
     "execution_count": 35,
     "metadata": {},
     "output_type": "execute_result"
    }
   ],
   "source": []
  },
  {
   "cell_type": "code",
   "execution_count": null,
   "id": "creative-september",
   "metadata": {},
   "outputs": [],
   "source": []
  },
  {
   "cell_type": "code",
   "execution_count": null,
   "id": "invalid-booking",
   "metadata": {},
   "outputs": [],
   "source": []
  },
  {
   "cell_type": "code",
   "execution_count": null,
   "id": "informal-strengthening",
   "metadata": {},
   "outputs": [],
   "source": []
  },
  {
   "cell_type": "code",
   "execution_count": null,
   "id": "national-fields",
   "metadata": {},
   "outputs": [],
   "source": []
  },
  {
   "cell_type": "code",
   "execution_count": null,
   "id": "comprehensive-advancement",
   "metadata": {},
   "outputs": [],
   "source": []
  },
  {
   "cell_type": "code",
   "execution_count": null,
   "id": "parental-picnic",
   "metadata": {},
   "outputs": [],
   "source": []
  },
  {
   "cell_type": "code",
   "execution_count": null,
   "id": "innocent-allocation",
   "metadata": {},
   "outputs": [],
   "source": []
  },
  {
   "cell_type": "code",
   "execution_count": null,
   "id": "social-dance",
   "metadata": {},
   "outputs": [],
   "source": []
  },
  {
   "cell_type": "code",
   "execution_count": null,
   "id": "foster-federation",
   "metadata": {},
   "outputs": [],
   "source": []
  },
  {
   "cell_type": "code",
   "execution_count": null,
   "id": "micro-poultry",
   "metadata": {},
   "outputs": [],
   "source": []
  },
  {
   "cell_type": "code",
   "execution_count": null,
   "id": "final-aside",
   "metadata": {},
   "outputs": [],
   "source": []
  },
  {
   "cell_type": "code",
   "execution_count": null,
   "id": "angry-jamaica",
   "metadata": {},
   "outputs": [],
   "source": []
  },
  {
   "cell_type": "code",
   "execution_count": null,
   "id": "verbal-centre",
   "metadata": {},
   "outputs": [],
   "source": []
  },
  {
   "cell_type": "code",
   "execution_count": null,
   "id": "exterior-provider",
   "metadata": {},
   "outputs": [],
   "source": []
  },
  {
   "cell_type": "code",
   "execution_count": null,
   "id": "demonstrated-wonder",
   "metadata": {},
   "outputs": [],
   "source": []
  },
  {
   "cell_type": "code",
   "execution_count": null,
   "id": "respected-import",
   "metadata": {},
   "outputs": [],
   "source": [
    "def get_weight_updates(w1, w0, X, y, learning_rate=0.01):\n",
    "    N = len(y)\n",
    "    \n",
    "    w1_update = np.zeros_like(w1)\n",
    "    w0_update = np.zeros_like(w0)\n",
    "    \n",
    "    y_pred = np.dot(X, w1.T) + w0\n",
    "    diff = y - y_pred\n",
    "    \n",
    "    w0_factors = np.ones((N,1))\n",
    "    \n",
    "    w1_update = -(2/N)*learning_rate*(np.dot(X.T, diff))\n",
    "    w0_update = -(2/N)*learning_rate*(np.dot(w0_factors, diff))\n",
    "    \n",
    "    return w1_update, w0_update"
   ]
  },
  {
   "cell_type": "code",
   "execution_count": 14,
   "id": "reasonable-scale",
   "metadata": {},
   "outputs": [
    {
     "data": {
      "text/plain": [
       "array([1.63992287e-01, 5.83165683e-01, 1.49318815e-04, 7.70559514e-01,\n",
       "       7.88962330e-01, 6.57623218e-01, 9.49013387e-01, 5.47140882e-01,\n",
       "       9.07817001e-01, 2.28376282e-01, 6.86513047e-01, 8.56579286e-01,\n",
       "       7.02559969e-01, 5.06924102e-01, 9.29656915e-01, 7.09878410e-01,\n",
       "       7.62019607e-01, 8.53102057e-01, 6.82598987e-01, 7.58637489e-01,\n",
       "       2.83380556e-03, 8.44201366e-02, 5.74717200e-01, 8.77081957e-01,\n",
       "       6.12797223e-01, 3.74644596e-01, 9.86727141e-01, 4.26889944e-01,\n",
       "       9.28619523e-01, 4.38412904e-01, 6.26528759e-01, 5.08413930e-01,\n",
       "       3.23519558e-01, 8.43982135e-01, 4.26333257e-01, 5.86783637e-01,\n",
       "       3.50255873e-01, 4.27645365e-01, 9.57895280e-01, 4.41430696e-02,\n",
       "       3.69218808e-01, 1.84940146e-01, 6.59753279e-01, 6.49802591e-01,\n",
       "       9.28427736e-01, 9.11899809e-02, 8.13009584e-01, 7.32501559e-01,\n",
       "       7.82887052e-01, 2.42891298e-01, 2.59868937e-01, 2.41369392e-01,\n",
       "       1.31579020e-01, 5.56576840e-01, 9.55103587e-01, 2.98707775e-01,\n",
       "       6.45056621e-01, 5.00540816e-01, 6.89604725e-01, 3.93864847e-01,\n",
       "       2.11432320e-01, 9.15188270e-01, 7.35012095e-02, 8.38833926e-01,\n",
       "       1.85552813e-02, 3.87708214e-01, 3.56851475e-01, 8.31753362e-01,\n",
       "       5.48554693e-02, 6.56546136e-01, 3.91886177e-02, 5.31237379e-01,\n",
       "       8.14883518e-01, 1.81493833e-01, 3.45265783e-01, 1.51650487e-01,\n",
       "       8.10893137e-01, 9.70770736e-01, 3.58361147e-01, 5.42555888e-01,\n",
       "       5.86353257e-01, 3.22916527e-02, 5.58319299e-01, 9.41987333e-02,\n",
       "       9.16313902e-01, 4.83004212e-01, 9.36808886e-01, 1.22534929e-01,\n",
       "       6.35738956e-01, 1.96254876e-01, 1.81529605e-01, 8.39451348e-01,\n",
       "       6.45304784e-01, 1.48873356e-01, 1.71090227e-02, 6.56145834e-01,\n",
       "       4.35352037e-01, 1.49943800e-02, 4.78759790e-01, 5.44316376e-01])"
      ]
     },
     "execution_count": 14,
     "metadata": {},
     "output_type": "execute_result"
    }
   ],
   "source": [
    "np.random.rand(100,1)"
   ]
  }
 ],
 "metadata": {
  "kernelspec": {
   "display_name": "Python 3",
   "language": "python",
   "name": "python3"
  },
  "language_info": {
   "codemirror_mode": {
    "name": "ipython",
    "version": 3
   },
   "file_extension": ".py",
   "mimetype": "text/x-python",
   "name": "python",
   "nbconvert_exporter": "python",
   "pygments_lexer": "ipython3",
   "version": "3.7.6"
  }
 },
 "nbformat": 4,
 "nbformat_minor": 5
}
