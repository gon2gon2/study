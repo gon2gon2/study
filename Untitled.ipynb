{
 "cells": [
  {
   "cell_type": "code",
   "execution_count": 2,
   "id": "pointed-pennsylvania",
   "metadata": {},
   "outputs": [],
   "source": [
    "\n",
    "a = np.array([[0,1,5],[-1,3,2]])\n",
    "b = np.array([[1,2],[3,0],[-1,4]])"
   ]
  },
  {
   "cell_type": "code",
   "execution_count": 6,
   "id": "renewable-screening",
   "metadata": {},
   "outputs": [
    {
     "data": {
      "text/plain": [
       "array([[-2,  7,  9],\n",
       "       [ 0,  3, 15],\n",
       "       [-4, 11,  3]])"
      ]
     },
     "execution_count": 6,
     "metadata": {},
     "output_type": "execute_result"
    }
   ],
   "source": [
    "np.dot(b,a)"
   ]
  },
  {
   "cell_type": "code",
   "execution_count": 13,
   "id": "strong-replica",
   "metadata": {},
   "outputs": [],
   "source": [
    "import numpy as np\n",
    "import numpy.linalg as lin\n",
    "\n",
    "a = np.array([[2,3,4],[3,4,5],[-1,1,1]])\n",
    "b = lin.inv(a)\n",
    "c = np.dot(a,b)"
   ]
  },
  {
   "cell_type": "code",
   "execution_count": 19,
   "id": "bigger-ordering",
   "metadata": {},
   "outputs": [
    {
     "name": "stdout",
     "output_type": "stream",
     "text": [
      "[[-0.5  0.5 -0.5]\n",
      " [-4.   3.   1. ]\n",
      " [ 3.5 -2.5 -0.5]]\n"
     ]
    }
   ],
   "source": [
    "print(b)"
   ]
  },
  {
   "cell_type": "code",
   "execution_count": 17,
   "id": "associate-scanner",
   "metadata": {},
   "outputs": [
    {
     "name": "stdout",
     "output_type": "stream",
     "text": [
      "[[ 1.0000000e+00  0.0000000e+00  4.4408921e-16]\n",
      " [ 0.0000000e+00  1.0000000e+00  0.0000000e+00]\n",
      " [-4.4408921e-16  0.0000000e+00  1.0000000e+00]]\n"
     ]
    }
   ],
   "source": [
    "print(c)"
   ]
  },
  {
   "cell_type": "code",
   "execution_count": 18,
   "id": "indirect-cambodia",
   "metadata": {
    "scrolled": true
   },
   "outputs": [
    {
     "name": "stdout",
     "output_type": "stream",
     "text": [
      "[[1 0 0]\n",
      " [0 1 0]\n",
      " [0 0 1]]\n"
     ]
    }
   ],
   "source": [
    "print(c.astype(int))"
   ]
  },
  {
   "cell_type": "code",
   "execution_count": 8,
   "id": "satisfactory-virginia",
   "metadata": {},
   "outputs": [],
   "source": []
  },
  {
   "cell_type": "code",
   "execution_count": 10,
   "id": "considered-merit",
   "metadata": {},
   "outputs": [
    {
     "data": {
      "text/plain": [
       "array([[ 2,  3, -1],\n",
       "       [ 3,  4,  1],\n",
       "       [ 4,  5,  1]])"
      ]
     },
     "execution_count": 10,
     "metadata": {},
     "output_type": "execute_result"
    }
   ],
   "source": [
    "a.T"
   ]
  },
  {
   "cell_type": "code",
   "execution_count": 11,
   "id": "blond-roulette",
   "metadata": {},
   "outputs": [
    {
     "data": {
      "text/plain": [
       "array([[-0.5,  0.5, -0.5],\n",
       "       [-4. ,  3. ,  1. ],\n",
       "       [ 3.5, -2.5, -0.5]])"
      ]
     },
     "execution_count": 11,
     "metadata": {},
     "output_type": "execute_result"
    }
   ],
   "source": [
    "lin.inv(a)"
   ]
  }
 ],
 "metadata": {
  "kernelspec": {
   "display_name": "Python 3",
   "language": "python",
   "name": "python3"
  },
  "language_info": {
   "codemirror_mode": {
    "name": "ipython",
    "version": 3
   },
   "file_extension": ".py",
   "mimetype": "text/x-python",
   "name": "python",
   "nbconvert_exporter": "python",
   "pygments_lexer": "ipython3",
   "version": "3.7.6"
  }
 },
 "nbformat": 4,
 "nbformat_minor": 5
}
