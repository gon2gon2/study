{
 "cells": [
  {
   "cell_type": "markdown",
   "metadata": {},
   "source": [
    "CAM을 구하기 위해서는 마지막 convolutional layer의 output (= GAP의 input) 과 바로 뒤의 Fully-Connected Layer의 weight, 이렇게 두 가지 정보가 필요합니다. \\(f_k(x, y)\\)를 GAP의 input의 \\(k\\)번째 unit의 \\((x, y)\\) 좌표에 해당하는 값이라고 하고, \\(w_{k}^{c}\\)를 Fully-Connected layer에서 input의 \\(k\\)번째 unit과 output의 \\(c\\)번째 (class)에 대응되는 weight이라고 정의합시다."
   ]
  },
  {
   "cell_type": "code",
   "execution_count": 10,
   "metadata": {},
   "outputs": [],
   "source": [
    "def Lotto() :\n",
    "    ball1 = ball2 = ball3 = ball4 = ball5 = ball6 = ball7 = 0\n",
    "    ball1 = random.randint(1, 45)\n",
    "    while True :\n",
    "        ball2 = random.randint(1,45)\n",
    "        ball3 = random.randint(1,45)\n",
    "        ball4 = random.randint(1,45)\n",
    "        ball5 = random.randint(1,45)\n",
    "        ball6 = random.randint(1,45)\n",
    "        if ball1 != ball2 != ball3 != ball4 != ball5 != ball6:\n",
    "            break\n",
    "\n",
    "    while True :\n",
    "        ball7 = random.randint(1, 45)\n",
    "        if ball7 != ball1 and ball7 != ball2 and ball7 != ball3 and ball7 != ball4 and ball7 != ball5 and ball7 != ball6 :\n",
    "            break\n",
    "    print(str(ball1) + ' ' + str(ball2) + ' ' + str(ball3) + ' ' + str(ball4) + ' ' + str(ball5) + ' ' + str(ball6))\n",
    "    return ball7"
   ]
  },
  {
   "cell_type": "code",
   "execution_count": 11,
   "metadata": {},
   "outputs": [
    {
     "name": "stdout",
     "output_type": "stream",
     "text": [
      "35 42 44 19 34 3\n",
      "Bonus number is 14\n"
     ]
    }
   ],
   "source": [
    "import random\n",
    "ball7 = Lotto()\n",
    "print('Bonus number is ' + str(ball7))"
   ]
  },
  {
   "cell_type": "code",
   "execution_count": 6,
   "metadata": {},
   "outputs": [],
   "source": [
    "a = 1\n",
    "b = 2\n",
    "c = 3"
   ]
  },
  {
   "cell_type": "code",
   "execution_count": 9,
   "metadata": {
    "scrolled": true
   },
   "outputs": [
    {
     "data": {
      "text/plain": [
       "True"
      ]
     },
     "execution_count": 9,
     "metadata": {},
     "output_type": "execute_result"
    }
   ],
   "source": [
    "a != b != c\n"
   ]
  },
  {
   "cell_type": "code",
   "execution_count": 23,
   "metadata": {},
   "outputs": [],
   "source": [
    "def minus1(x):\n",
    "    x -= 1\n",
    "    return x"
   ]
  },
  {
   "cell_type": "code",
   "execution_count": 20,
   "metadata": {},
   "outputs": [
    {
     "name": "stdout",
     "output_type": "stream",
     "text": [
      "10\n"
     ]
    }
   ],
   "source": [
    "a = 10\n",
    "print(a)"
   ]
  },
  {
   "cell_type": "code",
   "execution_count": 21,
   "metadata": {},
   "outputs": [],
   "source": [
    "minus1(a)"
   ]
  },
  {
   "cell_type": "code",
   "execution_count": 24,
   "metadata": {},
   "outputs": [
    {
     "data": {
      "text/plain": [
       "10"
      ]
     },
     "execution_count": 24,
     "metadata": {},
     "output_type": "execute_result"
    }
   ],
   "source": [
    "a"
   ]
  },
  {
   "cell_type": "code",
   "execution_count": 25,
   "metadata": {},
   "outputs": [],
   "source": [
    "import random\n",
    "a = []\n",
    "for i in range(10000):\n",
    "    a.append(random.randint(1,100))"
   ]
  },
  {
   "cell_type": "code",
   "execution_count": 27,
   "metadata": {
    "scrolled": true
   },
   "outputs": [
    {
     "data": {
      "text/plain": [
       "1"
      ]
     },
     "execution_count": 27,
     "metadata": {},
     "output_type": "execute_result"
    }
   ],
   "source": [
    "min(a)"
   ]
  },
  {
   "cell_type": "code",
   "execution_count": 28,
   "metadata": {},
   "outputs": [],
   "source": [
    "a = []\n",
    "for i in range(10000):\n",
    "    a.append(random.randrange(1,100))"
   ]
  },
  {
   "cell_type": "code",
   "execution_count": 29,
   "metadata": {
    "scrolled": true
   },
   "outputs": [
    {
     "data": {
      "text/plain": [
       "99"
      ]
     },
     "execution_count": 29,
     "metadata": {},
     "output_type": "execute_result"
    }
   ],
   "source": [
    "max(a)"
   ]
  },
  {
   "cell_type": "code",
   "execution_count": 30,
   "metadata": {},
   "outputs": [],
   "source": [
    "a = []\n",
    "for i in range(10000):\n",
    "    a.append(random.randint(0,101))"
   ]
  },
  {
   "cell_type": "code",
   "execution_count": 31,
   "metadata": {},
   "outputs": [
    {
     "data": {
      "text/plain": [
       "101"
      ]
     },
     "execution_count": 31,
     "metadata": {},
     "output_type": "execute_result"
    }
   ],
   "source": [
    "max(a)"
   ]
  }
 ],
 "metadata": {
  "kernelspec": {
   "display_name": "Python 3",
   "language": "python",
   "name": "python3"
  },
  "language_info": {
   "codemirror_mode": {
    "name": "ipython",
    "version": 3
   },
   "file_extension": ".py",
   "mimetype": "text/x-python",
   "name": "python",
   "nbconvert_exporter": "python",
   "pygments_lexer": "ipython3",
   "version": "3.7.6"
  }
 },
 "nbformat": 4,
 "nbformat_minor": 4
}
