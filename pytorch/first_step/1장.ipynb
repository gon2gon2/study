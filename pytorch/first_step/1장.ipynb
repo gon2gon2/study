{
 "cells": [
  {
   "cell_type": "markdown",
   "metadata": {},
   "source": [
    "## 1.1.1 파이토치의 구성\n",
    "- torch: 메인 네임스페이스, 다양한 수학 함수 포함, Numpy와 같은 구조\n",
    "- torch.autograd: 자동 미분을 위한 함수가 포함, 자동 미분 on/off, Function 클래스 포함\n",
    "- torch.nn: 신경망 구서을 위한 데이터 구조나 레이어 등이 정의\n",
    "- torch.optim: SGD를 중심으로 한 파라미터 최적화 알고리즘 구현되어 있음\n",
    "- torch.utils.data: SGD의 반복 연상을 위한 미니 배치용 유틸리티 함수\n",
    "- torch.onnx: 모델 export를 위한 사용"
   ]
  },
  {
   "cell_type": "markdown",
   "metadata": {},
   "source": [
    "### 1.2.1 텐서 생성과 변환\n",
    "- arange\n",
    "- linespace\n",
    "- logspace\n",
    "- zeros\n",
    "- ones"
   ]
  },
  {
   "cell_type": "code",
   "execution_count": 1,
   "metadata": {},
   "outputs": [
    {
     "data": {
      "text/plain": [
       "torch.Size([100, 10])"
      ]
     },
     "execution_count": 1,
     "metadata": {},
     "output_type": "execute_result"
    }
   ],
   "source": [
    "# 1.1 텐서 생성\n",
    "import numpy as np\n",
    "import torch\n",
    "\n",
    "# 중첩 list를 지정\n",
    "t = torch.tensor([[1,2],[3,4.]])\n",
    "\n",
    "# device를 지정하면 GPU에 텐서 생성 가능\n",
    "t = torch.tensor([[1,2],[3,4.]], device = 'cuda:0')\n",
    "\n",
    "# dtype 지정 가능\n",
    "t = torch.tensor([[1,2],[3,4.]], dtype=torch.float64)\n",
    "\n",
    "# 0부터 9까지로 초기화된 1차원 텐서\n",
    "t= torch.arange(0,10)\n",
    "\n",
    "# 모든 값이 0인 100 x 10의 텐서를 작성 후 to 메서드로 GPU에 전송\n",
    "t = torch.zeros(100,10).to(\"cuda:0\")\n",
    "\n",
    "# 정규 난수로 100 x 10의 텐서 작성\n",
    "t = torch.randn(100,10)\n",
    "\n",
    "# 텐서의 shape의 size 메서드로 확인 가능\n",
    "t.size()\n"
   ]
  },
  {
   "cell_type": "code",
   "execution_count": 4,
   "metadata": {},
   "outputs": [],
   "source": [
    "# 1.2 텐서 변환 예\n",
    "# numpy 메서드를 사용해 ndarray로 변환\n",
    "t = torch.tensor([[1,2],[3,4.]])\n",
    "x = t.numpy()\n",
    "\n",
    "# GPU 상의 텐서는 to 메서드로 CPU의 텐서로 이동(변환)할 필요가 있다.\n",
    "t = torch.tensor([[1,2],[3,4.]], device='cuda:0')\n",
    "x = t.to(\"cpu\").numpy()"
   ]
  },
  {
   "cell_type": "code",
   "execution_count": 7,
   "metadata": {},
   "outputs": [],
   "source": [
    "# 1.3 텐서의 인덱스 조작\n",
    "t = torch.tensor([[1,2,3],[4,5,6.]])\n",
    "\n",
    "# 스칼라 첨자 지정\n",
    "t[0,2]\n",
    "\n",
    "# 슬라이스로 지정\n",
    "t[:,:2]\n",
    "\n",
    "# 리스트로 지정\n",
    "t[:,[1,2]]\n",
    "\n",
    "# 마스크\n",
    "t[t>3]\n",
    "\n",
    "# 0,1의 요소를 100으로 설정\n",
    "t[0,1]=100\n",
    "\n",
    "# 슬라이스를 사용한 일괄 대입\n",
    "t[:,1]= 200\n",
    "\n",
    "# 마스크로 특정 요소만 치환\n",
    "t[t>10] = 20"
   ]
  },
  {
   "cell_type": "markdown",
   "metadata": {},
   "source": [
    "### 1.2.3 텐서연산"
   ]
  },
  {
   "cell_type": "code",
   "execution_count": 8,
   "metadata": {},
   "outputs": [],
   "source": [
    "# 1.4 텐서 연산\n",
    "# 길이 3인 벡터\n",
    "v = torch.tensor([1,2,3.])\n",
    "w = torch.tensor([0,10,20.])\n",
    "\n",
    "# 2*3의 행렬\n",
    "m = torch.tensor([[0,1,2],[100,200,300.]])"
   ]
  },
  {
   "cell_type": "code",
   "execution_count": 9,
   "metadata": {},
   "outputs": [
    {
     "name": "stdout",
     "output_type": "stream",
     "text": [
      "tensor([1., 2., 3.])\n",
      "tensor([11., 12., 13.])\n"
     ]
    }
   ],
   "source": [
    "# 벡터와 스칼라의 덧셈\n",
    "print(v)\n",
    "v2 = v + 10\n",
    "print(v2)"
   ]
  },
  {
   "cell_type": "code",
   "execution_count": 10,
   "metadata": {},
   "outputs": [
    {
     "name": "stdout",
     "output_type": "stream",
     "text": [
      "tensor([1., 2., 3.])\n",
      "tensor([1., 4., 9.])\n"
     ]
    }
   ],
   "source": [
    "# 제곱\n",
    "print(v)\n",
    "v2 = v ** 2\n",
    "print(v2)"
   ]
  },
  {
   "cell_type": "code",
   "execution_count": 11,
   "metadata": {},
   "outputs": [
    {
     "name": "stdout",
     "output_type": "stream",
     "text": [
      "tensor([  1.,  -8., -17.])\n"
     ]
    }
   ],
   "source": [
    "# 동일 길이의 뺄셈\n",
    "z = v - w\n",
    "print(z)"
   ]
  },
  {
   "cell_type": "code",
   "execution_count": 12,
   "metadata": {},
   "outputs": [
    {
     "name": "stdout",
     "output_type": "stream",
     "text": [
      "tensor([ 8.,  9., 10.])\n"
     ]
    }
   ],
   "source": [
    "# 여러 조합\n",
    "u = 2 * v - w / 10 + 6.0\n",
    "print(u)"
   ]
  },
  {
   "cell_type": "code",
   "execution_count": 13,
   "metadata": {},
   "outputs": [
    {
     "data": {
      "text/plain": [
       "tensor([[  0.,   1.,   2.],\n",
       "        [100., 200., 300.]])"
      ]
     },
     "execution_count": 13,
     "metadata": {},
     "output_type": "execute_result"
    }
   ],
   "source": [
    "# 행렬과 스칼라\n",
    "m"
   ]
  },
  {
   "cell_type": "code",
   "execution_count": 14,
   "metadata": {},
   "outputs": [
    {
     "data": {
      "text/plain": [
       "tensor([[  0.,   2.,   4.],\n",
       "        [200., 400., 600.]])"
      ]
     },
     "execution_count": 14,
     "metadata": {},
     "output_type": "execute_result"
    }
   ],
   "source": [
    "m2 = m * 2.0\n",
    "m2"
   ]
  },
  {
   "cell_type": "code",
   "execution_count": 16,
   "metadata": {},
   "outputs": [
    {
     "name": "stdout",
     "output_type": "stream",
     "text": [
      "tensor([[  0.,   1.,   2.],\n",
      "        [100., 200., 300.]])\n",
      "tensor([1., 2., 3.])\n",
      "tensor([[  1.,   3.,   5.],\n",
      "        [101., 202., 303.]])\n"
     ]
    }
   ],
   "source": [
    "print(m) # 2,3\n",
    "print(v) # 3, \n",
    "m3 = m + v # 브로드 캐스팅\n",
    "print(m3)"
   ]
  },
  {
   "cell_type": "code",
   "execution_count": 17,
   "metadata": {},
   "outputs": [
    {
     "name": "stdout",
     "output_type": "stream",
     "text": [
      "tensor([[  0.,   1.,   2.],\n",
      "        [100., 200., 300.]])\n",
      "tensor([[  0.,   2.,   4.],\n",
      "        [200., 400., 600.]])\n"
     ]
    }
   ],
   "source": [
    "print(m)\n",
    "m4 = m + m \n",
    "print(m4)"
   ]
  },
  {
   "cell_type": "markdown",
   "metadata": {},
   "source": [
    "### 채널 변환"
   ]
  },
  {
   "cell_type": "code",
   "execution_count": 18,
   "metadata": {},
   "outputs": [
    {
     "data": {
      "text/plain": [
       "torch.Size([100, 64, 32, 3])"
      ]
     },
     "execution_count": 18,
     "metadata": {},
     "output_type": "execute_result"
    }
   ],
   "source": [
    "hwc_img_data = torch.rand(100,64,32,3)\n",
    "hwc_img_data.size()"
   ]
  },
  {
   "cell_type": "code",
   "execution_count": 19,
   "metadata": {},
   "outputs": [
    {
     "data": {
      "text/plain": [
       "torch.Size([100, 32, 64, 3])"
      ]
     },
     "execution_count": 19,
     "metadata": {},
     "output_type": "execute_result"
    }
   ],
   "source": [
    "hwc_img_data.transpose(1,2).size()"
   ]
  },
  {
   "cell_type": "code",
   "execution_count": 20,
   "metadata": {},
   "outputs": [
    {
     "data": {
      "text/plain": [
       "torch.Size([100, 3, 64, 32])"
      ]
     },
     "execution_count": 20,
     "metadata": {},
     "output_type": "execute_result"
    }
   ],
   "source": [
    "hwc_img_data.transpose(1,2).transpose(1,3).size()"
   ]
  },
  {
   "cell_type": "markdown",
   "metadata": {},
   "source": [
    "## 선형 대수의 대표연산자\n",
    "- dot: 벡터 내적\n",
    "- mv: 행렬 * 벡터\n",
    "- mm: 행렬 * 행렬\n",
    "- matmul: 인수에 따라 dot, mv, mm을 수행\n",
    "- gesv: LU 분해를 사용한 연립방정식의 해\n",
    "- eig, symeig: 고유값 분해\n",
    "- svd: 특이값 분해"
   ]
  },
  {
   "cell_type": "code",
   "execution_count": 22,
   "metadata": {},
   "outputs": [
    {
     "name": "stdout",
     "output_type": "stream",
     "text": [
      "tensor([-0.2016, -0.8494, -1.1139, -0.8698, -0.7927, -0.1147, -0.0324,  0.2516,\n",
      "         1.5696,  0.0460])\n",
      "tensor(5.9311)\n"
     ]
    }
   ],
   "source": [
    "# 1.7 연산 예\n",
    "m = torch.randn(100,10)\n",
    "v = torch.randn(10)\n",
    "\n",
    "# 내적 : 같은 index 끼리 곱하기\n",
    "print(v)\n",
    "d = torch.dot(v,v)\n",
    "print(d)"
   ]
  },
  {
   "cell_type": "code",
   "execution_count": 24,
   "metadata": {},
   "outputs": [
    {
     "name": "stdout",
     "output_type": "stream",
     "text": [
      "torch.Size([100, 10])\n",
      "torch.Size([10])\n",
      "torch.Size([100])\n"
     ]
    }
   ],
   "source": [
    "# 행렬 x 벡터\n",
    "print(m.size())\n",
    "print(v.size())\n",
    "v2 = torch.mv(m,v)\n",
    "print(v2.size())"
   ]
  },
  {
   "cell_type": "code",
   "execution_count": 26,
   "metadata": {},
   "outputs": [
    {
     "name": "stdout",
     "output_type": "stream",
     "text": [
      "torch.Size([100, 10])\n",
      "torch.Size([10, 100])\n",
      "torch.Size([10, 10])\n"
     ]
    }
   ],
   "source": [
    "print(m.size())\n",
    "print(m.t().size())\n",
    "m2 = torch.mm(m.t(),m)\n",
    "print(m2.size())"
   ]
  },
  {
   "cell_type": "code",
   "execution_count": 27,
   "metadata": {},
   "outputs": [],
   "source": [
    "u,s,v = torch.svd(m)"
   ]
  },
  {
   "cell_type": "code",
   "execution_count": 30,
   "metadata": {},
   "outputs": [
    {
     "name": "stdout",
     "output_type": "stream",
     "text": [
      "torch.Size([100, 10]) torch.Size([10]) torch.Size([10, 10])\n"
     ]
    }
   ],
   "source": [
    "print(u.size(),s.size(),v.size())"
   ]
  },
  {
   "cell_type": "markdown",
   "metadata": {},
   "source": [
    "## 1.3 텐서와 자동 미분"
   ]
  },
  {
   "cell_type": "code",
   "execution_count": 31,
   "metadata": {
    "scrolled": true
   },
   "outputs": [
    {
     "name": "stdout",
     "output_type": "stream",
     "text": [
      "x.size(): torch.Size([100, 3])\n",
      "a.size(): torch.Size([3])\n",
      "y.size(): torch.Size([100])\n",
      "o.size(): torch.Size([])\n"
     ]
    }
   ],
   "source": [
    "# \n",
    "x = torch.randn(100,3)\n",
    "a = torch.tensor([1,2,3.], requires_grad = True)\n",
    "print('x.size():',x.size())\n",
    "print('a.size():',a.size())\n",
    "\n",
    "# \n",
    "y = torch.mv(x,a)\n",
    "print('y.size():',y.size())\n",
    "o = y.sum()\n",
    "print('o.size():',o.size())"
   ]
  },
  {
   "cell_type": "code",
   "execution_count": 36,
   "metadata": {},
   "outputs": [],
   "source": [
    "o.backward()"
   ]
  },
  {
   "cell_type": "code",
   "execution_count": 37,
   "metadata": {},
   "outputs": [
    {
     "data": {
      "text/plain": [
       "tensor([True, True, True])"
      ]
     },
     "execution_count": 37,
     "metadata": {},
     "output_type": "execute_result"
    }
   ],
   "source": [
    "a.grad != x.sum(0)"
   ]
  },
  {
   "cell_type": "code",
   "execution_count": 32,
   "metadata": {
    "scrolled": true
   },
   "outputs": [
    {
     "data": {
      "text/plain": [
       "-5.578537940979004"
      ]
     },
     "execution_count": 32,
     "metadata": {},
     "output_type": "execute_result"
    }
   ],
   "source": [
    "o.item()"
   ]
  },
  {
   "cell_type": "code",
   "execution_count": 33,
   "metadata": {},
   "outputs": [
    {
     "data": {
      "text/plain": [
       "True"
      ]
     },
     "execution_count": 33,
     "metadata": {},
     "output_type": "execute_result"
    }
   ],
   "source": [
    "x.grad is None"
   ]
  }
 ],
 "metadata": {
  "kernelspec": {
   "display_name": "Python 3",
   "language": "python",
   "name": "python3"
  },
  "language_info": {
   "codemirror_mode": {
    "name": "ipython",
    "version": 3
   },
   "file_extension": ".py",
   "mimetype": "text/x-python",
   "name": "python",
   "nbconvert_exporter": "python",
   "pygments_lexer": "ipython3",
   "version": "3.7.6"
  }
 },
 "nbformat": 4,
 "nbformat_minor": 4
}
