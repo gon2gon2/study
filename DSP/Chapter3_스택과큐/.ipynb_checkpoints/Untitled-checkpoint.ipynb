{
 "cells": [
  {
   "cell_type": "code",
   "execution_count": 82,
   "metadata": {},
   "outputs": [
    {
     "data": {
      "text/plain": [
       "4"
      ]
     },
     "execution_count": 82,
     "metadata": {},
     "output_type": "execute_result"
    }
   ],
   "source": [
    "8//2"
   ]
  },
  {
   "cell_type": "code",
   "execution_count": 83,
   "metadata": {},
   "outputs": [],
   "source": [
    "x = 'paap'"
   ]
  },
  {
   "cell_type": "code",
   "execution_count": 87,
   "metadata": {
    "scrolled": true
   },
   "outputs": [
    {
     "ename": "NameError",
     "evalue": "name 'reverse' is not defined",
     "output_type": "error",
     "traceback": [
      "\u001b[1;31m---------------------------------------------------------------------------\u001b[0m",
      "\u001b[1;31mNameError\u001b[0m                                 Traceback (most recent call last)",
      "\u001b[1;32m<ipython-input-87-84286a5fa817>\u001b[0m in \u001b[0;36m<module>\u001b[1;34m\u001b[0m\n\u001b[1;32m----> 1\u001b[1;33m \u001b[0mreverse\u001b[0m\u001b[1;33m(\u001b[0m\u001b[1;34m'pa'\u001b[0m\u001b[1;33m)\u001b[0m\u001b[1;33m\u001b[0m\u001b[1;33m\u001b[0m\u001b[0m\n\u001b[0m",
      "\u001b[1;31mNameError\u001b[0m: name 'reverse' is not defined"
     ]
    }
   ],
   "source": []
  },
  {
   "cell_type": "code",
   "execution_count": 93,
   "metadata": {},
   "outputs": [],
   "source": [
    "x = '1234'"
   ]
  },
  {
   "cell_type": "code",
   "execution_count": 97,
   "metadata": {},
   "outputs": [],
   "source": [
    "\n",
    "if len(x)%2 == 0:\n",
    "    front_half = x[:n]\n",
    "    rear_half = x[n:]\n",
    "    \n",
    "else:\n",
    "    front_half = x[:n]\n",
    "    rear_half = x[n+1:]"
   ]
  },
  {
   "cell_type": "code",
   "execution_count": 12,
   "metadata": {},
   "outputs": [],
   "source": [
    "x = \"appa\""
   ]
  },
  {
   "cell_type": "code",
   "execution_count": 45,
   "metadata": {},
   "outputs": [
    {
     "ename": "IndentationError",
     "evalue": "unexpected unindent (<ipython-input-45-aa1d710fd3ed>, line 20)",
     "output_type": "error",
     "traceback": [
      "\u001b[1;36m  File \u001b[1;32m\"<ipython-input-45-aa1d710fd3ed>\"\u001b[1;36m, line \u001b[1;32m20\u001b[0m\n\u001b[1;33m    else:\u001b[0m\n\u001b[1;37m         ^\u001b[0m\n\u001b[1;31mIndentationError\u001b[0m\u001b[1;31m:\u001b[0m unexpected unindent\n"
     ]
    }
   ],
   "source": [
    "# 스트링의 앞 절반을 읽어 stack에 push한 후\n",
    "n = len(x)//2\n",
    "stack=[]\n",
    "for i in range(0,n):\n",
    "    stack.append(x[i])\n",
    "\n",
    "if len(x)%2 == 0:\n",
    "    for i in range(n,len(x)):\n",
    "        \n",
    "        try:\n",
    "            p = stack.pop(0)\n",
    "            if x[i] != p:\n",
    "                print('회문이 아닙니다')\n",
    "                break\n",
    "                \n",
    "            else:\n",
    "                print(x[i], '==', p)\n",
    "                \n",
    "                \n",
    "else:\n",
    "    for i in range(n+1,len(x)):\n",
    "        try:\n",
    "            p = stack.pop()\n",
    "            if x[i] != p:\n",
    "                print('회문이 아닙니다')\n",
    "                break\n",
    "            else:\n",
    "                print(x[i],'==',p)\n",
    "                \n",
    "if len(stack) == 0:\n",
    "    print('회문입니다')"
   ]
  },
  {
   "cell_type": "code",
   "execution_count": null,
   "metadata": {},
   "outputs": [],
   "source": []
  },
  {
   "cell_type": "code",
   "execution_count": 95,
   "metadata": {},
   "outputs": [
    {
     "data": {
      "text/plain": [
       "'12'"
      ]
     },
     "execution_count": 95,
     "metadata": {},
     "output_type": "execute_result"
    }
   ],
   "source": [
    "front_half"
   ]
  },
  {
   "cell_type": "code",
   "execution_count": 96,
   "metadata": {},
   "outputs": [
    {
     "data": {
      "text/plain": [
       "'34'"
      ]
     },
     "execution_count": 96,
     "metadata": {},
     "output_type": "execute_result"
    }
   ],
   "source": [
    "rear_half"
   ]
  },
  {
   "cell_type": "code",
   "execution_count": 80,
   "metadata": {},
   "outputs": [
    {
     "name": "stdout",
     "output_type": "stream",
     "text": [
      "stack에(를 추가했습니다 ['(']\n",
      "stack에{를 추가했습니다 ['(', '{']\n",
      "stack에(를 추가했습니다 ['(', '{', '(']\n",
      "stack에(를 추가했습니다 ['(', '{', '(', '(']\n",
      "stack: []\n",
      "짝이 맞습니다\n"
     ]
    }
   ],
   "source": [
    "stack = []\n",
    "lst1 = ['(', '{', '(', '(', ')', ')', '}', ')']\n",
    "\n",
    "def opp(x):\n",
    "    if x == '(':\n",
    "        return ')'\n",
    "    elif x == '{':\n",
    "        return '}'\n",
    "\n",
    "for i in lst1:\n",
    "    \n",
    "    if i == \"{\" or i == \"(\":\n",
    "        stack.append(i)\n",
    "        print('stack에'+i+'를 추가했습니다',stack)\n",
    "        \n",
    "        \n",
    "    elif i == \"}\" or i == \")\":\n",
    "        a = stack.pop()\n",
    "#         print('a는',a)\n",
    "        if i != opp(a):\n",
    "#             print('i는',i)\n",
    "#             print('opp(a)',opp(a))\n",
    "            print('회문이 아닙니다')\n",
    "            break\n",
    "        \n",
    "if len(stack) == 0:\n",
    "    print('stack:',stack)\n",
    "    print('짝이 맞습니다')"
   ]
  },
  {
   "cell_type": "code",
   "execution_count": 64,
   "metadata": {},
   "outputs": [],
   "source": [
    "stack = []\n"
   ]
  },
  {
   "cell_type": "code",
   "execution_count": 30,
   "metadata": {},
   "outputs": [
    {
     "name": "stdout",
     "output_type": "stream",
     "text": [
      "(를 push 했습니다\n",
      "stack: ['(']\n",
      "{를 push 했습니다\n",
      "stack: ['(', '{']\n",
      "(를 push 했습니다\n",
      "stack: ['(', '{', '(']\n",
      "(를 push 했습니다\n",
      "stack: ['(', '{', '(', '(']\n",
      "4번째 (의 짝이 맞지 않습니다\n"
     ]
    }
   ],
   "source": [
    "inp = ['(', '{', '(', '(', ')',  '}', ')']\n",
    "def push(a):\n",
    "    stack.append(a)\n",
    "    \n",
    "def pp():\n",
    "    x = stack.pop()\n",
    "    return x\n",
    "cnt = 0\n",
    "stack = []\n",
    "for i in inp:\n",
    "    cnt += 1\n",
    "    if i == '(' or i =='{':\n",
    "        push(i)                 # stack에 push한다\n",
    "        print(i+'를 push 했습니다')\n",
    "        print('stack:',stack)\n",
    "        \n",
    "    elif i == ')' or i=='}':\n",
    "        a = pp()            # stack에서 pop하고 비교한다\n",
    "        if a != i:\n",
    "            print('%d번째 %s의 짝이 맞지 않습니다'%(cnt-1, inp[cnt-2]))\n",
    "            break"
   ]
  },
  {
   "cell_type": "code",
   "execution_count": 31,
   "metadata": {},
   "outputs": [],
   "source": [
    "x = 'RACECAR'"
   ]
  },
  {
   "cell_type": "code",
   "execution_count": 32,
   "metadata": {},
   "outputs": [
    {
     "data": {
      "text/plain": [
       "7"
      ]
     },
     "execution_count": 32,
     "metadata": {},
     "output_type": "execute_result"
    }
   ],
   "source": [
    "center = len(x)+1"
   ]
  },
  {
   "cell_type": "code",
   "execution_count": 62,
   "metadata": {},
   "outputs": [
    {
     "data": {
      "text/plain": [
       "2"
      ]
     },
     "execution_count": 62,
     "metadata": {},
     "output_type": "execute_result"
    }
   ],
   "source": [
    "len('sttr')//2"
   ]
  },
  {
   "cell_type": "code",
   "execution_count": 59,
   "metadata": {},
   "outputs": [],
   "source": [
    "def palin(x):\n",
    "    assert type(x) == str\n",
    "    \n",
    "    \n",
    "    # 짝수인 경우\n",
    "    if len(x)%2 == 0:\n",
    "        center = len(x)//2\n",
    "        stack=[]\n",
    "        rear=x[center:]\n",
    "        \n",
    "        \n",
    "        \n",
    "        \n",
    "        \n",
    "        \n",
    "        \n",
    "        \n",
    "        \n",
    "        \n",
    "        \n",
    "        \n",
    "        \n",
    "        \n",
    "    else:\n",
    "        center = len(x)//2 + 1\n",
    "\n",
    "    stack = []\n",
    "    for i in range(len(x)):\n",
    "        if i < center:\n",
    "            stack.append(x[i])\n",
    "            print(x[i]+'가 추가 됨')\n",
    "            print('push 후:', stack)\n",
    "            \n",
    "            \n",
    "        elif i > center:\n",
    "            pp = stack.pop()\n",
    "            if pp != x[i]:\n",
    "                print('회문이 아닙니다')\n",
    "                break\n",
    "                \n",
    "                \n",
    "#         print('회문입니다.')"
   ]
  },
  {
   "cell_type": "code",
   "execution_count": 60,
   "metadata": {},
   "outputs": [
    {
     "name": "stdout",
     "output_type": "stream",
     "text": [
      "P가 추가 됨\n",
      "push 후: ['P']\n",
      "A가 추가 됨\n",
      "push 후: ['P', 'A']\n",
      "회문이 아닙니다\n"
     ]
    }
   ],
   "source": [
    "palin('PAAP')"
   ]
  },
  {
   "cell_type": "code",
   "execution_count": 46,
   "metadata": {},
   "outputs": [],
   "source": [
    "from collections import deque\n",
    "dq = deque(\"ABCXYZ\")"
   ]
  },
  {
   "cell_type": "code",
   "execution_count": 47,
   "metadata": {
    "scrolled": true
   },
   "outputs": [
    {
     "data": {
      "text/plain": [
       "deque(['A', 'B', 'C', 'X', 'Y', 'Z'])"
      ]
     },
     "execution_count": 47,
     "metadata": {},
     "output_type": "execute_result"
    }
   ],
   "source": [
    "dq"
   ]
  },
  {
   "cell_type": "code",
   "execution_count": 53,
   "metadata": {},
   "outputs": [],
   "source": [
    "dq = ['A', 'B', 'C', 'X', 'Y', 'Z']"
   ]
  },
  {
   "cell_type": "code",
   "execution_count": 54,
   "metadata": {},
   "outputs": [],
   "source": [
    "def delete():\n",
    "    dq.pop(0)\n",
    "    print(dq)\n",
    "def insert(a):\n",
    "    dq.append(a)\n",
    "    print(dq)"
   ]
  },
  {
   "cell_type": "code",
   "execution_count": 55,
   "metadata": {},
   "outputs": [
    {
     "name": "stdout",
     "output_type": "stream",
     "text": [
      "['B', 'C', 'X', 'Y', 'Z']\n"
     ]
    }
   ],
   "source": [
    "delete()"
   ]
  },
  {
   "cell_type": "code",
   "execution_count": 56,
   "metadata": {},
   "outputs": [
    {
     "name": "stdout",
     "output_type": "stream",
     "text": [
      "['C', 'X', 'Y', 'Z']\n"
     ]
    }
   ],
   "source": [
    "delete()"
   ]
  },
  {
   "cell_type": "code",
   "execution_count": 80,
   "metadata": {},
   "outputs": [],
   "source": [
    "def pal_check(st):\n",
    "    stack = []\n",
    "    letters = list(st)  # 문자열을 리스트 화\n",
    "    n = len(st)         # 문자열의 길이 n\n",
    "    h = n//2            # 앞부분까지의 인덱싱을 위한 h\n",
    "    \n",
    "    # 앞부분을 stack에 push 한다.\n",
    "    for i in range(h):\n",
    "        stack.append(letters[i])\n",
    "    \n",
    "    # 짝수면\n",
    "    if n%2 == 0:\n",
    "\n",
    "        for i in range(h,n):\n",
    "            temp = stack.pop()\n",
    "            if temp != letters[i]:\n",
    "                print('회문이 아닙니다')\n",
    "                break\n",
    "    \n",
    "    \n",
    "    # 홀수면\n",
    "    else:\n",
    "\n",
    "        for i in range(h+1,n): # 홀수는 중간 문자를 버리고 지나감\n",
    "            temp = stack.pop()\n",
    "            if temp != letters[i]:\n",
    "                print('회문이 아닙니다')\n",
    "                break\n",
    "    \n",
    "    \n",
    "    \n",
    "    \n",
    "    # 비교하면서 stack에서 하나씩 뺴고, 스택이 비면 회문.\n",
    "    \n",
    "    if len(stack) == 0:\n",
    "        print('회문입니다')"
   ]
  },
  {
   "cell_type": "code",
   "execution_count": 83,
   "metadata": {},
   "outputs": [
    {
     "name": "stdout",
     "output_type": "stream",
     "text": [
      "회문입니다\n"
     ]
    }
   ],
   "source": [
    "pal_check(\"paperrepap\")"
   ]
  },
  {
   "cell_type": "markdown",
   "metadata": {},
   "source": [
    "# 후위표기법 - > 중위표기법 변환기"
   ]
  },
  {
   "cell_type": "code",
   "execution_count": 86,
   "metadata": {},
   "outputs": [
    {
     "name": "stdout",
     "output_type": "stream",
     "text": [
      "후위를 입력AB+CD-*\n"
     ]
    },
    {
     "data": {
      "text/plain": [
       "'((A+B)*(C-D))'"
      ]
     },
     "execution_count": 86,
     "metadata": {},
     "output_type": "execute_result"
    }
   ],
   "source": [
    "stack = []\n",
    "four = ['+','-','*','/']\n",
    "result = ''\n",
    "\n",
    "def postcal(st):\n",
    "    n = len(st)\n",
    "    temp = list(st)\n",
    "\n",
    "    # 연산 기호인지 확인\n",
    "    for i in temp:\n",
    "        if i in four:\n",
    "            rear = stack.pop()\n",
    "            front = stack.pop()\n",
    "            pare = '('+front+i+rear+')'\n",
    "            stack.append(pare)\n",
    "\n",
    "        else:\n",
    "            stack.append(i)\n",
    "\n",
    "\n",
    "    return stack[-1]\n",
    "\n",
    "\n",
    "x = input('후위를 입력')\n",
    "postcal(x)\n"
   ]
  },
  {
   "cell_type": "markdown",
   "metadata": {},
   "source": [
    "# 후위표기법 계산기"
   ]
  },
  {
   "cell_type": "code",
   "execution_count": 92,
   "metadata": {
    "scrolled": false
   },
   "outputs": [
    {
     "name": "stdout",
     "output_type": "stream",
     "text": [
      "후위를 입력25+3*21+*\n"
     ]
    },
    {
     "data": {
      "text/plain": [
       "63"
      ]
     },
     "execution_count": 92,
     "metadata": {},
     "output_type": "execute_result"
    }
   ],
   "source": [
    "stack = []\n",
    "four = ['+','-','*','/']       # 사칙연산 기호 집합\n",
    "\n",
    "def postcal(st):\n",
    "    n = len(st)\n",
    "    temp = list(st) \n",
    "\n",
    "    # 연산 기호인지 확인\n",
    "    for i in temp:\n",
    "        \n",
    "        if i in four:\n",
    "\n",
    "            rear = int(stack.pop())\n",
    "            front = int(stack.pop())\n",
    "\n",
    "            if i == '+':\n",
    "                pare = front + rear\n",
    "                stack.append(pare)\n",
    "            elif i == '-':\n",
    "                pare = front - rear\n",
    "                stack.append(pare)\n",
    "            elif i == '*':\n",
    "                pare = front * rear\n",
    "                stack.append(pare)\n",
    "            elif i == '/':\n",
    "                pare = front / rear\n",
    "                stack.append(pare)\n",
    "        else:    \n",
    "            pare = i\n",
    "            stack.append(pare)\n",
    "\n",
    "\n",
    "    return stack[-1]\n",
    "\n",
    "\n",
    "x = input('후위를 입력')\n",
    "postcal(x)"
   ]
  },
  {
   "cell_type": "markdown",
   "metadata": {},
   "source": [
    "# 중위표기법 -> 후위표기법 변환기"
   ]
  },
  {
   "cell_type": "code",
   "execution_count": 2,
   "metadata": {},
   "outputs": [],
   "source": [
    "inp = '((A+B)*(C+D))'"
   ]
  },
  {
   "cell_type": "code",
   "execution_count": 3,
   "metadata": {
    "scrolled": false
   },
   "outputs": [
    {
     "name": "stdout",
     "output_type": "stream",
     "text": [
      "['(', '(', 'A', '+', 'B', ')', '*', '(', 'C', '+', 'D', ')', ')']\n"
     ]
    }
   ],
   "source": [
    "lst = list(inp)\n",
    "print(lst)"
   ]
  },
  {
   "cell_type": "code",
   "execution_count": 1,
   "metadata": {},
   "outputs": [],
   "source": [
    "def find_pare(lst):\n",
    "    f_list = []\n",
    "    s_list = []\n",
    "    for i in range(len(lst)):\n",
    "        \n",
    "        if lst[i] == '(':\n",
    "            f_list.append(i)\n",
    "            \n",
    "        elif lst[i] == ')':\n",
    "            s_list.append(i)\n",
    "            \n",
    "    return f_list, s_list"
   ]
  },
  {
   "cell_type": "code",
   "execution_count": 4,
   "metadata": {},
   "outputs": [],
   "source": [
    "def find_oper(lst):\n",
    "    oper_idx = []\n",
    "    four = ['+','-','*','/']\n",
    "    for i in range(len(lst)):\n",
    "        if lst[i] in four:\n",
    "            oper_idx.append(i)\n",
    "    return oper_idx"
   ]
  },
  {
   "cell_type": "code",
   "execution_count": null,
   "metadata": {},
   "outputs": [],
   "source": [
    "def rf(ab):\n",
    "    stack =[]\n",
    "    op_idx = find_oper(ab)[0]\n",
    "    op = ab[op_idx]\n",
    "    front = ab[1:op_idx]\n",
    "    rear = ab[op_idx+1:-1]\n",
    "    stack.append(front[0])\n",
    "    stack.append(rear[0])\n",
    "    stack.append(op)\n",
    "    return stack"
   ]
  },
  {
   "cell_type": "code",
   "execution_count": null,
   "metadata": {},
   "outputs": [],
   "source": [
    "def find_bound(s):\n",
    "    start, end = find_pare(lst)\n",
    "    start = start[0]\n",
    "    end = end[-1]\n",
    "    return start, end"
   ]
  },
  {
   "cell_type": "code",
   "execution_count": 11,
   "metadata": {},
   "outputs": [],
   "source": [
    "def app(s):\n",
    "    start, end = find_bound(s)\n",
    "    return s[start+1:end]"
   ]
  },
  {
   "cell_type": "code",
   "execution_count": 14,
   "metadata": {},
   "outputs": [
    {
     "data": {
      "text/plain": [
       "['A', '+', 'B', ')', '*', '(', 'C', '+', 'D', ')']"
      ]
     },
     "execution_count": 14,
     "metadata": {},
     "output_type": "execute_result"
    }
   ],
   "source": [
    "app(app(lst))"
   ]
  },
  {
   "cell_type": "code",
   "execution_count": 7,
   "metadata": {},
   "outputs": [],
   "source": [
    "def find_bound(s):\n",
    "    start, end = find_pare(lst)\n",
    "    start = start[0]\n",
    "    end = end[-1]\n",
    "    return start, end"
   ]
  },
  {
   "cell_type": "code",
   "execution_count": 5,
   "metadata": {
    "scrolled": true
   },
   "outputs": [
    {
     "data": {
      "text/plain": [
       "[3, 6, 9]"
      ]
     },
     "execution_count": 5,
     "metadata": {},
     "output_type": "execute_result"
    }
   ],
   "source": [
    "a = ['A', '+', 'B']\n",
    "find_oper(lst)"
   ]
  },
  {
   "cell_type": "code",
   "execution_count": 6,
   "metadata": {
    "scrolled": true
   },
   "outputs": [
    {
     "data": {
      "text/plain": [
       "([0, 1, 7], [5, 11, 12])"
      ]
     },
     "execution_count": 6,
     "metadata": {},
     "output_type": "execute_result"
    }
   ],
   "source": [
    "find_pare(lst)"
   ]
  },
  {
   "cell_type": "code",
   "execution_count": null,
   "metadata": {},
   "outputs": [],
   "source": [
    "def full(f):\n",
    "    left\n",
    "    "
   ]
  },
  {
   "cell_type": "code",
   "execution_count": 7,
   "metadata": {},
   "outputs": [],
   "source": [
    "ab = ['(','A','*','B',')']"
   ]
  },
  {
   "cell_type": "code",
   "execution_count": 13,
   "metadata": {},
   "outputs": [
    {
     "name": "stdout",
     "output_type": "stream",
     "text": [
      "[2]\n"
     ]
    }
   ],
   "source": [
    "op_idx = find_oper(ab)\n",
    "print(op_idx)"
   ]
  },
  {
   "cell_type": "code",
   "execution_count": 17,
   "metadata": {},
   "outputs": [],
   "source": [
    "op = ab[op_idx[0]]"
   ]
  },
  {
   "cell_type": "code",
   "execution_count": null,
   "metadata": {},
   "outputs": [],
   "source": []
  },
  {
   "cell_type": "code",
   "execution_count": 30,
   "metadata": {
    "scrolled": true
   },
   "outputs": [],
   "source": [
    "def rf(ab):\n",
    "    stack =[]\n",
    "    op_idx = find_oper(ab)[0]\n",
    "    op = ab[op_idx]\n",
    "    front = ab[1:op_idx]\n",
    "    rear = ab[op_idx+1:-1]\n",
    "    stack.append(front[0])\n",
    "    stack.append(rear[0])\n",
    "    stack.append(op)\n",
    "    return stack"
   ]
  },
  {
   "cell_type": "code",
   "execution_count": 27,
   "metadata": {},
   "outputs": [
    {
     "data": {
      "text/plain": [
       "['A', 'B', '*']"
      ]
     },
     "execution_count": 27,
     "metadata": {},
     "output_type": "execute_result"
    }
   ],
   "source": [
    "rf(ab)"
   ]
  },
  {
   "cell_type": "code",
   "execution_count": null,
   "metadata": {},
   "outputs": [],
   "source": [
    "def full(f):\n",
    "    for i in "
   ]
  },
  {
   "cell_type": "code",
   "execution_count": 28,
   "metadata": {},
   "outputs": [],
   "source": [
    "p = '(2+5)*(2+1)'\n",
    "p = list(p)"
   ]
  },
  {
   "cell_type": "code",
   "execution_count": 31,
   "metadata": {},
   "outputs": [
    {
     "data": {
      "text/plain": [
       "['2', '5', '+']"
      ]
     },
     "execution_count": 31,
     "metadata": {},
     "output_type": "execute_result"
    }
   ],
   "source": [
    "rf(p)"
   ]
  }
 ],
 "metadata": {
  "kernelspec": {
   "display_name": "Python 3",
   "language": "python",
   "name": "python3"
  },
  "language_info": {
   "codemirror_mode": {
    "name": "ipython",
    "version": 3
   },
   "file_extension": ".py",
   "mimetype": "text/x-python",
   "name": "python",
   "nbconvert_exporter": "python",
   "pygments_lexer": "ipython3",
   "version": "3.7.6"
  }
 },
 "nbformat": 4,
 "nbformat_minor": 4
}
