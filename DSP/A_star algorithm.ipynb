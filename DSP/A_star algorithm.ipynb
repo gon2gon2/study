{
 "cells": [
  {
   "cell_type": "code",
   "execution_count": 1,
   "metadata": {},
   "outputs": [],
   "source": [
    "# Time Complexity는 H에 따라 다르다.\n",
    "# O(b^d), where d = depth, b = 각 노드의 하위 요소 수\n",
    "# heapque를 이용하면 길을 출력할 때 reverse를 안해도 됨\n",
    "\n",
    "class Node:\n",
    "    def __init__(self, parent=None, position=None):\n",
    "        self.parent = parent\n",
    "        self.position = position\n",
    "\n",
    "        self.g = 0\n",
    "        self.h = 0\n",
    "        self.f = 0\n",
    "\n",
    "    def __eq__(self, other):\n",
    "        return self.position == other.position\n",
    "\n",
    "def heuristic(node, goal, D=1, D2=2 ** 0.5):  # Diagonal Distance\n",
    "    dx = abs(node.position[0] - goal.position[0])\n",
    "    dy = abs(node.position[1] - goal.position[1])\n",
    "    return D * (dx + dy) + (D2 - 2 * D) * min(dx, dy)\n",
    "\n",
    "\n",
    "def aStar(maze, start, end):\n",
    "    # startNode와 endNode 초기화\n",
    "    startNode = Node(None, start)\n",
    "    endNode = Node(None, end)\n",
    "\n",
    "    # openList, closedList 초기화\n",
    "    openList = []\n",
    "    closedList = []\n",
    "\n",
    "    # openList에 시작 노드 추가\n",
    "    openList.append(startNode)\n",
    "\n",
    "    # endNode를 찾을 때까지 실행\n",
    "    while openList:\n",
    "\n",
    "        # 현재 노드 지정\n",
    "        currentNode = openList[0]\n",
    "        currentIdx = 0\n",
    "\n",
    "        # 이미 같은 노드가 openList에 있고, f 값이 더 크면\n",
    "        # currentNode를 openList안에 있는 값으로 교체\n",
    "        for index, item in enumerate(openList):\n",
    "            if item.f < currentNode.f:\n",
    "                currentNode = item\n",
    "                currentIdx = index\n",
    "\n",
    "        # openList에서 제거하고 closedList에 추가\n",
    "        openList.pop(currentIdx)\n",
    "        closedList.append(currentNode)\n",
    "\n",
    "        # 현재 노드가 목적지면 current.position 추가하고\n",
    "        # current의 부모로 이동\n",
    "        if currentNode == endNode:\n",
    "            path = []\n",
    "            current = currentNode\n",
    "            while current is not None:\n",
    "                # maze 길을 표시하려면 주석 해제\n",
    "                # x, y = current.position\n",
    "                # maze[x][y] = 7 \n",
    "                path.append(current.position)\n",
    "                current = current.parent\n",
    "            return path[::-1]  # reverse\n",
    "\n",
    "        children = []\n",
    "        # 인접한 xy좌표 전부\n",
    "        for newPosition in [(0, -1), (0, 1), (-1, 0), (1, 0), (-1, -1), (-1, 1), (1, -1), (1, 1)]:\n",
    "\n",
    "            # 노드 위치 업데이트\n",
    "            nodePosition = (\n",
    "                currentNode.position[0] + newPosition[0],  # X\n",
    "                currentNode.position[1] + newPosition[1])  # Y\n",
    "                \n",
    "            # 미로 maze index 범위 안에 있어야함\n",
    "            within_range_criteria = [\n",
    "                nodePosition[0] > (len(maze) - 1),\n",
    "                nodePosition[0] < 0,\n",
    "                nodePosition[1] > (len(maze[len(maze) - 1]) - 1),\n",
    "                nodePosition[1] < 0,\n",
    "            ]\n",
    "\n",
    "            if any(within_range_criteria):  # 하나라도 true면 범위 밖임\n",
    "                continue\n",
    "\n",
    "            # 장애물이 있으면 다른 위치 불러오기\n",
    "            if maze[nodePosition[0]][nodePosition[1]] != 0:\n",
    "                continue\n",
    "\n",
    "            new_node = Node(currentNode, nodePosition)\n",
    "            children.append(new_node)\n",
    "\n",
    "        # 자식들 모두 loop\n",
    "        for child in children:\n",
    "\n",
    "            # 자식이 closedList에 있으면 continue\n",
    "            if child in closedList:\n",
    "                continue\n",
    "\n",
    "            # f, g, h값 업데이트\n",
    "            child.g = currentNode.g + 1\n",
    "            child.h = ((child.position[0] - endNode.position[0]) **\n",
    "                       2) + ((child.position[1] - endNode.position[1]) ** 2)\n",
    "            # child.h = heuristic(child, endNode) 다른 휴리스틱\n",
    "            # print(\"position:\", child.position) 거리 추정 값 보기\n",
    "            # print(\"from child to goal:\", child.h)\n",
    "            \n",
    "            child.f = child.g + child.h\n",
    "\n",
    "            # 자식이 openList에 있으고, g값이 더 크면 continue\n",
    "            if len([openNode for openNode in openList\n",
    "                    if child == openNode and child.g > openNode.g]) > 0:\n",
    "                continue\n",
    "                    \n",
    "            openList.append(child)"
   ]
  },
  {
   "cell_type": "code",
   "execution_count": 2,
   "metadata": {},
   "outputs": [
    {
     "data": {
      "text/plain": [
       "[[1, 0, 0, 0, 0, 0, 0, 1, 1, 1],\n",
       " [1, 1, 1, 0, 1, 1, 0, 1, 1, 1],\n",
       " [2, 0, 0, 0, 0, 1, 0, 0, 0, 0],\n",
       " [0, 1, 1, 0, 1, 1, 0, 1, 1, 1],\n",
       " [0, 0, 1, 0, 0, 0, 0, 1, 0, 1],\n",
       " [1, 0, 0, 0, 1, 1, 1, 1, 0, 1],\n",
       " [1, 1, 1, 0, 1, 1, 0, 0, 0, 1],\n",
       " [1, 1, 1, 0, 0, 0, 0, 1, 1, 1],\n",
       " [1, 1, 1, 1, 0, 0, 0, 0, 0, 3],\n",
       " [1, 0, 0, 0, 0, 1, 1, 0, 1, 1]]"
      ]
     },
     "execution_count": 2,
     "metadata": {},
     "output_type": "execute_result"
    }
   ],
   "source": [
    "f = open('as0000.txt','r')\n",
    "a = f.readlines()\n",
    "f.close()\n",
    "lines = ''\n",
    "for i in a:\n",
    "    lines += i\n",
    "text = []\n",
    "for i in a:\n",
    "    text.append(i.replace('\\n',''))\n",
    "maze = []\n",
    "for i in text:\n",
    "    maze.append(list(map(int,list(i))))\n",
    "maze"
   ]
  },
  {
   "cell_type": "markdown",
   "metadata": {},
   "source": [
    "# 주석달기\n",
    "# 2랑 3으로 된 거 어떻게 해야 될지 해결하기"
   ]
  },
  {
   "cell_type": "code",
   "execution_count": 3,
   "metadata": {},
   "outputs": [],
   "source": [
    "maze = [[1, 0, 0, 0, 0, 0, 0, 1, 1, 1],\n",
    "        [1, 1, 1, 0, 1, 1, 0, 1, 1, 1],\n",
    "        [2, 0, 0, 0, 0, 1, 0, 0, 0, 0],\n",
    "        [0, 1, 1, 0, 1, 1, 0, 1, 1, 1],\n",
    "        [0, 0, 1, 0, 0, 0, 0, 1, 0, 1],\n",
    "        [1, 0, 0, 0, 1, 1, 1, 1, 0, 1],\n",
    "        [1, 1, 1, 0, 1, 1, 0, 0, 0, 1],\n",
    "        [1, 1, 1, 0, 0, 0, 0, 1, 1, 1],\n",
    "        [1, 1, 1, 1, 0, 0, 0, 0, 0, 3],\n",
    "        [1, 0, 0, 0, 0, 1, 1, 0, 1, 1]]"
   ]
  },
  {
   "cell_type": "code",
   "execution_count": 4,
   "metadata": {},
   "outputs": [
    {
     "data": {
      "text/plain": [
       "range(0, 10)"
      ]
     },
     "execution_count": 4,
     "metadata": {},
     "output_type": "execute_result"
    }
   ],
   "source": [
    "range(len(maze[0]))"
   ]
  },
  {
   "cell_type": "code",
   "execution_count": 5,
   "metadata": {},
   "outputs": [],
   "source": [
    "for i in range(len(maze)):\n",
    "    for j in range(len(maze[i])):\n",
    "        if maze[i][j] == 2:\n",
    "            start = (i,j)\n",
    "        elif maze[i][j] == 3:\n",
    "            end = (i, j)"
   ]
  },
  {
   "cell_type": "code",
   "execution_count": 13,
   "metadata": {},
   "outputs": [
    {
     "name": "stdout",
     "output_type": "stream",
     "text": [
      "[(2, 0), (2, 1), (2, 2), (3, 3), (4, 4), (5, 3), (6, 3), (7, 4), (8, 5), (8, 6), (8, 7), (8, 8), (8, 9)]\n"
     ]
    }
   ],
   "source": [
    "def main():\n",
    "    # 1은 장애물\n",
    "    maze = [[1, 0, 0, 0, 0, 0, 0, 1, 1, 1],\n",
    "            [1, 1, 1, 0, 1, 1, 0, 1, 1, 1],\n",
    "            [2, 0, 0, 0, 0, 1, 0, 0, 0, 0],\n",
    "            [0, 1, 1, 0, 1, 1, 0, 1, 1, 1],\n",
    "            [0, 0, 1, 0, 0, 0, 0, 1, 0, 1],\n",
    "            [1, 0, 0, 0, 1, 1, 1, 1, 0, 1],\n",
    "            [1, 1, 1, 0, 1, 1, 0, 0, 0, 1],\n",
    "            [1, 1, 1, 0, 0, 0, 0, 1, 1, 1],\n",
    "            [1, 1, 1, 1, 0, 0, 0, 0, 0, 3],\n",
    "            [1, 0, 0, 0, 0, 1, 1, 0, 1, 1]]\n",
    "    \n",
    "    for i in range(len(maze)):\n",
    "        for j in range(len(maze[i])):\n",
    "            if maze[i][j] == 2:\n",
    "                maze[i][j] = 0\n",
    "                start = (i,j)\n",
    "            elif maze[i][j] == 3:\n",
    "                maze[i][j] = 0\n",
    "                end = (i,j)\n",
    "\n",
    "    path = aStar(maze, start, end)\n",
    "    print(path)\n",
    "\n",
    "\n",
    "if __name__ == '__main__':\n",
    "    main()\n",
    "    # [(0, 0), (1, 1), (2, 2), (3, 3), (4, 3), (5, 4), (6, 5), (7, 6)]\n",
    "    # 실행 시간 : 0.0013초"
   ]
  },
  {
   "cell_type": "code",
   "execution_count": 7,
   "metadata": {},
   "outputs": [
    {
     "data": {
      "text/plain": [
       "(2, 0)"
      ]
     },
     "execution_count": 7,
     "metadata": {},
     "output_type": "execute_result"
    }
   ],
   "source": [
    "start"
   ]
  },
  {
   "cell_type": "code",
   "execution_count": 8,
   "metadata": {},
   "outputs": [
    {
     "data": {
      "text/plain": [
       "(8, 9)"
      ]
     },
     "execution_count": 8,
     "metadata": {},
     "output_type": "execute_result"
    }
   ],
   "source": [
    "end"
   ]
  },
  {
   "cell_type": "code",
   "execution_count": 9,
   "metadata": {},
   "outputs": [],
   "source": [
    "start = (3, 2)\n",
    "end = (8, 9)"
   ]
  },
  {
   "cell_type": "code",
   "execution_count": 10,
   "metadata": {},
   "outputs": [
    {
     "name": "stdout",
     "output_type": "stream",
     "text": [
      "None\n"
     ]
    }
   ],
   "source": [
    "path = aStar(maze, start, end)\n",
    "print(path)"
   ]
  },
  {
   "cell_type": "code",
   "execution_count": null,
   "metadata": {},
   "outputs": [],
   "source": []
  }
 ],
 "metadata": {
  "kernelspec": {
   "display_name": "Python 3",
   "language": "python",
   "name": "python3"
  },
  "language_info": {
   "codemirror_mode": {
    "name": "ipython",
    "version": 3
   },
   "file_extension": ".py",
   "mimetype": "text/x-python",
   "name": "python",
   "nbconvert_exporter": "python",
   "pygments_lexer": "ipython3",
   "version": "3.7.6"
  }
 },
 "nbformat": 4,
 "nbformat_minor": 4
}
