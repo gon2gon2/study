{
 "cells": [
  {
   "cell_type": "markdown",
   "metadata": {},
   "source": [
    "# Kruskal 알고리즘"
   ]
  },
  {
   "cell_type": "code",
   "execution_count": 5,
   "metadata": {},
   "outputs": [
    {
     "name": "stdout",
     "output_type": "stream",
     "text": [
      "최소신장트리: [(4, 6), (2, 5), (1, 6), (3, 5), (5, 6), (0, 1)]\n",
      "최소신장트리 가중치: 25\n"
     ]
    }
   ],
   "source": [
    "weights = [(0,1,9),(0,2,10),(1,3,10),(1,4,5),         # (간선의 두 정점, 가중치)의 리스트\n",
    "            (1,6,3),(2,3,9),(2,4,7),(2,5,2),          # 가능해 영역\n",
    "            (3,5,4),(3,6,8),(4,6,1),(5,6,6)]\n",
    "\n",
    "weights.sort(key= lambda t: t[2])                    # lambda로 인덱스 저장해서 쓰지 않고 바로 씀\n",
    "\n",
    "mst = []   # 트리간선 저장할 곳\n",
    "N = 7      # 정점의 수\n",
    "p = []     # 상호 배타적 집합\n",
    "\n",
    "for i in range(N):  # 정점이 0에서 6까지밖에 없어서 이런식으로 저장해줌\n",
    "    p.append(i)      # 정점이 순차적이지 않다면?   모든 정점들 다 저장해놓고 set 사용\n",
    "    \n",
    "def find(u):                  # 재귀적으로 \n",
    "    if u != p[u]:\n",
    "        p[u] = find(p[u])\n",
    "    return p[u]\n",
    "\n",
    "def union(u,v):\n",
    "    root1 = find(u)\n",
    "    root2 = find(v)\n",
    "    p[root2] = root1\n",
    "    \n",
    "tree_edges = 0\n",
    "mst_cost = 0\n",
    "while True:\n",
    "    if tree_edges == N-1:\n",
    "        break\n",
    "    u,v,wt = weights.pop(0)\n",
    "    if find(u) != find(v):\n",
    "        union(u, v)\n",
    "        mst.append((u,v))\n",
    "        mst_cost += wt\n",
    "        tree_edges += 1\n",
    "        \n",
    "print('최소신장트리: ', end = '')\n",
    "print(mst)\n",
    "print('최소신장트리 가중치:', mst_cost)"
   ]
  },
  {
   "cell_type": "markdown",
   "metadata": {},
   "source": [
    "# Prim"
   ]
  },
  {
   "cell_type": "code",
   "execution_count": 7,
   "metadata": {},
   "outputs": [
    {
     "name": "stdout",
     "output_type": "stream",
     "text": [
      "최소신장트리: (1,0)(2,5)(3,5)(4,6)(5,6)(6,1)\n",
      "최소신장트리 가중치:  25\n"
     ]
    }
   ],
   "source": [
    "import sys\n",
    "N = 7\n",
    "s = 0\n",
    "g = [None]*N\n",
    "g[0] = [(1,9),(2,10)]\n",
    "g[1] = [(0,9),(3,10),(4,5),(6,3)]\n",
    "g[2] = [(0,10),(3,9),(4,7),(5,2)]\n",
    "g[3] = [(1,10),(2,9),(5,4),(6,8)]\n",
    "g[4] = [(1,5),(2,7),(6,1)]\n",
    "g[5] = [(2,2),(3,4),(6,6)]\n",
    "g[6] = [(1,3),(3,8),(4,1),(5,6)]\n",
    "\n",
    "visited = [False] * N\n",
    "D = [sys.maxsize] * N\n",
    "D[s] = 0\n",
    "previous = [None]*N\n",
    "previous[s]= s\n",
    "\n",
    "for k in range(N):\n",
    "    m = -1\n",
    "    min_value = sys.maxsize\n",
    "    for j in range(N):\n",
    "        if not visited[j] and D[j] < min_value:\n",
    "            min_value = D[j]\n",
    "            m = j\n",
    "    visited[m] = True\n",
    "    \n",
    "    for w,wt in list(g[m]):\n",
    "        if not visited[w]:\n",
    "            if wt < D[w]:\n",
    "                D[w] = wt\n",
    "                previous[w] = m\n",
    "                \n",
    "print('최소신장트리: ',end='')\n",
    "mst_cost = 0\n",
    "for i in range(1,N):\n",
    "    print('(%d,%d)'% (i,previous[i]), end='')\n",
    "    mst_cost += D[i]\n",
    "print('\\n최소신장트리 가중치: ',mst_cost)"
   ]
  },
  {
   "cell_type": "code",
   "execution_count": null,
   "metadata": {},
   "outputs": [],
   "source": [
    "\n"
   ]
  }
 ],
 "metadata": {
  "kernelspec": {
   "display_name": "Python 3",
   "language": "python",
   "name": "python3"
  },
  "language_info": {
   "codemirror_mode": {
    "name": "ipython",
    "version": 3
   },
   "file_extension": ".py",
   "mimetype": "text/x-python",
   "name": "python",
   "nbconvert_exporter": "python",
   "pygments_lexer": "ipython3",
   "version": "3.7.6"
  }
 },
 "nbformat": 4,
 "nbformat_minor": 4
}
