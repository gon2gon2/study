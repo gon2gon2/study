{
 "cells": [
  {
   "cell_type": "markdown",
   "metadata": {},
   "source": [
    "첫째 줄에 16진수 수가 주어진다. 이 수의 최대 길이는 6글자이다. \n",
    "\n",
    "16진수 수는 0...9와 A...F로 이루어져 있고, A~F는 10...15를 뜻한다. \n",
    "\n",
    "또, 이 수는 음이 아닌 정수이다."
   ]
  },
  {
   "cell_type": "markdown",
   "metadata": {},
   "source": [
    "input : A\n",
    "output : 10"
   ]
  },
  {
   "cell_type": "code",
   "execution_count": 30,
   "metadata": {},
   "outputs": [
    {
     "name": "stdout",
     "output_type": "stream",
     "text": [
      "16진수를 입력하세요: A\n"
     ]
    }
   ],
   "source": [
    "dic_16  = {\n",
    "    'A':'10',\n",
    "    'B':'11',\n",
    "    'C':'12',\n",
    "    'D':'13',\n",
    "    'E':'14',\n",
    "    'F':'15'\n",
    "}\n",
    "n_16 = input('16진수를 입력하세요: ')\n",
    "listed_n = list(n_16)"
   ]
  },
  {
   "cell_type": "code",
   "execution_count": 31,
   "metadata": {},
   "outputs": [],
   "source": [
    "# 문자열이 dic_16에 있으면 해당하는 숫자로 바꿔주는 함수\n",
    "def cvter(n):\n",
    "    if n in dic_16:\n",
    "        n = dic_16[n]\n",
    "    else:\n",
    "        pass\n",
    "    return int(n)"
   ]
  },
  {
   "cell_type": "code",
   "execution_count": 38,
   "metadata": {},
   "outputs": [],
   "source": [
    "hap = 0\n",
    "for i in range(1,len(listed_n)+1):\n",
    "    idx = -i\n",
    "    a = -(idx+1)\n",
    "    n = cvter(listed_n[idx])\n",
    "    num = n*16**a\n",
    "    hap += num"
   ]
  },
  {
   "cell_type": "code",
   "execution_count": 39,
   "metadata": {},
   "outputs": [
    {
     "name": "stdout",
     "output_type": "stream",
     "text": [
      "10\n"
     ]
    }
   ],
   "source": [
    "print(hap)"
   ]
  },
  {
   "cell_type": "code",
   "execution_count": 36,
   "metadata": {},
   "outputs": [
    {
     "data": {
      "text/plain": [
       "100"
      ]
     },
     "execution_count": 36,
     "metadata": {},
     "output_type": "execute_result"
    }
   ],
   "source": [
    "10 ** 2"
   ]
  },
  {
   "cell_type": "code",
   "execution_count": 27,
   "metadata": {},
   "outputs": [
    {
     "data": {
      "text/plain": [
       "9"
      ]
     },
     "execution_count": 27,
     "metadata": {},
     "output_type": "execute_result"
    }
   ],
   "source": [
    "cvter('9')"
   ]
  },
  {
   "cell_type": "code",
   "execution_count": 16,
   "metadata": {},
   "outputs": [
    {
     "data": {
      "text/plain": [
       "'9'"
      ]
     },
     "execution_count": 16,
     "metadata": {},
     "output_type": "execute_result"
    }
   ],
   "source": [
    "cvter('9')"
   ]
  }
 ],
 "metadata": {
  "kernelspec": {
   "display_name": "Python 3",
   "language": "python",
   "name": "python3"
  },
  "language_info": {
   "codemirror_mode": {
    "name": "ipython",
    "version": 3
   },
   "file_extension": ".py",
   "mimetype": "text/x-python",
   "name": "python",
   "nbconvert_exporter": "python",
   "pygments_lexer": "ipython3",
   "version": "3.7.6"
  }
 },
 "nbformat": 4,
 "nbformat_minor": 4
}
