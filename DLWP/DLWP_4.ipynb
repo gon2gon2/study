{
  "nbformat": 4,
  "nbformat_minor": 0,
  "metadata": {
    "colab": {
      "name": "DLWP_4.ipynb",
      "provenance": [],
      "collapsed_sections": []
    },
    "kernelspec": {
      "name": "python3",
      "display_name": "Python 3"
    }
  },
  "cells": [
    {
      "cell_type": "code",
      "metadata": {
        "id": "oYBjoyYYq5Dv",
        "outputId": "b249e2e4-d8b7-494a-c958-9697e40387be",
        "colab": {
          "base_uri": "https://localhost:8080/"
        }
      },
      "source": [
        "# 놀라운 잡기술, numpy로 여러 배열을 같은 순서로 섞는 방법\n",
        "# 섞을 배열: a,b\n",
        "a = np.array([1,2,3,4,5,6,7,8,9,10])\n",
        "b = np.array([10,9,8,7,6,5,4,3,2,1])\n",
        "\n",
        "# sf = 섞을 순서 index\n",
        "sf = np.arange(len(a))\n",
        "print(sf)\n",
        "np.random.shuffle(sf)\n",
        "print(sf)\n",
        "\n",
        "# index를 섞어서 인덱싱하면 됨\n",
        "print(a[sf])\n",
        "print(b[sf])"
      ],
      "execution_count": 22,
      "outputs": [
        {
          "output_type": "stream",
          "text": [
            "[0 1 2 3 4 5 6 7 8 9]\n",
            "[2 4 9 6 3 5 0 7 1 8]\n",
            "[ 3  5 10  7  4  6  1  8  2  9]\n",
            "[ 8  6  1  4  7  5 10  3  9  2]\n"
          ],
          "name": "stdout"
        }
      ]
    },
    {
      "cell_type": "code",
      "metadata": {
        "id": "hsCve5fxb-3c",
        "outputId": "c8e04522-9811-4edd-a95a-92cf46a86e9a",
        "colab": {
          "base_uri": "https://localhost:8080/",
          "height": 239
        }
      },
      "source": [
        "num_validation_samples = 10000\n",
        "\n",
        "np.random.shuffle(data)\n",
        "\n",
        "validation_data = data[:num_validation_samples]\n",
        "data = data[num_validation_samples:]\n",
        "\n",
        "training_data = data[:]\n",
        "model = get_model()\n",
        "model.train(training_data)\n",
        "validation_score = model.evaluate(validation_score)\n",
        "\n",
        "# 모델 튜닝, 훈련 반복\n",
        "\n",
        "\n",
        "model = get_model()\n",
        "model.train(np.concatenate([training_data,\n",
        "\t\t\t\t\t\t\t\t\t\t\t\t\t\tvalidation_data]))\n",
        "test_score = model.evalutae()"
      ],
      "execution_count": 6,
      "outputs": [
        {
          "output_type": "error",
          "ename": "NameError",
          "evalue": "ignored",
          "traceback": [
            "\u001b[0;31m---------------------------------------------------------------------------\u001b[0m",
            "\u001b[0;31mNameError\u001b[0m                                 Traceback (most recent call last)",
            "\u001b[0;32m<ipython-input-6-b33a6bdc5870>\u001b[0m in \u001b[0;36m<module>\u001b[0;34m()\u001b[0m\n\u001b[1;32m      1\u001b[0m \u001b[0mnum_validation_samples\u001b[0m \u001b[0;34m=\u001b[0m \u001b[0;36m10000\u001b[0m\u001b[0;34m\u001b[0m\u001b[0;34m\u001b[0m\u001b[0m\n\u001b[1;32m      2\u001b[0m \u001b[0;34m\u001b[0m\u001b[0m\n\u001b[0;32m----> 3\u001b[0;31m \u001b[0mnp\u001b[0m\u001b[0;34m.\u001b[0m\u001b[0mrandom\u001b[0m\u001b[0;34m.\u001b[0m\u001b[0mshuffle\u001b[0m\u001b[0;34m(\u001b[0m\u001b[0mdata\u001b[0m\u001b[0;34m)\u001b[0m\u001b[0;34m\u001b[0m\u001b[0;34m\u001b[0m\u001b[0m\n\u001b[0m\u001b[1;32m      4\u001b[0m \u001b[0;34m\u001b[0m\u001b[0m\n\u001b[1;32m      5\u001b[0m \u001b[0mvalidation_data\u001b[0m \u001b[0;34m=\u001b[0m \u001b[0mdata\u001b[0m\u001b[0;34m[\u001b[0m\u001b[0;34m:\u001b[0m\u001b[0mnum_validation_samples\u001b[0m\u001b[0;34m]\u001b[0m\u001b[0;34m\u001b[0m\u001b[0;34m\u001b[0m\u001b[0m\n",
            "\u001b[0;31mNameError\u001b[0m: name 'data' is not defined"
          ]
        }
      ]
    },
    {
      "cell_type": "code",
      "metadata": {
        "id": "kn9en5uEcCxn"
      },
      "source": [
        "k = 4\n",
        "num_validation_samples = len(data)//k\n",
        "\n",
        "np.random.shuffle(data)\n",
        "\n",
        "validation_scores = []\n",
        "for fold in range(k):\n",
        "  validataion_data = data[num_validation_samples * fold:\n",
        "                          num_validation_samples*(fold+1)]\n",
        "  training_data = data[:num_validation_samples*fold]+\n",
        "                  data[num_validation_samples * (fold + 1):]\n",
        "  \n",
        "  model = get_model()\n",
        "  model.train(training_data)\n",
        "  validation_score = model.evaluate(validation_data)\n",
        "  validation_scores.append(validation_score)\n",
        "\n",
        "validation_score = np.average(validation_scores)\n",
        "\n",
        "model = get_model()\n",
        "model.train(data)\n",
        "test_score = model.evaluate(test_data)"
      ],
      "execution_count": null,
      "outputs": []
    },
    {
      "cell_type": "code",
      "metadata": {
        "id": "ai7JeIVZcCvU"
      },
      "source": [
        "I = 4\n",
        "k = 4\n",
        "num_validation_samples = len(data)//k\n",
        "validation_scores = []\n",
        "\n",
        "for i in range(I)\n",
        "  np.random.shuffle(data)\n",
        "  for fold in range(k):\n",
        "    validataion_data = data[num_validation_samples * fold:\n",
        "                            num_validation_samples*(fold+1)]\n",
        "    training_data = data[:num_validation_samples*fold]+\n",
        "                    data[num_validation_samples * (fold + 1):]\n",
        "    \n",
        "    model = get_model()\n",
        "    model.train(training_data)\n",
        "    validation_score = model.evaluate(validation_data)\n",
        "    validation_scores.append(validation_score)\n",
        "\n",
        "validation_score = np.average(validation_scores)\n",
        "\n",
        "model = get_model()\n",
        "model.train(data)\n",
        "test_score = model.evaluate(test_data)"
      ],
      "execution_count": null,
      "outputs": []
    },
    {
      "cell_type": "markdown",
      "metadata": {
        "id": "Z8uS44xOuRvX"
      },
      "source": [
        "# 모델 용량과 성능비교"
      ]
    },
    {
      "cell_type": "code",
      "metadata": {
        "id": "iSu-isuHiIpc",
        "outputId": "9512180e-d54d-4184-f3e2-a79459cb279b",
        "colab": {
          "base_uri": "https://localhost:8080/"
        }
      },
      "source": [
        "# 4-3\n",
        "from keras import models\n",
        "from keras import layers\n",
        "\n",
        "model = models.Sequential()\n",
        "model.add(layers.Dense(16, activation='relu',input_shape=(10000,)))\n",
        "model.add(layers.Dense(16,activation='relu'))\n",
        "model.add(layers.Dense(1,activation='sigmoid'))\n",
        "# 3-8 모델 훈련하기\n",
        "model.compile(optimizer='rmsprop',\n",
        "              loss='binary_crossentropy',\n",
        "              metrics=['acc'])\n",
        "\n",
        "origin_history = model.fit(partial_x_train,partial_y_train,epochs=20,batch_size=20,validation_data=(x_val,y_val))"
      ],
      "execution_count": null,
      "outputs": [
        {
          "output_type": "stream",
          "text": [
            "Epoch 1/20\n",
            "750/750 [==============================] - 4s 5ms/step - loss: 0.3521 - acc: 0.8539 - val_loss: 0.2966 - val_acc: 0.8800\n",
            "Epoch 2/20\n",
            "750/750 [==============================] - 3s 4ms/step - loss: 0.2094 - acc: 0.9199 - val_loss: 0.2816 - val_acc: 0.8932\n",
            "Epoch 3/20\n",
            "750/750 [==============================] - 3s 4ms/step - loss: 0.1704 - acc: 0.9380 - val_loss: 0.3129 - val_acc: 0.8858\n",
            "Epoch 4/20\n",
            "750/750 [==============================] - 3s 4ms/step - loss: 0.1455 - acc: 0.9465 - val_loss: 0.3265 - val_acc: 0.8864\n",
            "Epoch 5/20\n",
            "750/750 [==============================] - 3s 4ms/step - loss: 0.1286 - acc: 0.9552 - val_loss: 0.3454 - val_acc: 0.8826\n",
            "Epoch 6/20\n",
            "750/750 [==============================] - 3s 4ms/step - loss: 0.1143 - acc: 0.9604 - val_loss: 0.3678 - val_acc: 0.8830\n",
            "Epoch 7/20\n",
            "750/750 [==============================] - 3s 4ms/step - loss: 0.1011 - acc: 0.9657 - val_loss: 0.4070 - val_acc: 0.8788\n",
            "Epoch 8/20\n",
            "750/750 [==============================] - 3s 4ms/step - loss: 0.0912 - acc: 0.9700 - val_loss: 0.4328 - val_acc: 0.8794\n",
            "Epoch 9/20\n",
            "750/750 [==============================] - 3s 4ms/step - loss: 0.0836 - acc: 0.9726 - val_loss: 0.4709 - val_acc: 0.8708\n",
            "Epoch 10/20\n",
            "750/750 [==============================] - 3s 4ms/step - loss: 0.0748 - acc: 0.9748 - val_loss: 0.4918 - val_acc: 0.8757\n",
            "Epoch 11/20\n",
            "750/750 [==============================] - 3s 4ms/step - loss: 0.0661 - acc: 0.9785 - val_loss: 0.5158 - val_acc: 0.8746\n",
            "Epoch 12/20\n",
            "750/750 [==============================] - 3s 4ms/step - loss: 0.0603 - acc: 0.9802 - val_loss: 0.5802 - val_acc: 0.8728\n",
            "Epoch 13/20\n",
            "750/750 [==============================] - 3s 4ms/step - loss: 0.0539 - acc: 0.9829 - val_loss: 0.5908 - val_acc: 0.8685\n",
            "Epoch 14/20\n",
            "750/750 [==============================] - 3s 4ms/step - loss: 0.0494 - acc: 0.9850 - val_loss: 0.6331 - val_acc: 0.8686\n",
            "Epoch 15/20\n",
            "750/750 [==============================] - 3s 4ms/step - loss: 0.0449 - acc: 0.9857 - val_loss: 0.6587 - val_acc: 0.8712\n",
            "Epoch 16/20\n",
            "750/750 [==============================] - 3s 4ms/step - loss: 0.0414 - acc: 0.9873 - val_loss: 0.6842 - val_acc: 0.8697\n",
            "Epoch 17/20\n",
            "750/750 [==============================] - 3s 4ms/step - loss: 0.0372 - acc: 0.9885 - val_loss: 0.7695 - val_acc: 0.8673\n",
            "Epoch 18/20\n",
            "750/750 [==============================] - 3s 4ms/step - loss: 0.0342 - acc: 0.9897 - val_loss: 0.7884 - val_acc: 0.8639\n",
            "Epoch 19/20\n",
            "750/750 [==============================] - 3s 4ms/step - loss: 0.0300 - acc: 0.9911 - val_loss: 0.8780 - val_acc: 0.8617\n",
            "Epoch 20/20\n",
            "750/750 [==============================] - 3s 4ms/step - loss: 0.0278 - acc: 0.9918 - val_loss: 0.9204 - val_acc: 0.8603\n"
          ],
          "name": "stdout"
        }
      ]
    },
    {
      "cell_type": "code",
      "metadata": {
        "id": "8d4OG7bfiItn",
        "outputId": "28685cb7-6f29-4b9e-feb8-5a8b9bf9cc74",
        "colab": {
          "base_uri": "https://localhost:8080/"
        }
      },
      "source": [
        "# 4-4\n",
        "model = models.Sequential()\n",
        "model.add(layers.Dense(6, activation='relu',input_shape=(10000,)))\n",
        "model.add(layers.Dense(6,activation='relu'))\n",
        "model.add(layers.Dense(1,activation='sigmoid'))\n",
        "# 3-8 모델 훈련하기\n",
        "model.compile(optimizer='rmsprop',\n",
        "              loss='binary_crossentropy',\n",
        "              metrics=['acc'])\n",
        "\n",
        "small_history = model.fit(partial_x_train,partial_y_train,epochs=20,batch_size=20,validation_data=(x_val,y_val))"
      ],
      "execution_count": null,
      "outputs": [
        {
          "output_type": "stream",
          "text": [
            "Epoch 1/20\n",
            "750/750 [==============================] - 4s 5ms/step - loss: 0.4004 - acc: 0.8347 - val_loss: 0.2838 - val_acc: 0.8879\n",
            "Epoch 2/20\n",
            "750/750 [==============================] - 3s 5ms/step - loss: 0.2228 - acc: 0.9151 - val_loss: 0.2744 - val_acc: 0.8917\n",
            "Epoch 3/20\n",
            "750/750 [==============================] - 3s 5ms/step - loss: 0.1799 - acc: 0.9324 - val_loss: 0.2881 - val_acc: 0.8902\n",
            "Epoch 4/20\n",
            "750/750 [==============================] - 3s 5ms/step - loss: 0.1548 - acc: 0.9435 - val_loss: 0.3113 - val_acc: 0.8861\n",
            "Epoch 5/20\n",
            "750/750 [==============================] - 3s 5ms/step - loss: 0.1379 - acc: 0.9499 - val_loss: 0.3298 - val_acc: 0.8854\n",
            "Epoch 6/20\n",
            "750/750 [==============================] - 4s 5ms/step - loss: 0.1241 - acc: 0.9563 - val_loss: 0.3484 - val_acc: 0.8832\n",
            "Epoch 7/20\n",
            "750/750 [==============================] - 4s 5ms/step - loss: 0.1140 - acc: 0.9598 - val_loss: 0.3688 - val_acc: 0.8810\n",
            "Epoch 8/20\n",
            "750/750 [==============================] - 4s 5ms/step - loss: 0.1044 - acc: 0.9641 - val_loss: 0.3917 - val_acc: 0.8804\n",
            "Epoch 9/20\n",
            "750/750 [==============================] - 3s 5ms/step - loss: 0.0958 - acc: 0.9665 - val_loss: 0.4095 - val_acc: 0.8791\n",
            "Epoch 10/20\n",
            "750/750 [==============================] - 3s 5ms/step - loss: 0.0865 - acc: 0.9691 - val_loss: 0.4439 - val_acc: 0.8749\n",
            "Epoch 11/20\n",
            "750/750 [==============================] - 3s 5ms/step - loss: 0.0786 - acc: 0.9740 - val_loss: 0.4931 - val_acc: 0.8735\n",
            "Epoch 12/20\n",
            "750/750 [==============================] - 3s 4ms/step - loss: 0.0701 - acc: 0.9757 - val_loss: 0.5151 - val_acc: 0.8748\n",
            "Epoch 13/20\n",
            "750/750 [==============================] - 3s 4ms/step - loss: 0.0635 - acc: 0.9787 - val_loss: 0.5601 - val_acc: 0.8735\n",
            "Epoch 14/20\n",
            "750/750 [==============================] - 3s 4ms/step - loss: 0.0571 - acc: 0.9815 - val_loss: 0.6309 - val_acc: 0.8686\n",
            "Epoch 15/20\n",
            "750/750 [==============================] - 3s 5ms/step - loss: 0.0514 - acc: 0.9824 - val_loss: 0.6322 - val_acc: 0.8708\n",
            "Epoch 16/20\n",
            "750/750 [==============================] - 3s 4ms/step - loss: 0.0461 - acc: 0.9845 - val_loss: 0.7350 - val_acc: 0.8660\n",
            "Epoch 17/20\n",
            "750/750 [==============================] - 3s 5ms/step - loss: 0.0405 - acc: 0.9865 - val_loss: 0.7424 - val_acc: 0.8643\n",
            "Epoch 18/20\n",
            "750/750 [==============================] - 3s 4ms/step - loss: 0.0371 - acc: 0.9883 - val_loss: 0.8354 - val_acc: 0.8650\n",
            "Epoch 19/20\n",
            "750/750 [==============================] - 3s 5ms/step - loss: 0.0329 - acc: 0.9899 - val_loss: 0.9137 - val_acc: 0.8621\n",
            "Epoch 20/20\n",
            "750/750 [==============================] - 3s 5ms/step - loss: 0.0291 - acc: 0.9910 - val_loss: 0.9440 - val_acc: 0.8625\n"
          ],
          "name": "stdout"
        }
      ]
    },
    {
      "cell_type": "code",
      "metadata": {
        "id": "yAw1LPG2iJFh",
        "outputId": "9ba06a11-fae1-4c5e-ffb9-07ab88fa0d1a",
        "colab": {
          "base_uri": "https://localhost:8080/"
        }
      },
      "source": [
        "# 4-5\n",
        "model = models.Sequential()\n",
        "model.add(layers.Dense(1024, activation='relu',input_shape=(10000,)))\n",
        "model.add(layers.Dense(1024,activation='relu'))\n",
        "model.add(layers.Dense(1,activation='sigmoid'))\n",
        "# 3-8 모델 훈련하기\n",
        "model.compile(optimizer='rmsprop',\n",
        "              loss='binary_crossentropy',\n",
        "              metrics=['acc'])\n",
        "\n",
        "bigger_history = model.fit(partial_x_train,partial_y_train,epochs=20,batch_size=20,validation_data=(x_val,y_val))"
      ],
      "execution_count": null,
      "outputs": [
        {
          "output_type": "stream",
          "text": [
            "Epoch 1/20\n",
            "750/750 [==============================] - 107s 143ms/step - loss: 0.3690 - acc: 0.8528 - val_loss: 0.2910 - val_acc: 0.8836\n",
            "Epoch 2/20\n",
            "750/750 [==============================] - 108s 144ms/step - loss: 0.2131 - acc: 0.9247 - val_loss: 0.3346 - val_acc: 0.8854\n",
            "Epoch 3/20\n",
            "750/750 [==============================] - 108s 144ms/step - loss: 0.1540 - acc: 0.9511 - val_loss: 0.4842 - val_acc: 0.8862\n",
            "Epoch 4/20\n",
            "750/750 [==============================] - 109s 146ms/step - loss: 0.1016 - acc: 0.9723 - val_loss: 0.9838 - val_acc: 0.8854\n",
            "Epoch 5/20\n",
            "750/750 [==============================] - 109s 145ms/step - loss: 0.0718 - acc: 0.9860 - val_loss: 1.3516 - val_acc: 0.8792\n",
            "Epoch 6/20\n",
            "750/750 [==============================] - 110s 147ms/step - loss: 0.0444 - acc: 0.9929 - val_loss: 3.6018 - val_acc: 0.8704\n",
            "Epoch 7/20\n",
            "750/750 [==============================] - 110s 146ms/step - loss: 0.0419 - acc: 0.9962 - val_loss: 4.4436 - val_acc: 0.8746\n",
            "Epoch 8/20\n",
            "750/750 [==============================] - 112s 149ms/step - loss: 0.0271 - acc: 0.9983 - val_loss: 5.2703 - val_acc: 0.8764\n",
            "Epoch 9/20\n",
            "750/750 [==============================] - 108s 144ms/step - loss: 0.0264 - acc: 0.9986 - val_loss: 6.5423 - val_acc: 0.8714\n",
            "Epoch 10/20\n",
            "750/750 [==============================] - 110s 147ms/step - loss: 0.0097 - acc: 0.9997 - val_loss: 8.4939 - val_acc: 0.8757\n",
            "Epoch 11/20\n",
            "750/750 [==============================] - 108s 145ms/step - loss: 4.7066e-07 - acc: 1.0000 - val_loss: 9.7015 - val_acc: 0.8755\n",
            "Epoch 12/20\n",
            "750/750 [==============================] - 108s 144ms/step - loss: 0.0103 - acc: 0.9997 - val_loss: 9.5447 - val_acc: 0.8754\n",
            "Epoch 13/20\n",
            "750/750 [==============================] - 107s 143ms/step - loss: 0.0119 - acc: 0.9995 - val_loss: 10.4982 - val_acc: 0.8722\n",
            "Epoch 14/20\n",
            "750/750 [==============================] - 107s 143ms/step - loss: 0.0013 - acc: 0.9999 - val_loss: 10.0026 - val_acc: 0.8750\n",
            "Epoch 15/20\n",
            "750/750 [==============================] - 109s 146ms/step - loss: 3.2759e-08 - acc: 1.0000 - val_loss: 10.1541 - val_acc: 0.8727\n",
            "Epoch 16/20\n",
            "750/750 [==============================] - 110s 147ms/step - loss: 1.0894e-09 - acc: 1.0000 - val_loss: 10.2678 - val_acc: 0.8725\n",
            "Epoch 17/20\n",
            "750/750 [==============================] - 110s 147ms/step - loss: 3.9464e-10 - acc: 1.0000 - val_loss: 10.3089 - val_acc: 0.8723\n",
            "Epoch 18/20\n",
            "750/750 [==============================] - 109s 145ms/step - loss: 2.3583e-10 - acc: 1.0000 - val_loss: 10.3412 - val_acc: 0.8724\n",
            "Epoch 19/20\n",
            "750/750 [==============================] - 114s 151ms/step - loss: 1.8122e-10 - acc: 1.0000 - val_loss: 10.3622 - val_acc: 0.8723\n",
            "Epoch 20/20\n",
            "750/750 [==============================] - 109s 145ms/step - loss: 1.5491e-10 - acc: 1.0000 - val_loss: 10.3854 - val_acc: 0.8723\n"
          ],
          "name": "stdout"
        }
      ]
    },
    {
      "cell_type": "code",
      "metadata": {
        "id": "tGU-m22oiJNb"
      },
      "source": [
        "o_history = origin_history.history\n",
        "s_hisotry = small_history.history\n",
        "b_history = bigger_history.history"
      ],
      "execution_count": null,
      "outputs": []
    },
    {
      "cell_type": "code",
      "metadata": {
        "id": "15MxdmNjiy00",
        "outputId": "69e1da7f-4bd2-4a6d-a09c-d1748c6f5e4c",
        "colab": {
          "base_uri": "https://localhost:8080/"
        }
      },
      "source": [
        "range(len(o_history['val_loss']))"
      ],
      "execution_count": null,
      "outputs": [
        {
          "output_type": "execute_result",
          "data": {
            "text/plain": [
              "range(0, 20)"
            ]
          },
          "metadata": {
            "tags": []
          },
          "execution_count": 17
        }
      ]
    },
    {
      "cell_type": "code",
      "metadata": {
        "id": "8aj324gGiJPb",
        "outputId": "c98e9fc2-bda7-4482-d5ef-608130f9eddd",
        "colab": {
          "base_uri": "https://localhost:8080/",
          "height": 483
        }
      },
      "source": [
        "import matplotlib.pyplot as plt\n",
        "plt.subplots(1,1,figsize=(10,8))\n",
        "epochs = range(len(o_history['val_loss']))\n",
        "plt.plot(epochs,o_history['val_loss'],label = 'origin')\n",
        "plt.plot(epochs,b_history['val_loss'],label='bigger')\n",
        "plt.plot(epochs,s_hisotry['val_loss'],label='small')\n",
        "# plt.x_tick()\n",
        "plt.legend()\n",
        "plt.show()"
      ],
      "execution_count": null,
      "outputs": [
        {
          "output_type": "display_data",
          "data": {
            "image/png": "[encoded data removed]",
            "text/plain": [
              "<Figure size 720x576 with 1 Axes>"
            ]
          },
          "metadata": {
            "tags": [],
            "needs_background": "light"
          }
        }
      ]
    },
    {
      "cell_type": "code",
      "metadata": {
        "id": "7HsAp6kSDma8",
        "outputId": "d419adae-8f32-430a-f908-b26d6faa4ed7",
        "colab": {
          "base_uri": "https://localhost:8080/"
        }
      },
      "source": [
        "o_history = origin_history.history\n",
        "o_history['loss']"
      ],
      "execution_count": null,
      "outputs": [
        {
          "output_type": "execute_result",
          "data": {
            "text/plain": [
              "[0.35210567712783813,\n",
              " 0.20936188101768494,\n",
              " 0.1704338937997818,\n",
              " 0.14549967646598816,\n",
              " 0.12859830260276794,\n",
              " 0.11428982764482498,\n",
              " 0.10111109912395477,\n",
              " 0.09119314700365067,\n",
              " 0.08359044790267944,\n",
              " 0.07484108954668045,\n",
              " 0.0660695880651474,\n",
              " 0.06026989594101906,\n",
              " 0.05392615124583244,\n",
              " 0.04937409237027168,\n",
              " 0.044885486364364624,\n",
              " 0.04144277051091194,\n",
              " 0.03716953471302986,\n",
              " 0.034212224185466766,\n",
              " 0.03000045008957386,\n",
              " 0.027849048376083374]"
            ]
          },
          "metadata": {
            "tags": []
          },
          "execution_count": 8
        }
      ]
    },
    {
      "cell_type": "markdown",
      "metadata": {
        "id": "JBkY-sNxuNM_"
      },
      "source": [
        "# 가중치 규제 추가"
      ]
    },
    {
      "cell_type": "code",
      "metadata": {
        "id": "zP8pYJCXiJLQ"
      },
      "source": [
        "# 4-6 모델에 L2 가중치 추가하기\n",
        "from keras import regularizers\n",
        "\n",
        "model = models.Sequential()\n",
        "model.add(layers.Dense(16,kernel_regularizer=regularizers.l2(0.001),\n",
        "                       activation='relu', input_shape=(10000,)))\n",
        "model.add(layers.Dense(16,kernel_regularizer=regularizers.l2(0.001),\n",
        "                       activation='relu'))\n",
        "model.add(layers.Dense(1,activation='sigmoid'))"
      ],
      "execution_count": null,
      "outputs": []
    },
    {
      "cell_type": "code",
      "metadata": {
        "id": "T9EL4hHoiJHa"
      },
      "source": [
        "# 4-7 케라스에서 사용할 수 있는 가중치 규제\n",
        "regularizers.l1(0.001) # l1규제\n",
        "regularizers.l1_l2(l1=.0.001,l2=0.001)# l1, l2 규제 병행"
      ],
      "execution_count": null,
      "outputs": []
    },
    {
      "cell_type": "markdown",
      "metadata": {
        "id": "1Z2RP9NMvYSa"
      },
      "source": [
        "# 드롭아웃 추가"
      ]
    },
    {
      "cell_type": "code",
      "metadata": {
        "id": "dFUHngw1iJC7"
      },
      "source": [
        "model = model.Sequential()\n",
        "model.add(layers.Dense(16,activation='relu',input_shape=(10000,)))\n",
        "model.add(layers.Dropout(0.5))\n",
        "model.add(layers.Dense(16,activation='relu'))\n",
        "model.add(layers.Dropout(0.5))\n",
        "model.add(layers.Dense(1,activation='sigmoid'))"
      ],
      "execution_count": null,
      "outputs": []
    },
    {
      "cell_type": "code",
      "metadata": {
        "id": "ogZcfWtfiIvW"
      },
      "source": [
        ""
      ],
      "execution_count": null,
      "outputs": []
    },
    {
      "cell_type": "code",
      "metadata": {
        "id": "mkkr3oWdiIrd"
      },
      "source": [
        ""
      ],
      "execution_count": null,
      "outputs": []
    },
    {
      "cell_type": "code",
      "metadata": {
        "id": "LyRQNab4iInE"
      },
      "source": [
        ""
      ],
      "execution_count": null,
      "outputs": []
    }
  ]
}