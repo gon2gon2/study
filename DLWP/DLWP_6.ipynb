{
  "nbformat": 4,
  "nbformat_minor": 0,
  "metadata": {
    "colab": {
      "name": "DLWP_6.ipynb",
      "provenance": [],
      "collapsed_sections": []
    },
    "kernelspec": {
      "name": "python3",
      "display_name": "Python 3"
    }
  },
  "cells": [
    {
      "cell_type": "markdown",
      "metadata": {
        "id": "aJixDZ6-lbhS"
      },
      "source": [
        "<a href=\"https://github.com/gilbutITbook/006975\">코드</a>"
      ]
    },
    {
      "cell_type": "code",
      "metadata": {
        "colab": {
          "base_uri": "https://localhost:8080/"
        },
        "id": "D1eXpS3n_gH8",
        "outputId": "8ff1c0a4-9ceb-4e5d-f7e7-c1356ca846b2"
      },
      "source": [
        "import tensorflow as tf\n",
        "print(tf.__version__)"
      ],
      "execution_count": null,
      "outputs": [
        {
          "output_type": "stream",
          "text": [
            "2.3.0\n"
          ],
          "name": "stdout"
        }
      ]
    },
    {
      "cell_type": "markdown",
      "metadata": {
        "id": "1T3A8NDfxEM_"
      },
      "source": [
        "# 텍스트와 시퀀스를 위한 딥러닝\n",
        "## 시퀀스 데이터를 처리하는 기본적인 모델\n",
        "- 순환 신경망\n",
        "- 1D Convnet\n",
        "\n",
        "## 자연어 처리 과정\n",
        "- 자연어 -> 토큰화 -> 벡터화"
      ]
    },
    {
      "cell_type": "markdown",
      "metadata": {
        "id": "O2Ao7JGYBPxs"
      },
      "source": [
        "# 6.1 텍스트 데이터 다루기"
      ]
    },
    {
      "cell_type": "markdown",
      "metadata": {
        "id": "ruQahocFBvnF"
      },
      "source": [
        "### 단어수준의 one-hot 인코딩"
      ]
    },
    {
      "cell_type": "code",
      "metadata": {
        "id": "8kg3gt-y_fpd"
      },
      "source": [
        "# 6-1 단어 수준의 원-핫 인코딩하기(간단한 예)\n",
        "import numpy as np\n",
        "\n",
        "# 초기 데이터: 각 원소가 셈플\n",
        "# 여기서는 하나의 샘플이 하나의 문장이지만, 문서 전체가 될 수도 있다.\n",
        "\n",
        "samples = ['The cat sat on the mat.', 'The dog ate my homework.']\n",
        "\n",
        "# 데이터 내의 모든 토큰의 인덱스를 구한다\n",
        "token_index = {}\n",
        "for sample in samples:\n",
        "  # split으로 토큰으로 나눔\n",
        "  # 실전에서는 구둣점, 특문 사용\n",
        "  for word in sample.split():\n",
        "    if word not in token_index:\n",
        "      token_index[word] = len(token_index) + 1\n",
        "      # 인덱스 0은 사용하지 않는다\n",
        "\n",
        "# 샘플을 벡터로 변환합니다\n",
        "# 각 샘플에서 max_length까지 단어만 사용\n",
        "max_length = 10\n",
        "\n",
        "# 결과를 저장할 배열\n",
        "results = np.zeros((len(samples),max_length,max(token_index.values())+1))\n",
        "for i, sample in enumerate(samples):\n",
        "  for j, character in list(enumerate(sample.split()))[:max_length]:\n",
        "    index = token_index.get(character)\n",
        "    results[i, j, index] = 1."
      ],
      "execution_count": null,
      "outputs": []
    },
    {
      "cell_type": "markdown",
      "metadata": {
        "id": "7bSeLr-qB2iM"
      },
      "source": [
        "### 문자 수준 원-핫 인코딩"
      ]
    },
    {
      "cell_type": "code",
      "metadata": {
        "id": "1AV0BvGiABZf"
      },
      "source": [
        "# 6-2 문자 수준 원-핫 인코딩하기(간단한 예)\n",
        "import string\n",
        "\n",
        "samples = ['The cat sat on the mat.', 'The dog ate my homework.']\n",
        "characters = string.printable\n",
        "token_index = dict(zip(characters,range(1,len(characters)+1)))\n",
        "\n",
        "max_length = 50\n",
        "results = np.zeros((len(samples),max_length,max(token_index.values())+1))\n",
        "for i, sample in enumerate(samples):\n",
        "  for j, character in enumerate(sample[:max_length]):\n",
        "    index = token_index.get(character)\n",
        "    results[i,j,index] = 1."
      ],
      "execution_count": null,
      "outputs": []
    },
    {
      "cell_type": "code",
      "metadata": {
        "colab": {
          "base_uri": "https://localhost:8080/"
        },
        "id": "FA60p47-Cin1",
        "outputId": "68f16656-4e0e-4636-f7d3-2e610054af4f"
      },
      "source": [
        "results[1][1]"
      ],
      "execution_count": null,
      "outputs": [
        {
          "output_type": "execute_result",
          "data": {
            "text/plain": [
              "array([0., 0., 0., 0., 0., 0., 0., 0., 0., 0., 0., 0., 0., 0., 0., 0., 0.,\n",
              "       0., 1., 0., 0., 0., 0., 0., 0., 0., 0., 0., 0., 0., 0., 0., 0., 0.,\n",
              "       0., 0., 0., 0., 0., 0., 0., 0., 0., 0., 0., 0., 0., 0., 0., 0., 0.,\n",
              "       0., 0., 0., 0., 0., 0., 0., 0., 0., 0., 0., 0., 0., 0., 0., 0., 0.,\n",
              "       0., 0., 0., 0., 0., 0., 0., 0., 0., 0., 0., 0., 0., 0., 0., 0., 0.,\n",
              "       0., 0., 0., 0., 0., 0., 0., 0., 0., 0., 0., 0., 0., 0., 0., 0.])"
            ]
          },
          "metadata": {
            "tags": []
          },
          "execution_count": 5
        }
      ]
    },
    {
      "cell_type": "markdown",
      "metadata": {
        "id": "6orzM3sioOeM"
      },
      "source": [
        "### 케라스를 사용한 단어 수준의 원-핫 인코딩하기"
      ]
    },
    {
      "cell_type": "code",
      "metadata": {
        "id": "KYr5uXv4ABVM",
        "colab": {
          "base_uri": "https://localhost:8080/"
        },
        "outputId": "47fec319-7316-4c49-a06c-9e2cada404cc"
      },
      "source": [
        "# 케라스를 사용한 단어 수준의 원-핫 인코딩하기\n",
        "from keras.preprocessing.text import Tokenizer\n",
        "\n",
        "samples = ['The cat sat on the mat.', 'The dog ate my homework.']\n",
        "\n",
        "# 가장 빈도가 높은 1,000개의 단어만 선택하도록 Tokenizer 객체를 만듭니다.\n",
        "tokenizer = Tokenizer(num_words=1000)\n",
        "# 단어 인덱스를 구축합니다.\n",
        "tokenizer.fit_on_texts(samples)\n",
        "\n",
        "# 문자열을 정수 인덱스의 리스트로 변환합니다.\n",
        "sequences = tokenizer.texts_to_sequences(samples)\n",
        "\n",
        "# 직접 원-핫 이진 벡터 표현을 얻을 수 있습니다.\n",
        "# 원-핫 인코딩 외에 다른 벡터화 방법들도 제공합니다!\n",
        "one_hot_results = tokenizer.texts_to_matrix(samples, mode='binary')\n",
        "\n",
        "# 계산된 단어 인덱스를 구합니다.\n",
        "word_index = tokenizer.word_index\n",
        "print('Found %s unique tokens.' % len(word_index))"
      ],
      "execution_count": null,
      "outputs": [
        {
          "output_type": "stream",
          "text": [
            "Found 9 unique tokens.\n"
          ],
          "name": "stdout"
        }
      ]
    },
    {
      "cell_type": "markdown",
      "metadata": {
        "id": "8fGIfIf2oBsf"
      },
      "source": [
        "### 해싱을 이용한 단어수준의 원-핫 인코딩"
      ]
    },
    {
      "cell_type": "code",
      "metadata": {
        "id": "i4YEtyAj_2bg"
      },
      "source": [
        "# 6-4 해싱 기법을 사용한 단어 수준의 원-핫 인코딩하기(간단한 예)\n",
        "samples = ['The cat sat on the mat.', 'The dog ate my homework.']\n",
        "\n",
        "# 단어를 크기가 1,000인 벡터로 저장합니다.\n",
        "# 1,000개(또는 그이상)의 단어가 있다면 해싱 충돌이 늘어나고 인코딩의 정확도가 감소될 것입니다\n",
        "dimensionality = 1000\n",
        "max_length = 10\n",
        "\n",
        "results = np.zeros((len(samples), max_length, dimensionality))\n",
        "for i, sample in enumerate(samples):\n",
        "    for j, word in list(enumerate(sample.split()))[:max_length]:\n",
        "        # 단어를 해싱하여 0과 1,000 사이의 랜덤한 정수 인덱스로 변환합니다.\n",
        "        index = abs(hash(word)) % dimensionality\n",
        "        results[i, j, index] = 1."
      ],
      "execution_count": null,
      "outputs": []
    },
    {
      "cell_type": "markdown",
      "metadata": {
        "id": "3dSg-8IfqOYr"
      },
      "source": [
        "### 원핫 인코딩의 특징\n",
        "1. sparse하다\n",
        "2. 고차원이다\n",
        "3. 수동 인코딩이다\n",
        "\n",
        "### 단어 임베딩(밀집 단어 벡터) 방법\n",
        "1. 관심 대상인 무제와 함께 단어 임베딩을 학습\n",
        "2. 사전 훈련된 단어 임베딩을 로드"
      ]
    },
    {
      "cell_type": "markdown",
      "metadata": {
        "id": "t6lkdYWXvU9D"
      },
      "source": [
        "### 직접 임베딩 훈련"
      ]
    },
    {
      "cell_type": "code",
      "metadata": {
        "id": "qLfbk2rzq_vf"
      },
      "source": [
        "# 6-5 Embedding 층의 객체 생성하기\n",
        "from keras.layers import Embedding\n",
        "\n",
        "embedding_layer = Embedding(1000, 64) #가능한 토큰의 개수 == max(단어index)+ 1, 임베딩차원"
      ],
      "execution_count": null,
      "outputs": []
    },
    {
      "cell_type": "code",
      "metadata": {
        "colab": {
          "base_uri": "https://localhost:8080/"
        },
        "id": "QzKliX9urM01",
        "outputId": "24eb51cb-08fd-4b34-81f9-a6416b16c73c"
      },
      "source": [
        "# 6-6 Embdding 층에 사용할 IMDB 데이터 고르기\n",
        "from keras.datasets import imdb\n",
        "from keras import preprocessing\n",
        "\n",
        "max_features = 10000   # 특성으로 사용할 단어의 수\n",
        "maxlen = 20            # 사용할 텍스트의 길이(가장 빈번한 max_features개의 단어만 사용)\n",
        "\n",
        "(x_train, y_train), (x_test,y_test) = imdb.load_data(num_words=max_features)\n",
        "\n",
        "x_train = preprocessing.sequence.pad_sequences(x_train, maxlen=maxlen)\n",
        "x_test = preprocessing.sequence.pad_sequences(x_test, maxlen=maxlen)"
      ],
      "execution_count": null,
      "outputs": [
        {
          "output_type": "stream",
          "text": [
            "Downloading data from https://storage.googleapis.com/tensorflow/tf-keras-datasets/imdb.npz\n",
            "17465344/17464789 [==============================] - 2s 0us/step\n"
          ],
          "name": "stdout"
        }
      ]
    },
    {
      "cell_type": "code",
      "metadata": {
        "colab": {
          "base_uri": "https://localhost:8080/"
        },
        "id": "47hWjOzbrM5K",
        "outputId": "911283b7-8867-4975-cc7d-154903d5b9a3"
      },
      "source": [
        "# 6-7 IMDB데이터에 Embedding 층과 분류기 사용하기\n",
        "from keras.models import Sequential\n",
        "from keras.layers import Flatten, Dense, Embedding\n",
        "\n",
        "model=Sequential()\n",
        "model.add(Embedding(10000,8,input_length=maxlen))     # 나중에 Flatten으로 펼치기 위해 input_length를 지정해줌\n",
        "                                                      # 이 층의 출력은 (samples, maxlen, 8)\n",
        "\n",
        "model.add(Flatten()) # 3D임베딩 텐서를 (samples, maxlen*8)의 크기의 2D 텐서로 펼친다\n",
        "\n",
        "model.add(Dense(1,activation='sigmoid'))\n",
        "model.compile(optimizer='rmsprop',loss='binary_crossentropy',metrics=['acc'])\n",
        "model.summary()\n",
        "\n",
        "history= model.fit(x_train,y_train,\n",
        "                   epochs=10,\n",
        "                   batch_size=32,\n",
        "                   validation_split=0.2)"
      ],
      "execution_count": null,
      "outputs": [
        {
          "output_type": "stream",
          "text": [
            "Model: \"sequential\"\n",
            "_________________________________________________________________\n",
            "Layer (type)                 Output Shape              Param #   \n",
            "=================================================================\n",
            "embedding_1 (Embedding)      (None, 20, 8)             80000     \n",
            "_________________________________________________________________\n",
            "flatten (Flatten)            (None, 160)               0         \n",
            "_________________________________________________________________\n",
            "dense (Dense)                (None, 1)                 161       \n",
            "=================================================================\n",
            "Total params: 80,161\n",
            "Trainable params: 80,161\n",
            "Non-trainable params: 0\n",
            "_________________________________________________________________\n",
            "Epoch 1/10\n",
            "625/625 [==============================] - 1s 2ms/step - loss: 0.6601 - acc: 0.6449 - val_loss: 0.6023 - val_acc: 0.7102\n",
            "Epoch 2/10\n",
            "625/625 [==============================] - 1s 1ms/step - loss: 0.5298 - acc: 0.7551 - val_loss: 0.5210 - val_acc: 0.7356\n",
            "Epoch 3/10\n",
            "625/625 [==============================] - 1s 1ms/step - loss: 0.4578 - acc: 0.7895 - val_loss: 0.4998 - val_acc: 0.7478\n",
            "Epoch 4/10\n",
            "625/625 [==============================] - 1s 1ms/step - loss: 0.4211 - acc: 0.8094 - val_loss: 0.4943 - val_acc: 0.7520\n",
            "Epoch 5/10\n",
            "625/625 [==============================] - 1s 1ms/step - loss: 0.3944 - acc: 0.8235 - val_loss: 0.4937 - val_acc: 0.7570\n",
            "Epoch 6/10\n",
            "625/625 [==============================] - 1s 1ms/step - loss: 0.3716 - acc: 0.8354 - val_loss: 0.4976 - val_acc: 0.7550\n",
            "Epoch 7/10\n",
            "625/625 [==============================] - 1s 1ms/step - loss: 0.3509 - acc: 0.8482 - val_loss: 0.5035 - val_acc: 0.7542\n",
            "Epoch 8/10\n",
            "625/625 [==============================] - 1s 1ms/step - loss: 0.3320 - acc: 0.8595 - val_loss: 0.5093 - val_acc: 0.7512\n",
            "Epoch 9/10\n",
            "625/625 [==============================] - 1s 1ms/step - loss: 0.3140 - acc: 0.8676 - val_loss: 0.5168 - val_acc: 0.7500\n",
            "Epoch 10/10\n",
            "625/625 [==============================] - 1s 1ms/step - loss: 0.2967 - acc: 0.8773 - val_loss: 0.5252 - val_acc: 0.7516\n"
          ],
          "name": "stdout"
        }
      ]
    },
    {
      "cell_type": "markdown",
      "metadata": {
        "id": "9X_qeonUvRFy"
      },
      "source": [
        "### 사전 훈련된 임베딩"
      ]
    },
    {
      "cell_type": "code",
      "metadata": {
        "id": "kvJnK85KrNQf"
      },
      "source": [
        ""
      ],
      "execution_count": null,
      "outputs": []
    },
    {
      "cell_type": "code",
      "metadata": {
        "id": "lBfEnbdVvZ9x"
      },
      "source": [
        ""
      ],
      "execution_count": null,
      "outputs": []
    },
    {
      "cell_type": "code",
      "metadata": {
        "id": "TzR-s1gorNSj"
      },
      "source": [
        ""
      ],
      "execution_count": null,
      "outputs": []
    },
    {
      "cell_type": "code",
      "metadata": {
        "id": "p-7_KZThrNOK"
      },
      "source": [
        ""
      ],
      "execution_count": null,
      "outputs": []
    },
    {
      "cell_type": "code",
      "metadata": {
        "id": "8QzVeH1JrM3E"
      },
      "source": [
        ""
      ],
      "execution_count": null,
      "outputs": []
    },
    {
      "cell_type": "code",
      "metadata": {
        "id": "yKU7qJBtrMyc"
      },
      "source": [
        ""
      ],
      "execution_count": null,
      "outputs": []
    },
    {
      "cell_type": "markdown",
      "metadata": {
        "id": "EX307rnqphVe"
      },
      "source": [
        "# 6.2 순환 신경망 이해하기"
      ]
    },
    {
      "cell_type": "code",
      "metadata": {
        "id": "JuPzrUaOw-4Y"
      },
      "source": [
        ""
      ],
      "execution_count": null,
      "outputs": []
    },
    {
      "cell_type": "code",
      "metadata": {
        "id": "vBBPBlsSw5gY"
      },
      "source": [
        ""
      ],
      "execution_count": null,
      "outputs": []
    },
    {
      "cell_type": "markdown",
      "metadata": {
        "id": "32_WbvW8popS"
      },
      "source": [
        "# 6.3 순환 신경망의 고급 사용법"
      ]
    },
    {
      "cell_type": "code",
      "metadata": {
        "id": "pJgHENFJptBb"
      },
      "source": [
        ""
      ],
      "execution_count": null,
      "outputs": []
    },
    {
      "cell_type": "markdown",
      "metadata": {
        "id": "arcFSbOKpuO-"
      },
      "source": [
        "# 6.4 컨브넷을 사용한 시퀀스 처리"
      ]
    },
    {
      "cell_type": "code",
      "metadata": {
        "id": "3IwcRNDtpzvI"
      },
      "source": [
        ""
      ],
      "execution_count": null,
      "outputs": []
    }
  ]
}