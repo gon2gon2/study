{
  "nbformat": 4,
  "nbformat_minor": 0,
  "metadata": {
    "colab": {
      "name": "DLWP2_2.ipynb",
      "provenance": [],
      "collapsed_sections": []
    },
    "kernelspec": {
      "name": "python3",
      "display_name": "Python 3"
    }
  },
  "cells": [
    {
      "cell_type": "markdown",
      "metadata": {
        "id": "GNF-YTY_AEjA"
      },
      "source": [
        "## 케라스에서 MNIST 데이터셋 적재하기"
      ]
    },
    {
      "cell_type": "code",
      "metadata": {
        "id": "Nx-Ihc81_oe9"
      },
      "source": [
        "from keras.datasets import mnist\n",
        "# (훈련 세트), (테스트 세트)\n",
        "(train_images, train_labels), (test_images, test_labels) = mnist.load_data()"
      ],
      "execution_count": 39,
      "outputs": []
    },
    {
      "cell_type": "code",
      "metadata": {
        "id": "HKMNQ9Ud_v9U",
        "outputId": "df15b293-fb38-4604-a97a-85e8b909d1aa",
        "colab": {
          "base_uri": "https://localhost:8080/",
          "height": 71
        }
      },
      "source": [
        "# 훈련 데이터 살펴보기\n",
        "print(\"train_images:\",train_images.shape)\n",
        "print(\"train_labels:\",train_labels)\n",
        "print(\"length of train_labels:\",len(train_labels))"
      ],
      "execution_count": 2,
      "outputs": [
        {
          "output_type": "stream",
          "text": [
            "train_images: (60000, 28, 28)\n",
            "train_labels: [5 0 4 ... 5 6 8]\n",
            "length of train_labels: 60000\n"
          ],
          "name": "stdout"
        }
      ]
    },
    {
      "cell_type": "code",
      "metadata": {
        "id": "Ncs1cuWv_z7i",
        "outputId": "e9957bf8-49c4-4dcf-e485-71a2c2c210ae",
        "colab": {
          "base_uri": "https://localhost:8080/",
          "height": 71
        }
      },
      "source": [
        "# 테스트 데이터 살펴보기\n",
        "print(\"test_images:\",test_images.shape)\n",
        "print(\"test_labels:\",test_labels)\n",
        "print(\"length of test_labels:\",len(test_labels))"
      ],
      "execution_count": 3,
      "outputs": [
        {
          "output_type": "stream",
          "text": [
            "test_images: (10000, 28, 28)\n",
            "test_labels: [7 2 1 ... 4 5 6]\n",
            "length of test_labels: 10000\n"
          ],
          "name": "stdout"
        }
      ]
    },
    {
      "cell_type": "markdown",
      "metadata": {
        "id": "_i15WvpBABFD"
      },
      "source": [
        "## 2-2 신경망 구조"
      ]
    },
    {
      "cell_type": "code",
      "metadata": {
        "id": "HFONISyn_0Qa"
      },
      "source": [
        "from keras import models\n",
        "from keras import layers\n",
        "\n",
        "network = models.Sequential()\n",
        "network.add(layers.Dense(512, activation='relu', input_shape=(28*28,)))  # Dense층 : fully-connected 완전 연결, 조밀하게 연결\n",
        "network.add(layers.Dense(10,activation='softmax'))                       # 10개의 확률 점수가 들어있는 배열을 반환하는 소프트맥스 층"
      ],
      "execution_count": 4,
      "outputs": []
    },
    {
      "cell_type": "markdown",
      "metadata": {
        "id": "keXLwUXVAKGW"
      },
      "source": [
        "## 2-3 컴파일 단계\n",
        "신경망이 훈련 준비를 마치기 위해서 컴파일 단계에 포함될 세 가지\n",
        "- loss function: 옳은 방향으로 학습할 수 있게 해줌\n",
        "- optimizer: 데이터와 loss function을 이용해 네트워크를 업데이트하는 메커니즘\n",
        "- metrics: 훈련과 테스트 과정을 모니터링할 지표"
      ]
    },
    {
      "cell_type": "code",
      "metadata": {
        "id": "yCzcPN2R_0ri"
      },
      "source": [
        "network.compile(optimizer='rmsprop',\n",
        "                loss = 'categorical_crossentropy',\n",
        "                metrics=['accuracy'])"
      ],
      "execution_count": 6,
      "outputs": []
    },
    {
      "cell_type": "markdown",
      "metadata": {
        "id": "SMuTbJTiBga0"
      },
      "source": [
        "## 2-4 이미지 데이터 준비하기\n",
        "- 데이터를 네트워크에 맞는 크기로 바꾼다 \n",
        "- 모든 값을 0과 1 사이로 스케일 조정 (신경망은 입력값의 스케일에 민감하다)"
      ]
    },
    {
      "cell_type": "code",
      "metadata": {
        "id": "tXi_Y8-yCOPC",
        "outputId": "240b3283-e8bf-42b0-bc37-da2239a37481",
        "colab": {
          "base_uri": "https://localhost:8080/",
          "height": 35
        }
      },
      "source": [
        "train_images1 = train_images.reshape(60000,28*28)"
      ],
      "execution_count": null,
      "outputs": [
        {
          "output_type": "execute_result",
          "data": {
            "text/plain": [
              "(60000, 784)"
            ]
          },
          "metadata": {
            "tags": []
          },
          "execution_count": 8
        }
      ]
    },
    {
      "cell_type": "code",
      "metadata": {
        "id": "dM-MzU7DBfg-"
      },
      "source": [
        "train_images = train_images.reshape((60000,28*28)) # 왜 괄호가 이중으로?\n",
        "train_images = train_images.astype('float32')/255\n",
        "\n",
        "test_images = test_images.reshape((10000,28*28))\n",
        "test_images = test_images.astype('float32')/255"
      ],
      "execution_count": 12,
      "outputs": []
    },
    {
      "cell_type": "code",
      "metadata": {
        "id": "W0w0mcj3CsCE",
        "outputId": "c16a48b4-9fc9-4a92-885b-d236455b08e4",
        "colab": {
          "base_uri": "https://localhost:8080/",
          "height": 53
        }
      },
      "source": [
        "print('괄호 한개:',train_images1.shape)\n",
        "print('괄호 두개:',train_images.shape)"
      ],
      "execution_count": 15,
      "outputs": [
        {
          "output_type": "stream",
          "text": [
            "괄호 한개: (60000, 784)\n",
            "괄호 두개: (60000, 784)\n"
          ],
          "name": "stdout"
        }
      ]
    },
    {
      "cell_type": "markdown",
      "metadata": {
        "id": "T8vAOc5TDjDt"
      },
      "source": [
        "## 2-5 레이블 준비하기\n",
        "- 레이블을 범주형으로 인코딩\n",
        "- 훈련데이터의 개수 n, 클래스의 개수 k ->  입력받은 n에 대해 (n,k)의 정수 배열로 변경"
      ]
    },
    {
      "cell_type": "code",
      "metadata": {
        "id": "_XRjtch6_0wl"
      },
      "source": [
        "from keras.utils import to_categorical\n",
        "\n",
        "train_labels = to_categorical(train_labels)\n",
        "test_labels = to_categorical(test_labels)"
      ],
      "execution_count": 16,
      "outputs": []
    },
    {
      "cell_type": "code",
      "metadata": {
        "id": "BPHDiHCk_00V",
        "outputId": "da439313-dfc9-4979-98be-28fa9148d775",
        "colab": {
          "base_uri": "https://localhost:8080/",
          "height": 143
        }
      },
      "source": [
        "train_labels"
      ],
      "execution_count": 17,
      "outputs": [
        {
          "output_type": "execute_result",
          "data": {
            "text/plain": [
              "array([[0., 0., 0., ..., 0., 0., 0.],\n",
              "       [1., 0., 0., ..., 0., 0., 0.],\n",
              "       [0., 0., 0., ..., 0., 0., 0.],\n",
              "       ...,\n",
              "       [0., 0., 0., ..., 0., 0., 0.],\n",
              "       [0., 0., 0., ..., 0., 0., 0.],\n",
              "       [0., 0., 0., ..., 0., 1., 0.]], dtype=float32)"
            ]
          },
          "metadata": {
            "tags": []
          },
          "execution_count": 17
        }
      ]
    },
    {
      "cell_type": "markdown",
      "metadata": {
        "id": "0numR1UlETf-"
      },
      "source": [
        "## 훈련하기"
      ]
    },
    {
      "cell_type": "code",
      "metadata": {
        "id": "y5aVzRyk_030",
        "outputId": "db081c76-1b2c-4ea8-fccc-443ae210bf82",
        "colab": {
          "base_uri": "https://localhost:8080/",
          "height": 215
        }
      },
      "source": [
        "network.fit(train_images,train_labels,epochs=5,batch_size=128)"
      ],
      "execution_count": 18,
      "outputs": [
        {
          "output_type": "stream",
          "text": [
            "Epoch 1/5\n",
            "469/469 [==============================] - 4s 9ms/step - loss: 1.4767 - accuracy: 0.6896\n",
            "Epoch 2/5\n",
            "469/469 [==============================] - 4s 9ms/step - loss: 0.5851 - accuracy: 0.8530\n",
            "Epoch 3/5\n",
            "469/469 [==============================] - 4s 9ms/step - loss: 0.4112 - accuracy: 0.8885\n",
            "Epoch 4/5\n",
            "469/469 [==============================] - 4s 9ms/step - loss: 0.3528 - accuracy: 0.9009\n",
            "Epoch 5/5\n",
            "469/469 [==============================] - 4s 9ms/step - loss: 0.3236 - accuracy: 0.9076\n"
          ],
          "name": "stdout"
        },
        {
          "output_type": "execute_result",
          "data": {
            "text/plain": [
              "<tensorflow.python.keras.callbacks.History at 0x7fc5cae787f0>"
            ]
          },
          "metadata": {
            "tags": []
          },
          "execution_count": 18
        }
      ]
    },
    {
      "cell_type": "markdown",
      "metadata": {
        "id": "Ng_DlZ35EZqt"
      },
      "source": [
        "## 테스트하기"
      ]
    },
    {
      "cell_type": "code",
      "metadata": {
        "id": "A4rqGa5D_zYY",
        "outputId": "89709605-487e-4a29-a9b6-dec355a7fd6a",
        "colab": {
          "base_uri": "https://localhost:8080/",
          "height": 53
        }
      },
      "source": [
        "test_loss, test_acc = network.evaluate(test_images,test_labels)\n",
        "print('test_acc:',test_acc)"
      ],
      "execution_count": 21,
      "outputs": [
        {
          "output_type": "stream",
          "text": [
            "313/313 [==============================] - 1s 2ms/step - loss: 54.1648 - accuracy: 0.8208\n",
            "test_acc: 0.8208000063896179\n"
          ],
          "name": "stdout"
        }
      ]
    },
    {
      "cell_type": "code",
      "metadata": {
        "id": "o1c8-WBVIRtW",
        "outputId": "4b8dd98f-7957-4d17-a030-c26b2d2bf58e",
        "colab": {
          "base_uri": "https://localhost:8080/",
          "height": 35
        }
      },
      "source": [
        "digit."
      ],
      "execution_count": 35,
      "outputs": [
        {
          "output_type": "execute_result",
          "data": {
            "text/plain": [
              "(784,)"
            ]
          },
          "metadata": {
            "tags": []
          },
          "execution_count": 35
        }
      ]
    },
    {
      "cell_type": "code",
      "metadata": {
        "id": "8ZnofIVXHoVH",
        "outputId": "72257bc5-1e39-4846-de50-157d0cd15f76",
        "colab": {
          "base_uri": "https://localhost:8080/",
          "height": 265
        }
      },
      "source": [
        "## 2-6 다선 번째 이미지 출력하기\n",
        "digit = train_images[4].reshape(28,28)\n",
        "import matplotlib.pyplot as plt\n",
        "plt.imshow(digit, cmap = plt.cm.binary)\n",
        "plt.show()"
      ],
      "execution_count": 37,
      "outputs": [
        {
          "output_type": "display_data",
          "data": {
            "image/png": "[encoded data removed]",
            "text/plain": [
              "<Figure size 432x288 with 1 Axes>"
            ]
          },
          "metadata": {
            "tags": [],
            "needs_background": "light"
          }
        }
      ]
    },
    {
      "cell_type": "markdown",
      "metadata": {
        "id": "pFQrqnA9FS-2"
      },
      "source": [
        "# 신경망을 위한 데이터 표현"
      ]
    },
    {
      "cell_type": "markdown",
      "metadata": {
        "id": "3ryjSqN1Ib-k"
      },
      "source": [
        "## 텐서란?"
      ]
    },
    {
      "cell_type": "markdown",
      "metadata": {
        "id": "lwdNvJ5CFzm7"
      },
      "source": [
        "### 스칼라 텐서"
      ]
    },
    {
      "cell_type": "code",
      "metadata": {
        "id": "arDGzZOIFS2C"
      },
      "source": [
        "import numpy as np\n",
        "x = np.array(12)"
      ],
      "execution_count": 22,
      "outputs": []
    },
    {
      "cell_type": "code",
      "metadata": {
        "id": "XnNbhgUkFwMt",
        "outputId": "d4324333-66df-4b71-f990-a1f9626b1456",
        "colab": {
          "base_uri": "https://localhost:8080/",
          "height": 35
        }
      },
      "source": [
        "x"
      ],
      "execution_count": 23,
      "outputs": [
        {
          "output_type": "execute_result",
          "data": {
            "text/plain": [
              "array(12)"
            ]
          },
          "metadata": {
            "tags": []
          },
          "execution_count": 23
        }
      ]
    },
    {
      "cell_type": "code",
      "metadata": {
        "id": "H8Se9Z6uFwmq",
        "outputId": "ee62fb7d-4a43-4c3c-c51a-00a725fd519d",
        "colab": {
          "base_uri": "https://localhost:8080/",
          "height": 35
        }
      },
      "source": [
        "x.ndim"
      ],
      "execution_count": 24,
      "outputs": [
        {
          "output_type": "execute_result",
          "data": {
            "text/plain": [
              "0"
            ]
          },
          "metadata": {
            "tags": []
          },
          "execution_count": 24
        }
      ]
    },
    {
      "cell_type": "markdown",
      "metadata": {
        "id": "3IVwXaF-F2b9"
      },
      "source": [
        "### 벡터 (1D 텐서)"
      ]
    },
    {
      "cell_type": "code",
      "metadata": {
        "id": "-Qff7Xr0F5qA",
        "outputId": "8e43dd61-e7a0-42b7-af9c-243cad1e4ab9",
        "colab": {
          "base_uri": "https://localhost:8080/",
          "height": 35
        }
      },
      "source": [
        "x = np.array([12,3,6,14,7])   # 원소 5개 == 5차원 벡터, 5차원 텐서와 착각 x\n",
        "x"
      ],
      "execution_count": 25,
      "outputs": [
        {
          "output_type": "execute_result",
          "data": {
            "text/plain": [
              "array([12,  3,  6, 14,  7])"
            ]
          },
          "metadata": {
            "tags": []
          },
          "execution_count": 25
        }
      ]
    },
    {
      "cell_type": "code",
      "metadata": {
        "id": "qrahzB2fF-Vr",
        "outputId": "44d459d7-9fca-455f-f848-ebcd30054067",
        "colab": {
          "base_uri": "https://localhost:8080/",
          "height": 35
        }
      },
      "source": [
        "x.ndim"
      ],
      "execution_count": 26,
      "outputs": [
        {
          "output_type": "execute_result",
          "data": {
            "text/plain": [
              "1"
            ]
          },
          "metadata": {
            "tags": []
          },
          "execution_count": 26
        }
      ]
    },
    {
      "cell_type": "markdown",
      "metadata": {
        "id": "ndSMGiIaGAy6"
      },
      "source": [
        "### Matrix, 행렬 (2D 텐서)"
      ]
    },
    {
      "cell_type": "code",
      "metadata": {
        "id": "rMGCAKM2GMs4",
        "outputId": "23ceb05f-5bce-488c-fc0b-e67ed30ee616",
        "colab": {
          "base_uri": "https://localhost:8080/",
          "height": 71
        }
      },
      "source": [
        "x = np.array([[5,78,2,34,0],\n",
        "              [6,79,3,35,1],\n",
        "              [7,80,4,36,2]])\n",
        "x"
      ],
      "execution_count": 27,
      "outputs": [
        {
          "output_type": "execute_result",
          "data": {
            "text/plain": [
              "array([[ 5, 78,  2, 34,  0],\n",
              "       [ 6, 79,  3, 35,  1],\n",
              "       [ 7, 80,  4, 36,  2]])"
            ]
          },
          "metadata": {
            "tags": []
          },
          "execution_count": 27
        }
      ]
    },
    {
      "cell_type": "code",
      "metadata": {
        "id": "8FxCSJmIGWwP",
        "outputId": "92409f3d-a2ac-4dd9-b73c-2826c65abc75",
        "colab": {
          "base_uri": "https://localhost:8080/",
          "height": 35
        }
      },
      "source": [
        "x.ndim"
      ],
      "execution_count": 28,
      "outputs": [
        {
          "output_type": "execute_result",
          "data": {
            "text/plain": [
              "2"
            ]
          },
          "metadata": {
            "tags": []
          },
          "execution_count": 28
        }
      ]
    },
    {
      "cell_type": "markdown",
      "metadata": {
        "id": "9Xufh0CtGfKR"
      },
      "source": [
        "### 3D 텐서와 고차원 텐서"
      ]
    },
    {
      "cell_type": "code",
      "metadata": {
        "id": "9iIXWijgGW1N",
        "outputId": "40988d9a-5803-4d76-b3b2-6e30f54a4bdc",
        "colab": {
          "base_uri": "https://localhost:8080/",
          "height": 143
        }
      },
      "source": [
        "x = np.array([[[5,78,2,34,0],\n",
        "              [6,79,3,35,1],\n",
        "              [7,80,4,36,2]],\n",
        "              [[5,78,2,34,0],\n",
        "              [6,79,3,35,1],\n",
        "              [7,80,4,36,2]]])\n",
        "x"
      ],
      "execution_count": 29,
      "outputs": [
        {
          "output_type": "execute_result",
          "data": {
            "text/plain": [
              "array([[[ 5, 78,  2, 34,  0],\n",
              "        [ 6, 79,  3, 35,  1],\n",
              "        [ 7, 80,  4, 36,  2]],\n",
              "\n",
              "       [[ 5, 78,  2, 34,  0],\n",
              "        [ 6, 79,  3, 35,  1],\n",
              "        [ 7, 80,  4, 36,  2]]])"
            ]
          },
          "metadata": {
            "tags": []
          },
          "execution_count": 29
        }
      ]
    },
    {
      "cell_type": "code",
      "metadata": {
        "id": "8K0xYQzoGWy9",
        "outputId": "63d768b0-b64c-40a2-ef31-cc283b8ace6c",
        "colab": {
          "base_uri": "https://localhost:8080/",
          "height": 35
        }
      },
      "source": [
        "x.ndim"
      ],
      "execution_count": 30,
      "outputs": [
        {
          "output_type": "execute_result",
          "data": {
            "text/plain": [
              "3"
            ]
          },
          "metadata": {
            "tags": []
          },
          "execution_count": 30
        }
      ]
    },
    {
      "cell_type": "markdown",
      "metadata": {
        "id": "TmuOLuOMIe-Z"
      },
      "source": [
        ""
      ]
    },
    {
      "cell_type": "markdown",
      "metadata": {
        "id": "TrrUKke4IgtZ"
      },
      "source": [
        "## 넘파이로 텐서 조작하기"
      ]
    },
    {
      "cell_type": "code",
      "metadata": {
        "id": "aXFz2FWIIie0",
        "outputId": "b4dfd80c-c348-4609-8ec3-948633d1545b",
        "colab": {
          "base_uri": "https://localhost:8080/",
          "height": 35
        }
      },
      "source": [
        "my_slice = train_images[10:100]\n",
        "print(my_slice.shape)"
      ],
      "execution_count": 40,
      "outputs": [
        {
          "output_type": "stream",
          "text": [
            "(90, 28, 28)\n"
          ],
          "name": "stdout"
        }
      ]
    },
    {
      "cell_type": "code",
      "metadata": {
        "id": "Sbt1zML3I1xs",
        "outputId": "281df983-699f-4a5b-dae1-0b5376571c90",
        "colab": {
          "base_uri": "https://localhost:8080/",
          "height": 35
        }
      },
      "source": [
        "my_slice = train_images[10:100,:,:]\n",
        "print(my_slice.shape)"
      ],
      "execution_count": 41,
      "outputs": [
        {
          "output_type": "stream",
          "text": [
            "(90, 28, 28)\n"
          ],
          "name": "stdout"
        }
      ]
    },
    {
      "cell_type": "code",
      "metadata": {
        "id": "mYhpHbqhJBBr",
        "outputId": "8fe1f5ee-9937-4d50-b970-3c8f1b5d430b",
        "colab": {
          "base_uri": "https://localhost:8080/",
          "height": 265
        }
      },
      "source": [
        "# 그냥 한번 잘라봄 ㅎㅎ\n",
        "y = train_images[5,:19,:19]\n",
        "plt.imshow(y, cmap = plt.cm.binary)\n",
        "plt.show()"
      ],
      "execution_count": 42,
      "outputs": [
        {
          "output_type": "display_data",
          "data": {
            "image/png": "[encoded data removed]",
            "text/plain": [
              "<Figure size 432x288 with 1 Axes>"
            ]
          },
          "metadata": {
            "tags": [],
            "needs_background": "light"
          }
        }
      ]
    },
    {
      "cell_type": "markdown",
      "metadata": {
        "id": "la-BM0ZcKCwf"
      },
      "source": [
        "## 배치 데이터\n",
        "- 첫번째 축, 샘플 축, 샘플 차원"
      ]
    },
    {
      "cell_type": "markdown",
      "metadata": {
        "id": "hLOTqDgZKa0U"
      },
      "source": [
        "## 텐서의 실제 사례\n",
        "- 벡터: 2D 텐서 (samples, features)\n",
        "- 시계열 데이터 or 시퀀스 데이터: 3D 텐서 (samples, timesteps, features)\n",
        "- 이미지, 텐서: 4D 텐서 (samples, height, width, channels) or (samples, channels, height, width)\n",
        "- 동영상: 5D 텐서 (samples, frames, height, width, channels) 또는 (samples, frames, channels, height, width)"
      ]
    },
    {
      "cell_type": "markdown",
      "metadata": {
        "id": "LiJDGo1cLI1R"
      },
      "source": [
        "### 벡터 데이터\n",
        "- (샘플 축, 특성 축)"
      ]
    },
    {
      "cell_type": "markdown",
      "metadata": {
        "id": "pM7NzrQ4LJ7K"
      },
      "source": [
        "### 시계열 데이터 또는 시퀀스 데이터\n",
        "(샘플, 타임스텝, 특성)\n",
        "- 주식 가격 데이터셋: (일, 시간, 값)\n",
        "- 트윗 데이터셋: (samples, 문자 시퀀스, 알파벳)"
      ]
    },
    {
      "cell_type": "markdown",
      "metadata": {
        "id": "reWGCp5LLJfY"
      },
      "source": [
        "### 이미지 데이터\n",
        "(샘플, 채널, 너비, 높이) or (샘플, 너비, 높이, 채널)"
      ]
    },
    {
      "cell_type": "markdown",
      "metadata": {
        "id": "NhJppELTLJK6"
      },
      "source": [
        "### 비디오 데이터\n",
        "(샘플, 프레임, 채널, 너비, 높이)"
      ]
    },
    {
      "cell_type": "markdown",
      "metadata": {
        "id": "QKVQchkiNbEm"
      },
      "source": [
        "# 텐서 연산"
      ]
    },
    {
      "cell_type": "code",
      "metadata": {
        "id": "VXvuSbfqKCrq",
        "outputId": "bcc89b76-1184-4073-d1c6-6745f8e64172",
        "colab": {
          "base_uri": "https://localhost:8080/",
          "height": 172
        }
      },
      "source": [
        "keras.layers.Dense(512,acitvation='relu')\n",
        "output = relu(dot(W, input) + b)\n",
        "dot은 w와 input의 점곱\n",
        "b를 더한다\n",
        "relu(x) max(x,0) # 0보다 크면 x를, 0보다 작으면 0을 리턴"
      ],
      "execution_count": 43,
      "outputs": [
        {
          "output_type": "error",
          "ename": "NameError",
          "evalue": "ignored",
          "traceback": [
            "\u001b[0;31m---------------------------------------------------------------------------\u001b[0m",
            "\u001b[0;31mNameError\u001b[0m                                 Traceback (most recent call last)",
            "\u001b[0;32m<ipython-input-43-85b11147a019>\u001b[0m in \u001b[0;36m<module>\u001b[0;34m()\u001b[0m\n\u001b[0;32m----> 1\u001b[0;31m \u001b[0mkeras\u001b[0m\u001b[0;34m.\u001b[0m\u001b[0mlayers\u001b[0m\u001b[0;34m.\u001b[0m\u001b[0mDense\u001b[0m\u001b[0;34m(\u001b[0m\u001b[0;36m512\u001b[0m\u001b[0;34m,\u001b[0m\u001b[0macitvation\u001b[0m\u001b[0;34m=\u001b[0m\u001b[0;34m'relu'\u001b[0m\u001b[0;34m)\u001b[0m\u001b[0;34m\u001b[0m\u001b[0;34m\u001b[0m\u001b[0m\n\u001b[0m",
            "\u001b[0;31mNameError\u001b[0m: name 'keras' is not defined"
          ]
        }
      ]
    },
    {
      "cell_type": "markdown",
      "metadata": {
        "id": "PJPF08brOVIx"
      },
      "source": [
        "## 원소별 연산"
      ]
    },
    {
      "cell_type": "code",
      "metadata": {
        "id": "bbR7WGL2Nh8c"
      },
      "source": [
        "def naive_relu(x):\n",
        "  assert len(x.shape) == 2: # 입력값의 차원이 2D가 아니면 안 됨 ,if면 오류가 안 나므로 무조건 2D가 오게끔 한다.\n",
        "\n",
        "  x = x.copy()\n",
        "  for i in range(x.shape[0]):   # samples 개수만큼\n",
        "    for j in range(x.shape[1]): # feature들에 대해 \n",
        "      x[i,j] = max(x[i,j],0)    # relu 시전\n",
        "  return x"
      ],
      "execution_count": null,
      "outputs": []
    },
    {
      "cell_type": "code",
      "metadata": {
        "id": "Y8KXPuXDPmKW"
      },
      "source": [
        "def naive_add(x, y):\n",
        "  assert len(x.shape) == 2\n",
        "  assert x.shape==y.shape\n",
        "\n",
        "  x = x.copy()\n",
        "  for i in range(x.shape[0]):\n",
        "    for j in range(x.shape[1]):\n",
        "      x[i,j] += y[i,j]\n",
        "  return x"
      ],
      "execution_count": null,
      "outputs": []
    },
    {
      "cell_type": "markdown",
      "metadata": {
        "id": "BaIVLzMLQl_b"
      },
      "source": [
        "## 브로드캐스팅\n",
        "- 크기가 다른 두 텐서를 계산할 때, 작은 텐서를 큰 텐서의 크기에 맞춘다.\n",
        "- 브로드캐스팅 축을 추가하고, 큰 텐서 크기에 맞게 반복됨"
      ]
    },
    {
      "cell_type": "code",
      "metadata": {
        "id": "lapCG60UQoYk"
      },
      "source": [
        "def naive_add_matrix_and_vector(x,y):\n",
        "  assert len(x.shape) == 2             # [[1,2,3,4,5],[1,2,3,4,5]]\n",
        "  assert len(y.shape) == 1             # [1,2,3,4,5]\n",
        "  assert x.shape[1] == y.shape[0]   # 매트릭스의 feture 개수가 벡터의 feature 개수만큼 있나 확인\n",
        "\n",
        "  x = x.copy()\n",
        "  for i in range(x.shape[0]):\n",
        "    for j in range(x.shape[1]):\n",
        "      x[i,j] += y[i,j]\n",
        "  return x"
      ],
      "execution_count": 45,
      "outputs": []
    },
    {
      "cell_type": "code",
      "metadata": {
        "id": "OktUYjbbRVjr",
        "outputId": "68ea82bd-3869-4c1b-86dd-599d5730aaea",
        "colab": {
          "base_uri": "https://localhost:8080/",
          "height": 35
        }
      },
      "source": [
        "import numpy as np\n",
        "\n",
        "x = np.random.random((64,3,32,10))\n",
        "y = np.random.random((32,10))\n",
        "\n",
        "z = np.maximum(x,y)\n",
        "z.shape"
      ],
      "execution_count": 50,
      "outputs": [
        {
          "output_type": "execute_result",
          "data": {
            "text/plain": [
              "(64, 3, 32, 10)"
            ]
          },
          "metadata": {
            "tags": []
          },
          "execution_count": 50
        }
      ]
    },
    {
      "cell_type": "code",
      "metadata": {
        "id": "YD_j808lZQo1"
      },
      "source": [
        "# 벡터x, 벡터 y의 점곱\n",
        "def naive_vector_dot(x,y):\n",
        "  assert len(x.shape) == 1\n",
        "  assert len(x.shape) == 1\n",
        "  assert x.shape[0] == y.shape[0]\n",
        "\n",
        "  z = 0.\n",
        "  for i in range(x.shape[0]):\n",
        "    z += x[i] *j[i]\n",
        "  return z"
      ],
      "execution_count": 52,
      "outputs": []
    },
    {
      "cell_type": "code",
      "metadata": {
        "id": "qddF8_WhZzQR"
      },
      "source": [
        "# 행렬 x와 벡터 y의 곱\n",
        "def naive_matrix_vector_dot(x,y):\n",
        "  assert len(x.shape) == 2\n",
        "  assert len(y.shape) == 1\n",
        "  assert x.shape[1] == y.shape[0]\n",
        "\n",
        "  z = np.zeros(x.shape[0])\n",
        "  for i in range(x.shape[0]):\n",
        "    for j in range(x.shape[1]):\n",
        "      z[i] += x[i,j]*y[i]\n",
        "  return z"
      ],
      "execution_count": 54,
      "outputs": []
    },
    {
      "cell_type": "code",
      "metadata": {
        "id": "CdR-LG1jbTKt"
      },
      "source": [
        "# 행렬 벡터 점곱 \n",
        "def naive_matrix_vector_dot(x,y):\n",
        "  z = np.zeros(x.shape[0])\n",
        "  for i in range(x.shape[0]):\n",
        "    z[i] = naive_vector_dot(x[i,:],y)\n",
        "  return z"
      ],
      "execution_count": null,
      "outputs": []
    },
    {
      "cell_type": "code",
      "metadata": {
        "id": "DRYdZVoAb-pq"
      },
      "source": [
        "# \n",
        "def naive_matrix_dot(x,y):\n",
        "  assert len(x.shape) == 2\n",
        "  assert len(y.shape) == 2\n",
        "  assert x.shape[1] == y.shape[0]  #  행렬의 곱 (a * b) * (c * d) 에서 b와 c가 같아야 한다는 말\n",
        "\n",
        "  z = np.zeros((x.shape[0],y.shape[1]))\n",
        "  for i in range(x.shape[0]):\n",
        "    for j in range(y.shape[1]):\n",
        "      row_x = x[i,:]\n",
        "      column_y = y[:,j]\n",
        "      z[i,j] = naive_vector_dot(row_x,column_y)\n",
        "  return z"
      ],
      "execution_count": 55,
      "outputs": []
    },
    {
      "cell_type": "markdown",
      "metadata": {
        "id": "cP4swRkxdgrU"
      },
      "source": [
        "## 텐서 크기 변환\n",
        "- reshape\n",
        "- transpose(전치)"
      ]
    },
    {
      "cell_type": "code",
      "metadata": {
        "id": "v6M2-Y1bdnGn"
      },
      "source": [
        "x = np.array([[0.,1.],\n",
        "              [2.,3.],\n",
        "              [4.,5.]])"
      ],
      "execution_count": 56,
      "outputs": []
    },
    {
      "cell_type": "code",
      "metadata": {
        "id": "aM5VLnosdut9",
        "outputId": "84e45a8b-776e-4a67-c5d2-ea119abbea3c",
        "colab": {
          "base_uri": "https://localhost:8080/",
          "height": 35
        }
      },
      "source": [
        "print(x.shape)"
      ],
      "execution_count": 57,
      "outputs": [
        {
          "output_type": "stream",
          "text": [
            "(3, 2)\n"
          ],
          "name": "stdout"
        }
      ]
    },
    {
      "cell_type": "code",
      "metadata": {
        "id": "sgKBAvuXdwwc",
        "outputId": "c8d33126-a5e7-4d15-bfa3-09fb56514ead",
        "colab": {
          "base_uri": "https://localhost:8080/",
          "height": 125
        }
      },
      "source": [
        "x = x.reshape((6,1))\n",
        "x"
      ],
      "execution_count": 58,
      "outputs": [
        {
          "output_type": "execute_result",
          "data": {
            "text/plain": [
              "array([[0.],\n",
              "       [1.],\n",
              "       [2.],\n",
              "       [3.],\n",
              "       [4.],\n",
              "       [5.]])"
            ]
          },
          "metadata": {
            "tags": []
          },
          "execution_count": 58
        }
      ]
    },
    {
      "cell_type": "code",
      "metadata": {
        "id": "PoyJZDC7d7Te",
        "outputId": "a4c3afdf-c586-4b1a-c965-892226f521d4",
        "colab": {
          "base_uri": "https://localhost:8080/",
          "height": 53
        }
      },
      "source": [
        "x = x.reshape(2,3)\n",
        "x"
      ],
      "execution_count": 60,
      "outputs": [
        {
          "output_type": "execute_result",
          "data": {
            "text/plain": [
              "array([[0., 1., 2.],\n",
              "       [3., 4., 5.]])"
            ]
          },
          "metadata": {
            "tags": []
          },
          "execution_count": 60
        }
      ]
    },
    {
      "cell_type": "code",
      "metadata": {
        "id": "ZDAIFJLndw9f",
        "outputId": "346311cd-a82f-4a4d-b7b1-3fca9602ec5f",
        "colab": {
          "base_uri": "https://localhost:8080/",
          "height": 35
        }
      },
      "source": [
        "x = np.zeros((300,20))\n",
        "x.shape"
      ],
      "execution_count": 62,
      "outputs": [
        {
          "output_type": "execute_result",
          "data": {
            "text/plain": [
              "(300, 20)"
            ]
          },
          "metadata": {
            "tags": []
          },
          "execution_count": 62
        }
      ]
    },
    {
      "cell_type": "code",
      "metadata": {
        "id": "mOy2mBhhdxCG",
        "outputId": "2a4f07ed-e359-43ed-ff5c-bf783846c2d0",
        "colab": {
          "base_uri": "https://localhost:8080/",
          "height": 35
        }
      },
      "source": [
        "x = np.transpose(x)\n",
        "print(x.shape)"
      ],
      "execution_count": 63,
      "outputs": [
        {
          "output_type": "stream",
          "text": [
            "(20, 300)\n"
          ],
          "name": "stdout"
        }
      ]
    },
    {
      "cell_type": "markdown",
      "metadata": {
        "id": "ZlFaYSmGeHwr"
      },
      "source": [
        "## 텐서 연산의 기하학적 해석\n",
        "- theta각도 웅앵웅\n",
        "- 아핀 변환 웅앵웅"
      ]
    },
    {
      "cell_type": "markdown",
      "metadata": {
        "id": "M0XUvDKTfWMJ"
      },
      "source": [
        "## 딥러닝의 기하학적 해석\n",
        "- 매니폴드 웅앵웅"
      ]
    },
    {
      "cell_type": "markdown",
      "metadata": {
        "id": "YBtwGaAXfdT2"
      },
      "source": [
        "## 신경망의 엔진: 그래디언트 기반 최적화\n",
        "- W,b : 가중치, 훈련되는 파라미터 (각각 kernel, bias라는 이름으로도 불림)\n",
        "- 무작위 초기화: 초기에는 가중치 행렬이 작은 난수로 채워져 있음 (의미 없는 표현)\n",
        "- 훈련이 계속되면서가중치가 점진적으로 조정 또는 훈련\n",
        "\n",
        "값을 넣고 돌리고 오차를 계산하면 비효율적이므로 미분 가능하다는 점을 활용하여 손실의 그래디언트를 계산한다."
      ]
    },
    {
      "cell_type": "markdown",
      "metadata": {
        "id": "wUsxJEbGgcbX"
      },
      "source": [
        "### 변화율"
      ]
    },
    {
      "cell_type": "code",
      "metadata": {
        "id": "4W4uhGuydxFl"
      },
      "source": [
        "# x: 입력 벡터\n",
        "# W:\n",
        "# y:\n",
        "\n",
        "y_pred = dot(W,x)\n",
        "loss_value = loss(y_pred, y)\n",
        "loss_value = f(W)\n"
      ],
      "execution_count": null,
      "outputs": []
    },
    {
      "cell_type": "code",
      "metadata": {
        "id": "JrG2y8U6dxIx"
      },
      "source": [
        ""
      ],
      "execution_count": null,
      "outputs": []
    },
    {
      "cell_type": "code",
      "metadata": {
        "id": "DC5SrbSfdxMm"
      },
      "source": [
        ""
      ],
      "execution_count": null,
      "outputs": []
    },
    {
      "cell_type": "code",
      "metadata": {
        "id": "Uc5YzGEudxP-"
      },
      "source": [
        ""
      ],
      "execution_count": null,
      "outputs": []
    }
  ]
}