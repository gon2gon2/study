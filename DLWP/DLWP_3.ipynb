{
  "nbformat": 4,
  "nbformat_minor": 0,
  "metadata": {
    "colab": {
      "name": "DLWP_3.ipynb",
      "provenance": [],
      "collapsed_sections": []
    },
    "kernelspec": {
      "name": "python3",
      "display_name": "Python 3"
    }
  },
  "cells": [
    {
      "cell_type": "markdown",
      "metadata": {
        "id": "W5lZo-besdDJ"
      },
      "source": [
        "# 3장 신경망 시작하기\n",
        "\n",
        "### 예제\n",
        "- 이진 분류: 영화 리뷰 긍정 또는 부정으로 분류하기\n",
        "- 다중 분류: 신문 기사를 토픽으로 분류하기\n",
        "- 회귀: 부동산 데이터를 바탕으로 주택 가격을 예측하기"
      ]
    },
    {
      "cell_type": "markdown",
      "metadata": {
        "id": "k7RTp71XPzms"
      },
      "source": [
        "# 이진 분류"
      ]
    },
    {
      "cell_type": "code",
      "metadata": {
        "id": "tG3clFEdsavT",
        "outputId": "36d14464-48c5-46b7-8a90-d6c47f600921",
        "colab": {
          "base_uri": "https://localhost:8080/",
          "height": 53
        }
      },
      "source": [
        "# 3-1 IMDB 데이터셋 로드하기\n",
        "from keras.datasets import imdb\n",
        "(train_data, train_label),(test_data,test_label) = imdb.load_data(num_words = 10000) # 가장 많이 나타나는 단어의 개수 1만개만 사용하겠습니다"
      ],
      "execution_count": 1,
      "outputs": [
        {
          "output_type": "stream",
          "text": [
            "Downloading data from https://storage.googleapis.com/tensorflow/tf-keras-datasets/imdb.npz\n",
            "17465344/17464789 [==============================] - 1s 0us/step\n"
          ],
          "name": "stdout"
        }
      ]
    },
    {
      "cell_type": "code",
      "metadata": {
        "id": "tPDSgv7Isa6_",
        "outputId": "4b9d1279-c63e-49cb-f61c-3a88fb3fd584",
        "colab": {
          "base_uri": "https://localhost:8080/",
          "height": 89
        }
      },
      "source": [
        "print(train_data.shape)\n",
        "print(train_label.shape)\n",
        "print(test_data.shape)\n",
        "print(test_label.shape)"
      ],
      "execution_count": 2,
      "outputs": [
        {
          "output_type": "stream",
          "text": [
            "(25000,)\n",
            "(25000,)\n",
            "(25000,)\n",
            "(25000,)\n"
          ],
          "name": "stdout"
        }
      ]
    },
    {
      "cell_type": "code",
      "metadata": {
        "id": "rWOPCklFsa9R",
        "outputId": "1a47d5a8-910c-43e4-d5fa-2af6611b3849",
        "colab": {
          "base_uri": "https://localhost:8080/",
          "height": 35
        }
      },
      "source": [
        "# 단어 인덱스는 1만개를 넘지 않는다.\n",
        "max([max(sequence) for sequence in train_data])"
      ],
      "execution_count": 3,
      "outputs": [
        {
          "output_type": "execute_result",
          "data": {
            "text/plain": [
              "9999"
            ]
          },
          "metadata": {
            "tags": []
          },
          "execution_count": 3
        }
      ]
    },
    {
      "cell_type": "code",
      "metadata": {
        "id": "kl2aLU56sa_t",
        "outputId": "89e113cc-9286-40bc-f5e4-5c043b0f8af1",
        "colab": {
          "base_uri": "https://localhost:8080/",
          "height": 53
        }
      },
      "source": [
        "word_index = imdb.get_word_index()\n",
        "reverse_word_index = dict(\n",
        "    [(value, key) for (key, value) in word_index.items()]\n",
        ")\n",
        "decoded_review = ' '.join(\n",
        "    [reverse_word_index.get(i  - 3, '?') for i in train_data[0]]\n",
        ")"
      ],
      "execution_count": 4,
      "outputs": [
        {
          "output_type": "stream",
          "text": [
            "Downloading data from https://storage.googleapis.com/tensorflow/tf-keras-datasets/imdb_word_index.json\n",
            "1646592/1641221 [==============================] - 0s 0us/step\n"
          ],
          "name": "stdout"
        }
      ]
    },
    {
      "cell_type": "code",
      "metadata": {
        "id": "plW_63gqsbBj"
      },
      "source": [
        "# 3-2 정수 시퀀스를 이진 행렬로 인코딩하기 (벡터화)\n",
        "import numpy as np\n",
        "def vectorize_sequences(sequences, dimension=10000):\n",
        "  results = np.zeros((len(sequences),dimension))\n",
        "  for i, sequence in enumerate(sequences):\n",
        "    results[i,sequence] = 1.\n",
        "  return results\n",
        "\n",
        "x_train = vectorize_sequences(train_data)\n",
        "x_test = vectorize_sequences(test_data)"
      ],
      "execution_count": 5,
      "outputs": []
    },
    {
      "cell_type": "code",
      "metadata": {
        "id": "K9GGa7ZesbFn",
        "outputId": "c68066eb-4865-4329-b530-202b4398c59b",
        "colab": {
          "base_uri": "https://localhost:8080/",
          "height": 53
        }
      },
      "source": [
        "display(x_train[0])\n",
        "display(x_train.shape)"
      ],
      "execution_count": 6,
      "outputs": [
        {
          "output_type": "display_data",
          "data": {
            "text/plain": [
              "array([0., 1., 1., ..., 0., 0., 0.])"
            ]
          },
          "metadata": {
            "tags": []
          }
        },
        {
          "output_type": "display_data",
          "data": {
            "text/plain": [
              "(25000, 10000)"
            ]
          },
          "metadata": {
            "tags": []
          }
        }
      ]
    },
    {
      "cell_type": "code",
      "metadata": {
        "id": "vaNpjjVPsbH9"
      },
      "source": [
        "y_train = np.asarray(train_label).astype('float32')\n",
        "y_test = np.asarray(test_label).astype('float32')"
      ],
      "execution_count": 7,
      "outputs": []
    },
    {
      "cell_type": "code",
      "metadata": {
        "id": "XNlHB-DdoRMV"
      },
      "source": [
        "# 3-3 모델 정의하기\n",
        "from keras import models\n",
        "from keras import layers\n",
        "model = models.Sequential()\n",
        "model.add(layers.Dense(16,activation='relu',input_shape=(10000,)))\n",
        "model.add(layers.Dense(16,activation='relu'))\n",
        "model.add(layers.Dense(1,activation='sigmoid'))"
      ],
      "execution_count": 8,
      "outputs": []
    },
    {
      "cell_type": "code",
      "metadata": {
        "id": "7qNE9vv9oRko",
        "outputId": "6abc22e1-3fc6-417f-f32a-c569f12f4425",
        "colab": {
          "base_uri": "https://localhost:8080/",
          "height": 269
        }
      },
      "source": [
        "model.summary()"
      ],
      "execution_count": 9,
      "outputs": [
        {
          "output_type": "stream",
          "text": [
            "Model: \"sequential\"\n",
            "_________________________________________________________________\n",
            "Layer (type)                 Output Shape              Param #   \n",
            "=================================================================\n",
            "dense (Dense)                (None, 16)                160016    \n",
            "_________________________________________________________________\n",
            "dense_1 (Dense)              (None, 16)                272       \n",
            "_________________________________________________________________\n",
            "dense_2 (Dense)              (None, 1)                 17        \n",
            "=================================================================\n",
            "Total params: 160,305\n",
            "Trainable params: 160,305\n",
            "Non-trainable params: 0\n",
            "_________________________________________________________________\n"
          ],
          "name": "stdout"
        }
      ]
    },
    {
      "cell_type": "markdown",
      "metadata": {
        "id": "BxNqbu23q07q"
      },
      "source": [
        "### 모델 컴파일\n",
        "1. 옵티마이저의 클래스를 이용하는 방법\n",
        "2. 함수 객체를 만들어 매개변수로 전달"
      ]
    },
    {
      "cell_type": "code",
      "metadata": {
        "id": "6xto8sAkoRn_"
      },
      "source": [
        "# 3-4 모델 컴파일하기\n",
        "# 클래스를 이용하는 방법\n",
        "model.compile(optimizer='rmsprop',\n",
        "              loss='binary_crossentropy',\n",
        "              metrics=['accuracy'])"
      ],
      "execution_count": 10,
      "outputs": []
    },
    {
      "cell_type": "code",
      "metadata": {
        "id": "iiLDVMLcoRq6"
      },
      "source": [
        "# 3-5 옵티마이저 설정하기  \n",
        "# 옵티마이저의 매개변수를 바꾸거나 자신만의 손실 함수, 측정 함수를 전달해야 할 경우에 사용\n",
        "from keras import optimizers\n",
        "\n",
        "model.compile(optimizer=optimizers.RMSprop(lr=0.001),\n",
        "              loss='binary_crossentropy',\n",
        "              metrics=['accuracy'])"
      ],
      "execution_count": 11,
      "outputs": []
    },
    {
      "cell_type": "code",
      "metadata": {
        "id": "ti28m9QsqXH1"
      },
      "source": [
        "# 3-6 손실과 측정을 함수 객체로 지정하기\n",
        "from keras import losses\n",
        "from keras import metrics\n",
        "\n",
        "model.compile(optimizer=optimizers.RMSprop(lr=0.001),\n",
        "              loss=losses.binary_crossentropy,\n",
        "              metrics=[metrics.binary_crossentropy])"
      ],
      "execution_count": 12,
      "outputs": []
    },
    {
      "cell_type": "markdown",
      "metadata": {
        "id": "971rdIF7rR47"
      },
      "source": [
        "### 훈련 검증"
      ]
    },
    {
      "cell_type": "code",
      "metadata": {
        "id": "FpNzoENSrRm8"
      },
      "source": [
        "x_val = x_train[:10000]\n",
        "partial_x_train = x_train[10000:]\n",
        "y_val = y_train[:10000]\n",
        "partial_y_train=y_train[10000:]"
      ],
      "execution_count": 13,
      "outputs": []
    },
    {
      "cell_type": "code",
      "metadata": {
        "id": "nc37pqJ4rQEp",
        "outputId": "d5dc0715-3495-4f4f-e67c-739e768ce8b4",
        "colab": {
          "base_uri": "https://localhost:8080/",
          "height": 737
        }
      },
      "source": [
        "# 3-8 모델 훈련하기\n",
        "model.compile(optimizer='rmsprop',\n",
        "              loss='binary_crossentropy',\n",
        "              metrics=['acc'])\n",
        "\n",
        "history = model.fit(partial_x_train,partial_y_train,epochs=20,batch_size=20,validation_data=(x_val,y_val))"
      ],
      "execution_count": 14,
      "outputs": [
        {
          "output_type": "stream",
          "text": [
            "Epoch 1/20\n",
            "750/750 [==============================] - 4s 5ms/step - loss: 0.3441 - acc: 0.8569 - val_loss: 0.2710 - val_acc: 0.8905\n",
            "Epoch 2/20\n",
            "750/750 [==============================] - 3s 5ms/step - loss: 0.2076 - acc: 0.9198 - val_loss: 0.2820 - val_acc: 0.8887\n",
            "Epoch 3/20\n",
            "750/750 [==============================] - 3s 5ms/step - loss: 0.1674 - acc: 0.9392 - val_loss: 0.3099 - val_acc: 0.8864\n",
            "Epoch 4/20\n",
            "750/750 [==============================] - 3s 5ms/step - loss: 0.1431 - acc: 0.9487 - val_loss: 0.3389 - val_acc: 0.8851\n",
            "Epoch 5/20\n",
            "750/750 [==============================] - 3s 4ms/step - loss: 0.1247 - acc: 0.9539 - val_loss: 0.3536 - val_acc: 0.8827\n",
            "Epoch 6/20\n",
            "750/750 [==============================] - 3s 5ms/step - loss: 0.1087 - acc: 0.9616 - val_loss: 0.3968 - val_acc: 0.8782\n",
            "Epoch 7/20\n",
            "750/750 [==============================] - 3s 4ms/step - loss: 0.0949 - acc: 0.9673 - val_loss: 0.4315 - val_acc: 0.8795\n",
            "Epoch 8/20\n",
            "750/750 [==============================] - 4s 5ms/step - loss: 0.0831 - acc: 0.9719 - val_loss: 0.4707 - val_acc: 0.8768\n",
            "Epoch 9/20\n",
            "750/750 [==============================] - 3s 5ms/step - loss: 0.0699 - acc: 0.9770 - val_loss: 0.5128 - val_acc: 0.8735\n",
            "Epoch 10/20\n",
            "750/750 [==============================] - 3s 5ms/step - loss: 0.0573 - acc: 0.9817 - val_loss: 0.5760 - val_acc: 0.8728\n",
            "Epoch 11/20\n",
            "750/750 [==============================] - 4s 5ms/step - loss: 0.0441 - acc: 0.9853 - val_loss: 0.6684 - val_acc: 0.8711\n",
            "Epoch 12/20\n",
            "750/750 [==============================] - 3s 5ms/step - loss: 0.0346 - acc: 0.9893 - val_loss: 0.6993 - val_acc: 0.8697\n",
            "Epoch 13/20\n",
            "750/750 [==============================] - 3s 5ms/step - loss: 0.0249 - acc: 0.9921 - val_loss: 0.8110 - val_acc: 0.8685\n",
            "Epoch 14/20\n",
            "750/750 [==============================] - 3s 5ms/step - loss: 0.0180 - acc: 0.9945 - val_loss: 0.9296 - val_acc: 0.8673\n",
            "Epoch 15/20\n",
            "750/750 [==============================] - 4s 5ms/step - loss: 0.0124 - acc: 0.9963 - val_loss: 1.0868 - val_acc: 0.8648\n",
            "Epoch 16/20\n",
            "750/750 [==============================] - 4s 5ms/step - loss: 0.0090 - acc: 0.9973 - val_loss: 1.2353 - val_acc: 0.8647\n",
            "Epoch 17/20\n",
            "750/750 [==============================] - 4s 5ms/step - loss: 0.0063 - acc: 0.9983 - val_loss: 1.4963 - val_acc: 0.8632\n",
            "Epoch 18/20\n",
            "750/750 [==============================] - 4s 5ms/step - loss: 0.0035 - acc: 0.9989 - val_loss: 1.7346 - val_acc: 0.8625\n",
            "Epoch 19/20\n",
            "750/750 [==============================] - 3s 5ms/step - loss: 0.0020 - acc: 0.9992 - val_loss: 1.9254 - val_acc: 0.8609\n",
            "Epoch 20/20\n",
            "750/750 [==============================] - 3s 4ms/step - loss: 0.0012 - acc: 0.9996 - val_loss: 2.1564 - val_acc: 0.8623\n"
          ],
          "name": "stdout"
        }
      ]
    },
    {
      "cell_type": "code",
      "metadata": {
        "id": "0L4qsht6snTQ",
        "outputId": "171f3b7e-524e-40a8-a640-8669746ccca9",
        "colab": {
          "base_uri": "https://localhost:8080/",
          "height": 295
        }
      },
      "source": [
        "# 3-9 훈련과 검증 손실 그리기\n",
        "import matplotlib.pyplot as plt\n",
        "history_dict = history.history\n",
        "loss=history_dict['loss']\n",
        "val_loss=history_dict['val_loss']\n",
        "epochs = range(1,len(loss)+1)\n",
        "\n",
        "plt.plot(epochs, loss, 'bo',label='Training loss')\n",
        "plt.plot(epochs, val_loss,'b',label='Validation loss')\n",
        "plt.title('Training and validation loss')\n",
        "plt.xlabel('Epochs')\n",
        "plt.ylabel('Loss')\n",
        "plt.legend()\n",
        "plt.show()"
      ],
      "execution_count": 15,
      "outputs": [
        {
          "output_type": "display_data",
          "data": {
            "image/png": "[encoded data removed]",
            "text/plain": [
              "<Figure size 432x288 with 1 Axes>"
            ]
          },
          "metadata": {
            "tags": [],
            "needs_background": "light"
          }
        }
      ]
    },
    {
      "cell_type": "code",
      "metadata": {
        "id": "GTC6LrimyzJV",
        "outputId": "b2abd56c-4d31-4d5c-8188-5832ed511625",
        "colab": {
          "base_uri": "https://localhost:8080/",
          "height": 295
        }
      },
      "source": [
        "#3-10\n",
        "plt.clf()\n",
        "acc = history_dict['acc']\n",
        "val_acc = history_dict['val_acc']\n",
        "\n",
        "plt.plot(epochs,acc,'bo',label='Training_acc')\n",
        "plt.plot(epochs,val_acc,'b',label='Validation_acc')\n",
        "plt.title('Training and Validation accuracy')\n",
        "plt.xlabel('Epochs')\n",
        "plt.ylabel(\"Accuracy\")\n",
        "plt.legend()\n",
        "plt.show()"
      ],
      "execution_count": 16,
      "outputs": [
        {
          "output_type": "display_data",
          "data": {
            "image/png": "[encoded data removed]",
            "text/plain": [
              "<Figure size 432x288 with 1 Axes>"
            ]
          },
          "metadata": {
            "tags": [],
            "needs_background": "light"
          }
        }
      ]
    },
    {
      "cell_type": "code",
      "metadata": {
        "id": "UkJdJ7e3L3h3",
        "outputId": "5932fb08-d759-43f0-e451-d5ae167d23d6",
        "colab": {
          "base_uri": "https://localhost:8080/",
          "height": 179
        }
      },
      "source": [
        "model = models.Sequential()\n",
        "model.add(layers.Dense(16, activation='relu', input_shape=(10000,)))\n",
        "model.add(layers.Dense(16, activation='relu'))\n",
        "model.add(layers.Dense(1, activation='sigmoid'))\n",
        "\n",
        "model.compile(optimizer='rmsprop',\n",
        "              loss='binary_crossentropy',\n",
        "              metrics=['acc'])\n",
        "\n",
        "model.fit(x_train,y_train,epochs=4,batch_size=512)\n",
        "results=model.evaluate(x_test,y_test)"
      ],
      "execution_count": 21,
      "outputs": [
        {
          "output_type": "stream",
          "text": [
            "Epoch 1/4\n",
            "49/49 [==============================] - 1s 26ms/step - loss: 0.4866 - acc: 0.7953\n",
            "Epoch 2/4\n",
            "49/49 [==============================] - 1s 26ms/step - loss: 0.2694 - acc: 0.9059\n",
            "Epoch 3/4\n",
            "49/49 [==============================] - 1s 26ms/step - loss: 0.2046 - acc: 0.9295\n",
            "Epoch 4/4\n",
            "49/49 [==============================] - 1s 25ms/step - loss: 0.1702 - acc: 0.9399\n",
            "782/782 [==============================] - 1s 2ms/step - loss: 0.2962 - acc: 0.8820\n"
          ],
          "name": "stdout"
        }
      ]
    },
    {
      "cell_type": "code",
      "metadata": {
        "id": "z5TKoP1TL3PA",
        "outputId": "5ea78909-95dd-48a5-def3-57ac275ac705",
        "colab": {
          "base_uri": "https://localhost:8080/",
          "height": 143
        }
      },
      "source": [
        "model.predict(x_test)"
      ],
      "execution_count": 22,
      "outputs": [
        {
          "output_type": "execute_result",
          "data": {
            "text/plain": [
              "array([[0.14701188],\n",
              "       [0.99992687],\n",
              "       [0.8132283 ],\n",
              "       ...,\n",
              "       [0.09189531],\n",
              "       [0.06577224],\n",
              "       [0.5079659 ]], dtype=float32)"
            ]
          },
          "metadata": {
            "tags": []
          },
          "execution_count": 22
        }
      ]
    },
    {
      "cell_type": "markdown",
      "metadata": {
        "id": "iEADQYU-P3qv"
      },
      "source": [
        "### 추가실험"
      ]
    },
    {
      "cell_type": "code",
      "metadata": {
        "id": "SZRrF72QNi7B",
        "outputId": "4ac00d08-86d8-428e-cd5c-5e3d466b4c78",
        "colab": {
          "base_uri": "https://localhost:8080/",
          "height": 737
        }
      },
      "source": [
        "model = models.Sequential()\n",
        "model.add(layers.Dense(32, activation='relu',input_shape=(10000,)))\n",
        "model.add(layers.Dense(16,activation='relu'))\n",
        "model.add(layers.Dense(64,activation='tanh'))\n",
        "model.add(layers.Dense(1,activation='sigmoid'))\n",
        "\n",
        "model.compile(optimizer='rmsprop',\n",
        "              loss='mse',\n",
        "              metrics=['acc'])\n",
        "\n",
        "history = model.fit(partial_x_train,partial_y_train,epochs=20,batch_size=312,validation_data=(x_val,y_val))"
      ],
      "execution_count": 25,
      "outputs": [
        {
          "output_type": "stream",
          "text": [
            "Epoch 1/20\n",
            "49/49 [==============================] - 1s 27ms/step - loss: 0.1451 - acc: 0.8053 - val_loss: 0.0900 - val_acc: 0.8845\n",
            "Epoch 2/20\n",
            "49/49 [==============================] - 1s 22ms/step - loss: 0.0649 - acc: 0.9187 - val_loss: 0.0881 - val_acc: 0.8813\n",
            "Epoch 3/20\n",
            "49/49 [==============================] - 1s 22ms/step - loss: 0.0447 - acc: 0.9433 - val_loss: 0.0930 - val_acc: 0.8760\n",
            "Epoch 4/20\n",
            "49/49 [==============================] - 1s 22ms/step - loss: 0.0329 - acc: 0.9601 - val_loss: 0.1015 - val_acc: 0.8693\n",
            "Epoch 5/20\n",
            "49/49 [==============================] - 1s 22ms/step - loss: 0.0235 - acc: 0.9721 - val_loss: 0.1043 - val_acc: 0.8689\n",
            "Epoch 6/20\n",
            "49/49 [==============================] - 1s 22ms/step - loss: 0.0160 - acc: 0.9821 - val_loss: 0.0992 - val_acc: 0.8760\n",
            "Epoch 7/20\n",
            "49/49 [==============================] - 1s 27ms/step - loss: 0.0109 - acc: 0.9882 - val_loss: 0.1031 - val_acc: 0.8751\n",
            "Epoch 8/20\n",
            "49/49 [==============================] - 1s 22ms/step - loss: 0.0088 - acc: 0.9903 - val_loss: 0.1063 - val_acc: 0.8711\n",
            "Epoch 9/20\n",
            "49/49 [==============================] - 1s 23ms/step - loss: 0.0076 - acc: 0.9914 - val_loss: 0.1083 - val_acc: 0.8721\n",
            "Epoch 10/20\n",
            "49/49 [==============================] - 1s 22ms/step - loss: 0.0041 - acc: 0.9959 - val_loss: 0.1106 - val_acc: 0.8692\n",
            "Epoch 11/20\n",
            "49/49 [==============================] - 1s 23ms/step - loss: 0.0058 - acc: 0.9933 - val_loss: 0.1136 - val_acc: 0.8683\n",
            "Epoch 12/20\n",
            "49/49 [==============================] - 1s 23ms/step - loss: 0.0058 - acc: 0.9934 - val_loss: 0.1131 - val_acc: 0.8693\n",
            "Epoch 13/20\n",
            "49/49 [==============================] - 1s 22ms/step - loss: 0.0050 - acc: 0.9946 - val_loss: 0.1134 - val_acc: 0.8681\n",
            "Epoch 14/20\n",
            "49/49 [==============================] - 1s 22ms/step - loss: 0.0046 - acc: 0.9946 - val_loss: 0.1135 - val_acc: 0.8666\n",
            "Epoch 15/20\n",
            "49/49 [==============================] - 1s 22ms/step - loss: 0.0021 - acc: 0.9979 - val_loss: 0.1145 - val_acc: 0.8675\n",
            "Epoch 16/20\n",
            "49/49 [==============================] - 1s 22ms/step - loss: 0.0045 - acc: 0.9944 - val_loss: 0.1151 - val_acc: 0.8667\n",
            "Epoch 17/20\n",
            "49/49 [==============================] - 1s 23ms/step - loss: 0.0018 - acc: 0.9982 - val_loss: 0.1165 - val_acc: 0.8674\n",
            "Epoch 18/20\n",
            "49/49 [==============================] - 1s 22ms/step - loss: 0.0018 - acc: 0.9982 - val_loss: 0.1176 - val_acc: 0.8673\n",
            "Epoch 19/20\n",
            "49/49 [==============================] - 1s 22ms/step - loss: 0.0044 - acc: 0.9951 - val_loss: 0.1167 - val_acc: 0.8682\n",
            "Epoch 20/20\n",
            "49/49 [==============================] - 1s 22ms/step - loss: 0.0016 - acc: 0.9984 - val_loss: 0.1172 - val_acc: 0.8673\n"
          ],
          "name": "stdout"
        }
      ]
    },
    {
      "cell_type": "code",
      "metadata": {
        "id": "-gdokuReOpi3",
        "outputId": "99fb26ba-78dd-4c56-ff12-2f9c8dfeb0c9",
        "colab": {
          "base_uri": "https://localhost:8080/",
          "height": 669
        }
      },
      "source": [
        "import pandas as pd\n",
        "pd.DataFrame(history_dict)"
      ],
      "execution_count": 27,
      "outputs": [
        {
          "output_type": "execute_result",
          "data": {
            "text/html": [
              "<div>\n",
              "<style scoped>\n",
              "    .dataframe tbody tr th:only-of-type {\n",
              "        vertical-align: middle;\n",
              "    }\n",
              "\n",
              "    .dataframe tbody tr th {\n",
              "        vertical-align: top;\n",
              "    }\n",
              "\n",
              "    .dataframe thead th {\n",
              "        text-align: right;\n",
              "    }\n",
              "</style>\n",
              "<table border=\"1\" class=\"dataframe\">\n",
              "  <thead>\n",
              "    <tr style=\"text-align: right;\">\n",
              "      <th></th>\n",
              "      <th>loss</th>\n",
              "      <th>acc</th>\n",
              "      <th>val_loss</th>\n",
              "      <th>val_acc</th>\n",
              "    </tr>\n",
              "  </thead>\n",
              "  <tbody>\n",
              "    <tr>\n",
              "      <th>0</th>\n",
              "      <td>0.344053</td>\n",
              "      <td>0.856933</td>\n",
              "      <td>0.271039</td>\n",
              "      <td>0.8905</td>\n",
              "    </tr>\n",
              "    <tr>\n",
              "      <th>1</th>\n",
              "      <td>0.207637</td>\n",
              "      <td>0.919800</td>\n",
              "      <td>0.282008</td>\n",
              "      <td>0.8887</td>\n",
              "    </tr>\n",
              "    <tr>\n",
              "      <th>2</th>\n",
              "      <td>0.167441</td>\n",
              "      <td>0.939200</td>\n",
              "      <td>0.309912</td>\n",
              "      <td>0.8864</td>\n",
              "    </tr>\n",
              "    <tr>\n",
              "      <th>3</th>\n",
              "      <td>0.143068</td>\n",
              "      <td>0.948733</td>\n",
              "      <td>0.338905</td>\n",
              "      <td>0.8851</td>\n",
              "    </tr>\n",
              "    <tr>\n",
              "      <th>4</th>\n",
              "      <td>0.124725</td>\n",
              "      <td>0.953867</td>\n",
              "      <td>0.353599</td>\n",
              "      <td>0.8827</td>\n",
              "    </tr>\n",
              "    <tr>\n",
              "      <th>5</th>\n",
              "      <td>0.108700</td>\n",
              "      <td>0.961600</td>\n",
              "      <td>0.396793</td>\n",
              "      <td>0.8782</td>\n",
              "    </tr>\n",
              "    <tr>\n",
              "      <th>6</th>\n",
              "      <td>0.094879</td>\n",
              "      <td>0.967333</td>\n",
              "      <td>0.431512</td>\n",
              "      <td>0.8795</td>\n",
              "    </tr>\n",
              "    <tr>\n",
              "      <th>7</th>\n",
              "      <td>0.083115</td>\n",
              "      <td>0.971867</td>\n",
              "      <td>0.470742</td>\n",
              "      <td>0.8768</td>\n",
              "    </tr>\n",
              "    <tr>\n",
              "      <th>8</th>\n",
              "      <td>0.069883</td>\n",
              "      <td>0.977000</td>\n",
              "      <td>0.512799</td>\n",
              "      <td>0.8735</td>\n",
              "    </tr>\n",
              "    <tr>\n",
              "      <th>9</th>\n",
              "      <td>0.057256</td>\n",
              "      <td>0.981667</td>\n",
              "      <td>0.576013</td>\n",
              "      <td>0.8728</td>\n",
              "    </tr>\n",
              "    <tr>\n",
              "      <th>10</th>\n",
              "      <td>0.044051</td>\n",
              "      <td>0.985267</td>\n",
              "      <td>0.668438</td>\n",
              "      <td>0.8711</td>\n",
              "    </tr>\n",
              "    <tr>\n",
              "      <th>11</th>\n",
              "      <td>0.034593</td>\n",
              "      <td>0.989267</td>\n",
              "      <td>0.699305</td>\n",
              "      <td>0.8697</td>\n",
              "    </tr>\n",
              "    <tr>\n",
              "      <th>12</th>\n",
              "      <td>0.024869</td>\n",
              "      <td>0.992133</td>\n",
              "      <td>0.811044</td>\n",
              "      <td>0.8685</td>\n",
              "    </tr>\n",
              "    <tr>\n",
              "      <th>13</th>\n",
              "      <td>0.017962</td>\n",
              "      <td>0.994533</td>\n",
              "      <td>0.929560</td>\n",
              "      <td>0.8673</td>\n",
              "    </tr>\n",
              "    <tr>\n",
              "      <th>14</th>\n",
              "      <td>0.012443</td>\n",
              "      <td>0.996333</td>\n",
              "      <td>1.086837</td>\n",
              "      <td>0.8648</td>\n",
              "    </tr>\n",
              "    <tr>\n",
              "      <th>15</th>\n",
              "      <td>0.009039</td>\n",
              "      <td>0.997267</td>\n",
              "      <td>1.235273</td>\n",
              "      <td>0.8647</td>\n",
              "    </tr>\n",
              "    <tr>\n",
              "      <th>16</th>\n",
              "      <td>0.006273</td>\n",
              "      <td>0.998267</td>\n",
              "      <td>1.496257</td>\n",
              "      <td>0.8632</td>\n",
              "    </tr>\n",
              "    <tr>\n",
              "      <th>17</th>\n",
              "      <td>0.003454</td>\n",
              "      <td>0.998867</td>\n",
              "      <td>1.734613</td>\n",
              "      <td>0.8625</td>\n",
              "    </tr>\n",
              "    <tr>\n",
              "      <th>18</th>\n",
              "      <td>0.002043</td>\n",
              "      <td>0.999200</td>\n",
              "      <td>1.925449</td>\n",
              "      <td>0.8609</td>\n",
              "    </tr>\n",
              "    <tr>\n",
              "      <th>19</th>\n",
              "      <td>0.001232</td>\n",
              "      <td>0.999600</td>\n",
              "      <td>2.156431</td>\n",
              "      <td>0.8623</td>\n",
              "    </tr>\n",
              "  </tbody>\n",
              "</table>\n",
              "</div>"
            ],
            "text/plain": [
              "        loss       acc  val_loss  val_acc\n",
              "0   0.344053  0.856933  0.271039   0.8905\n",
              "1   0.207637  0.919800  0.282008   0.8887\n",
              "2   0.167441  0.939200  0.309912   0.8864\n",
              "3   0.143068  0.948733  0.338905   0.8851\n",
              "4   0.124725  0.953867  0.353599   0.8827\n",
              "5   0.108700  0.961600  0.396793   0.8782\n",
              "6   0.094879  0.967333  0.431512   0.8795\n",
              "7   0.083115  0.971867  0.470742   0.8768\n",
              "8   0.069883  0.977000  0.512799   0.8735\n",
              "9   0.057256  0.981667  0.576013   0.8728\n",
              "10  0.044051  0.985267  0.668438   0.8711\n",
              "11  0.034593  0.989267  0.699305   0.8697\n",
              "12  0.024869  0.992133  0.811044   0.8685\n",
              "13  0.017962  0.994533  0.929560   0.8673\n",
              "14  0.012443  0.996333  1.086837   0.8648\n",
              "15  0.009039  0.997267  1.235273   0.8647\n",
              "16  0.006273  0.998267  1.496257   0.8632\n",
              "17  0.003454  0.998867  1.734613   0.8625\n",
              "18  0.002043  0.999200  1.925449   0.8609\n",
              "19  0.001232  0.999600  2.156431   0.8623"
            ]
          },
          "metadata": {
            "tags": []
          },
          "execution_count": 27
        }
      ]
    },
    {
      "cell_type": "code",
      "metadata": {
        "id": "Arl4KVumOiQ2",
        "outputId": "a2082d48-c65f-4c53-d9ee-568aeb57c3d1",
        "colab": {
          "base_uri": "https://localhost:8080/",
          "height": 265
        }
      },
      "source": [
        "plt.clf()\n",
        "acc=history_dict['acc']\n",
        "val_caa = history_dict['val_acc']\n",
        "epochs=range(1,len(acc)+1)\n",
        "plt.plot(epochs,acc,'b',label='Training_acc')\n",
        "plt.plot(epochs,val_acc,'bo',label='Validation_acc')\n",
        "plt.legend()\n",
        "plt.show()"
      ],
      "execution_count": 28,
      "outputs": [
        {
          "output_type": "display_data",
          "data": {
            "image/png": "[encoded data removed]",
            "text/plain": [
              "<Figure size 432x288 with 1 Axes>"
            ]
          },
          "metadata": {
            "tags": [],
            "needs_background": "light"
          }
        }
      ]
    },
    {
      "cell_type": "code",
      "metadata": {
        "id": "PzYY2PFtPV9y",
        "outputId": "b04727a9-a1f1-45b6-84bd-ebb3066073d6",
        "colab": {
          "base_uri": "https://localhost:8080/",
          "height": 265
        }
      },
      "source": [
        "plt.clf()\n",
        "loss = history_dict['loss']\n",
        "val_loss=history_dict['val_loss']\n",
        "plt.plot(epochs,loss,'r',label='Training_loss')\n",
        "plt.plot(epochs,val_loss,'ro',label='Validation_loss')\n",
        "plt.legend()\n",
        "plt.show()"
      ],
      "execution_count": 30,
      "outputs": [
        {
          "output_type": "display_data",
          "data": {
            "image/png": "[encoded data removed]",
            "text/plain": [
              "<Figure size 432x288 with 1 Axes>"
            ]
          },
          "metadata": {
            "tags": [],
            "needs_background": "light"
          }
        }
      ]
    },
    {
      "cell_type": "markdown",
      "metadata": {
        "id": "iYzU5yRTQB0h"
      },
      "source": [
        "# 다중 분류"
      ]
    },
    {
      "cell_type": "code",
      "metadata": {
        "id": "lTwdnYKdP8Zs",
        "outputId": "5aa647d8-15e7-43c5-a8f1-31fd05d2a7b3",
        "colab": {
          "base_uri": "https://localhost:8080/",
          "height": 53
        }
      },
      "source": [
        "# 3-12 로이터 데이터셋 준비하기\n",
        "from keras.datasets import reuters\n",
        "\n",
        "(train_data,train_label),(test_data,test_label) = reuters.load_data(num_words=10000)\n",
        "\n",
        "print(len(train_data))\n",
        "print(len(test_data))"
      ],
      "execution_count": 32,
      "outputs": [
        {
          "output_type": "stream",
          "text": [
            "8982\n",
            "2246\n"
          ],
          "name": "stdout"
        }
      ]
    },
    {
      "cell_type": "code",
      "metadata": {
        "id": "bA1NnUWHP8i6"
      },
      "source": [
        "# 3-13 로이터 데이터셋을 텍스트로 디코딩하기\n",
        "word_index = reuters.get_word_index()\n",
        "reverse_word_index = dict([(value, key) for (key, value) in word_index.items()])\n",
        "decoded_newswire = ' '.join([reverse_word_index.get(i-3, '?') for i in train_data[0]])"
      ],
      "execution_count": 38,
      "outputs": []
    },
    {
      "cell_type": "code",
      "metadata": {
        "id": "KbtqhOKjP8nj"
      },
      "source": [
        "# 3-14 데이터 인코딩하기\n",
        "import numpy as np\n",
        "def vectorize_sequences(sequences,dimension=10000):\n",
        "  results = np.zeros((len(sequences),dimension))\n",
        "  for i, sequence in enumerate(sequences):\n",
        "    results[i, sequence] = 1.\n",
        "  return results\n",
        "\n",
        "x_train = vectorize_sequences(train_data)\n",
        "x_test = vectorize_sequences(test_data)"
      ],
      "execution_count": 41,
      "outputs": []
    },
    {
      "cell_type": "code",
      "metadata": {
        "id": "AAXfYdeGP8sg"
      },
      "source": [
        "# 참고 one-hot 인코딩 구현\n",
        "def to_one_hot(labels, dimension=46):\n",
        "  results = np.zeros((len(labels), dimension))\n",
        "  for i, label in enumerate(labels):\n",
        "    results[i, label] = 1.\n",
        "  return results\n",
        "\n",
        "one_hot_train_labels = to_one_hot(train_label)\n",
        "one_hot_test_labels = to_one_hot(test_label)"
      ],
      "execution_count": 72,
      "outputs": []
    },
    {
      "cell_type": "code",
      "metadata": {
        "id": "uTa_0Y4DP8w2",
        "outputId": "a6731fe2-5aaa-44d8-ebde-11729e72ab5e",
        "colab": {
          "base_uri": "https://localhost:8080/",
          "height": 208
        }
      },
      "source": [
        "# keras로 one-hot 인코딩 구현\n",
        "from keras.utils.np_utils import to_categorical\n",
        "\n",
        "one_hot_train_labels = to_categorical(train_label)\n",
        "one_hot_test_labels = to_categorical(test_label)"
      ],
      "execution_count": 45,
      "outputs": [
        {
          "output_type": "error",
          "ename": "NameError",
          "evalue": "ignored",
          "traceback": [
            "\u001b[0;31m---------------------------------------------------------------------------\u001b[0m",
            "\u001b[0;31mNameError\u001b[0m                                 Traceback (most recent call last)",
            "\u001b[0;32m<ipython-input-45-0667df7152cd>\u001b[0m in \u001b[0;36m<module>\u001b[0;34m()\u001b[0m\n\u001b[1;32m      1\u001b[0m \u001b[0;32mfrom\u001b[0m \u001b[0mkeras\u001b[0m\u001b[0;34m.\u001b[0m\u001b[0mutils\u001b[0m\u001b[0;34m.\u001b[0m\u001b[0mnp_utils\u001b[0m \u001b[0;32mimport\u001b[0m \u001b[0mto_categorical\u001b[0m\u001b[0;34m\u001b[0m\u001b[0;34m\u001b[0m\u001b[0m\n\u001b[1;32m      2\u001b[0m \u001b[0;34m\u001b[0m\u001b[0m\n\u001b[0;32m----> 3\u001b[0;31m \u001b[0mone_hot_train_labels\u001b[0m \u001b[0;34m=\u001b[0m \u001b[0mto_categorical\u001b[0m\u001b[0;34m(\u001b[0m\u001b[0mtrain_labels\u001b[0m\u001b[0;34m)\u001b[0m\u001b[0;34m\u001b[0m\u001b[0;34m\u001b[0m\u001b[0m\n\u001b[0m",
            "\u001b[0;31mNameError\u001b[0m: name 'train_labels' is not defined"
          ]
        }
      ]
    },
    {
      "cell_type": "code",
      "metadata": {
        "id": "ykpS9kGVWqgI",
        "outputId": "170d2569-3327-4930-f4f6-bd72ebd426c6",
        "colab": {
          "base_uri": "https://localhost:8080/",
          "height": 53
        }
      },
      "source": [
        "print(x_train.shape)\n",
        "print(x_test.shape)"
      ],
      "execution_count": 49,
      "outputs": [
        {
          "output_type": "stream",
          "text": [
            "(8982, 10000)\n",
            "(2246, 10000)\n"
          ],
          "name": "stdout"
        }
      ]
    },
    {
      "cell_type": "code",
      "metadata": {
        "id": "MAX-6B7SP83K"
      },
      "source": [
        "# 3-15 모델 정의하기\n",
        "from keras import models\n",
        "from keras import layers\n",
        "\n",
        "model = models.Sequential()\n",
        "model.add(layers.Dense(64,activation='relu',input_shape=(10000,)))\n",
        "model.add(layers.Dense(64,activation='relu'))\n",
        "model.add(layers.Dense(46, activation='softmax'))"
      ],
      "execution_count": 52,
      "outputs": []
    },
    {
      "cell_type": "code",
      "metadata": {
        "id": "empGFWutP85f"
      },
      "source": [
        "# 3-16 모델 컴파일하기\n",
        "\n",
        "model.compile(optimizer='rmsprop',\n",
        "              loss='categorical_crossentropy',\n",
        "              metrics=['accuracy'])"
      ],
      "execution_count": 53,
      "outputs": []
    },
    {
      "cell_type": "code",
      "metadata": {
        "id": "S2lgOdmGP8zA"
      },
      "source": [
        "# 3-17 검증 세트 준비하기\n",
        "\n",
        "x_val = x_train[:1000]\n",
        "partial_x_train =x_train[1000:]\n",
        "y_val = one_hot_train_labels [:1000]\n",
        "partial_y_train = one_hot_train_labels[1000:]"
      ],
      "execution_count": 56,
      "outputs": []
    },
    {
      "cell_type": "code",
      "metadata": {
        "id": "mq33MnzHP8uo",
        "outputId": "71c22e88-52c1-49f1-cfc7-60cc34c5372e",
        "colab": {
          "base_uri": "https://localhost:8080/",
          "height": 737
        }
      },
      "source": [
        "# 3-18 모델 훈련하기\n",
        "history = model.fit(partial_x_train,\n",
        "                    partial_y_train,\n",
        "                    epochs=20,\n",
        "                    batch_size=512,\n",
        "                    validation_data=(x_val,y_val))"
      ],
      "execution_count": 57,
      "outputs": [
        {
          "output_type": "stream",
          "text": [
            "Epoch 1/20\n",
            "16/16 [==============================] - 1s 62ms/step - loss: 2.6443 - accuracy: 0.5494 - val_loss: 1.7109 - val_accuracy: 0.6430\n",
            "Epoch 2/20\n",
            "16/16 [==============================] - 1s 38ms/step - loss: 1.3658 - accuracy: 0.7150 - val_loss: 1.2727 - val_accuracy: 0.7270\n",
            "Epoch 3/20\n",
            "16/16 [==============================] - 1s 37ms/step - loss: 0.9947 - accuracy: 0.7913 - val_loss: 1.1069 - val_accuracy: 0.7730\n",
            "Epoch 4/20\n",
            "16/16 [==============================] - 1s 38ms/step - loss: 0.7771 - accuracy: 0.8394 - val_loss: 1.0091 - val_accuracy: 0.7920\n",
            "Epoch 5/20\n",
            "16/16 [==============================] - 1s 37ms/step - loss: 0.6204 - accuracy: 0.8712 - val_loss: 0.9518 - val_accuracy: 0.8110\n",
            "Epoch 6/20\n",
            "16/16 [==============================] - 1s 39ms/step - loss: 0.4948 - accuracy: 0.8939 - val_loss: 0.9143 - val_accuracy: 0.8220\n",
            "Epoch 7/20\n",
            "16/16 [==============================] - 1s 37ms/step - loss: 0.3965 - accuracy: 0.9168 - val_loss: 0.9124 - val_accuracy: 0.8170\n",
            "Epoch 8/20\n",
            "16/16 [==============================] - 1s 36ms/step - loss: 0.3280 - accuracy: 0.9316 - val_loss: 0.8899 - val_accuracy: 0.8250\n",
            "Epoch 9/20\n",
            "16/16 [==============================] - 1s 37ms/step - loss: 0.2731 - accuracy: 0.9407 - val_loss: 0.9126 - val_accuracy: 0.8210\n",
            "Epoch 10/20\n",
            "16/16 [==============================] - 1s 37ms/step - loss: 0.2258 - accuracy: 0.9478 - val_loss: 0.9469 - val_accuracy: 0.8150\n",
            "Epoch 11/20\n",
            "16/16 [==============================] - 1s 38ms/step - loss: 0.1999 - accuracy: 0.9495 - val_loss: 0.9191 - val_accuracy: 0.8230\n",
            "Epoch 12/20\n",
            "16/16 [==============================] - 1s 38ms/step - loss: 0.1718 - accuracy: 0.9520 - val_loss: 1.0219 - val_accuracy: 0.8000\n",
            "Epoch 13/20\n",
            "16/16 [==============================] - 1s 37ms/step - loss: 0.1624 - accuracy: 0.9538 - val_loss: 0.9775 - val_accuracy: 0.8150\n",
            "Epoch 14/20\n",
            "16/16 [==============================] - 1s 38ms/step - loss: 0.1461 - accuracy: 0.9546 - val_loss: 0.9984 - val_accuracy: 0.8080\n",
            "Epoch 15/20\n",
            "16/16 [==============================] - 1s 37ms/step - loss: 0.1371 - accuracy: 0.9565 - val_loss: 1.0185 - val_accuracy: 0.8030\n",
            "Epoch 16/20\n",
            "16/16 [==============================] - 1s 37ms/step - loss: 0.1295 - accuracy: 0.9565 - val_loss: 1.0068 - val_accuracy: 0.8140\n",
            "Epoch 17/20\n",
            "16/16 [==============================] - 1s 38ms/step - loss: 0.1225 - accuracy: 0.9569 - val_loss: 1.0379 - val_accuracy: 0.8090\n",
            "Epoch 18/20\n",
            "16/16 [==============================] - 1s 37ms/step - loss: 0.1190 - accuracy: 0.9569 - val_loss: 1.0940 - val_accuracy: 0.8110\n",
            "Epoch 19/20\n",
            "16/16 [==============================] - 1s 37ms/step - loss: 0.1143 - accuracy: 0.9603 - val_loss: 1.1109 - val_accuracy: 0.8030\n",
            "Epoch 20/20\n",
            "16/16 [==============================] - 1s 37ms/step - loss: 0.1105 - accuracy: 0.9573 - val_loss: 1.1279 - val_accuracy: 0.7970\n"
          ],
          "name": "stdout"
        }
      ]
    },
    {
      "cell_type": "code",
      "metadata": {
        "id": "4iebmEuMYY-o",
        "outputId": "6ff3f230-7880-4861-8413-d558566975ae",
        "colab": {
          "base_uri": "https://localhost:8080/",
          "height": 669
        }
      },
      "source": [
        "pd.DataFrame(history_dict)"
      ],
      "execution_count": 58,
      "outputs": [
        {
          "output_type": "execute_result",
          "data": {
            "text/html": [
              "<div>\n",
              "<style scoped>\n",
              "    .dataframe tbody tr th:only-of-type {\n",
              "        vertical-align: middle;\n",
              "    }\n",
              "\n",
              "    .dataframe tbody tr th {\n",
              "        vertical-align: top;\n",
              "    }\n",
              "\n",
              "    .dataframe thead th {\n",
              "        text-align: right;\n",
              "    }\n",
              "</style>\n",
              "<table border=\"1\" class=\"dataframe\">\n",
              "  <thead>\n",
              "    <tr style=\"text-align: right;\">\n",
              "      <th></th>\n",
              "      <th>loss</th>\n",
              "      <th>acc</th>\n",
              "      <th>val_loss</th>\n",
              "      <th>val_acc</th>\n",
              "    </tr>\n",
              "  </thead>\n",
              "  <tbody>\n",
              "    <tr>\n",
              "      <th>0</th>\n",
              "      <td>0.344053</td>\n",
              "      <td>0.856933</td>\n",
              "      <td>0.271039</td>\n",
              "      <td>0.8905</td>\n",
              "    </tr>\n",
              "    <tr>\n",
              "      <th>1</th>\n",
              "      <td>0.207637</td>\n",
              "      <td>0.919800</td>\n",
              "      <td>0.282008</td>\n",
              "      <td>0.8887</td>\n",
              "    </tr>\n",
              "    <tr>\n",
              "      <th>2</th>\n",
              "      <td>0.167441</td>\n",
              "      <td>0.939200</td>\n",
              "      <td>0.309912</td>\n",
              "      <td>0.8864</td>\n",
              "    </tr>\n",
              "    <tr>\n",
              "      <th>3</th>\n",
              "      <td>0.143068</td>\n",
              "      <td>0.948733</td>\n",
              "      <td>0.338905</td>\n",
              "      <td>0.8851</td>\n",
              "    </tr>\n",
              "    <tr>\n",
              "      <th>4</th>\n",
              "      <td>0.124725</td>\n",
              "      <td>0.953867</td>\n",
              "      <td>0.353599</td>\n",
              "      <td>0.8827</td>\n",
              "    </tr>\n",
              "    <tr>\n",
              "      <th>5</th>\n",
              "      <td>0.108700</td>\n",
              "      <td>0.961600</td>\n",
              "      <td>0.396793</td>\n",
              "      <td>0.8782</td>\n",
              "    </tr>\n",
              "    <tr>\n",
              "      <th>6</th>\n",
              "      <td>0.094879</td>\n",
              "      <td>0.967333</td>\n",
              "      <td>0.431512</td>\n",
              "      <td>0.8795</td>\n",
              "    </tr>\n",
              "    <tr>\n",
              "      <th>7</th>\n",
              "      <td>0.083115</td>\n",
              "      <td>0.971867</td>\n",
              "      <td>0.470742</td>\n",
              "      <td>0.8768</td>\n",
              "    </tr>\n",
              "    <tr>\n",
              "      <th>8</th>\n",
              "      <td>0.069883</td>\n",
              "      <td>0.977000</td>\n",
              "      <td>0.512799</td>\n",
              "      <td>0.8735</td>\n",
              "    </tr>\n",
              "    <tr>\n",
              "      <th>9</th>\n",
              "      <td>0.057256</td>\n",
              "      <td>0.981667</td>\n",
              "      <td>0.576013</td>\n",
              "      <td>0.8728</td>\n",
              "    </tr>\n",
              "    <tr>\n",
              "      <th>10</th>\n",
              "      <td>0.044051</td>\n",
              "      <td>0.985267</td>\n",
              "      <td>0.668438</td>\n",
              "      <td>0.8711</td>\n",
              "    </tr>\n",
              "    <tr>\n",
              "      <th>11</th>\n",
              "      <td>0.034593</td>\n",
              "      <td>0.989267</td>\n",
              "      <td>0.699305</td>\n",
              "      <td>0.8697</td>\n",
              "    </tr>\n",
              "    <tr>\n",
              "      <th>12</th>\n",
              "      <td>0.024869</td>\n",
              "      <td>0.992133</td>\n",
              "      <td>0.811044</td>\n",
              "      <td>0.8685</td>\n",
              "    </tr>\n",
              "    <tr>\n",
              "      <th>13</th>\n",
              "      <td>0.017962</td>\n",
              "      <td>0.994533</td>\n",
              "      <td>0.929560</td>\n",
              "      <td>0.8673</td>\n",
              "    </tr>\n",
              "    <tr>\n",
              "      <th>14</th>\n",
              "      <td>0.012443</td>\n",
              "      <td>0.996333</td>\n",
              "      <td>1.086837</td>\n",
              "      <td>0.8648</td>\n",
              "    </tr>\n",
              "    <tr>\n",
              "      <th>15</th>\n",
              "      <td>0.009039</td>\n",
              "      <td>0.997267</td>\n",
              "      <td>1.235273</td>\n",
              "      <td>0.8647</td>\n",
              "    </tr>\n",
              "    <tr>\n",
              "      <th>16</th>\n",
              "      <td>0.006273</td>\n",
              "      <td>0.998267</td>\n",
              "      <td>1.496257</td>\n",
              "      <td>0.8632</td>\n",
              "    </tr>\n",
              "    <tr>\n",
              "      <th>17</th>\n",
              "      <td>0.003454</td>\n",
              "      <td>0.998867</td>\n",
              "      <td>1.734613</td>\n",
              "      <td>0.8625</td>\n",
              "    </tr>\n",
              "    <tr>\n",
              "      <th>18</th>\n",
              "      <td>0.002043</td>\n",
              "      <td>0.999200</td>\n",
              "      <td>1.925449</td>\n",
              "      <td>0.8609</td>\n",
              "    </tr>\n",
              "    <tr>\n",
              "      <th>19</th>\n",
              "      <td>0.001232</td>\n",
              "      <td>0.999600</td>\n",
              "      <td>2.156431</td>\n",
              "      <td>0.8623</td>\n",
              "    </tr>\n",
              "  </tbody>\n",
              "</table>\n",
              "</div>"
            ],
            "text/plain": [
              "        loss       acc  val_loss  val_acc\n",
              "0   0.344053  0.856933  0.271039   0.8905\n",
              "1   0.207637  0.919800  0.282008   0.8887\n",
              "2   0.167441  0.939200  0.309912   0.8864\n",
              "3   0.143068  0.948733  0.338905   0.8851\n",
              "4   0.124725  0.953867  0.353599   0.8827\n",
              "5   0.108700  0.961600  0.396793   0.8782\n",
              "6   0.094879  0.967333  0.431512   0.8795\n",
              "7   0.083115  0.971867  0.470742   0.8768\n",
              "8   0.069883  0.977000  0.512799   0.8735\n",
              "9   0.057256  0.981667  0.576013   0.8728\n",
              "10  0.044051  0.985267  0.668438   0.8711\n",
              "11  0.034593  0.989267  0.699305   0.8697\n",
              "12  0.024869  0.992133  0.811044   0.8685\n",
              "13  0.017962  0.994533  0.929560   0.8673\n",
              "14  0.012443  0.996333  1.086837   0.8648\n",
              "15  0.009039  0.997267  1.235273   0.8647\n",
              "16  0.006273  0.998267  1.496257   0.8632\n",
              "17  0.003454  0.998867  1.734613   0.8625\n",
              "18  0.002043  0.999200  1.925449   0.8609\n",
              "19  0.001232  0.999600  2.156431   0.8623"
            ]
          },
          "metadata": {
            "tags": []
          },
          "execution_count": 58
        }
      ]
    },
    {
      "cell_type": "code",
      "metadata": {
        "id": "jK798mf9P8qK",
        "outputId": "14aa3efe-296d-4650-c980-9c42f07a1dc8",
        "colab": {
          "base_uri": "https://localhost:8080/",
          "height": 265
        }
      },
      "source": [
        "# 3-19 훈련과 검증 손실 그리기\n",
        "loss = history.history['loss']\n",
        "val_loss = history.history['val_loss']\n",
        "epochs = range(1,len(loss)+1)\n",
        "\n",
        "\n",
        "plt.clf()\n",
        "plt.plot(epochs,loss,'bo',label='Training_loss')\n",
        "plt.plot(epochs,val_loss,'b',label='Validation_loss')\n",
        "plt.legend()\n",
        "plt.show()"
      ],
      "execution_count": 66,
      "outputs": [
        {
          "output_type": "display_data",
          "data": {
            "image/png": "[encoded data removed]",
            "text/plain": [
              "<Figure size 432x288 with 1 Axes>"
            ]
          },
          "metadata": {
            "tags": [],
            "needs_background": "light"
          }
        }
      ]
    },
    {
      "cell_type": "code",
      "metadata": {
        "id": "TmD8f6HRZrkx",
        "outputId": "21585a5e-4a42-48d8-cf77-2efae2f468d9",
        "colab": {
          "base_uri": "https://localhost:8080/",
          "height": 1000
        }
      },
      "source": [
        "history.history"
      ],
      "execution_count": 63,
      "outputs": [
        {
          "output_type": "execute_result",
          "data": {
            "text/plain": [
              "{'accuracy': [0.5493610501289368,\n",
              "  0.7149837017059326,\n",
              "  0.7912803888320923,\n",
              "  0.8393886089324951,\n",
              "  0.8712102174758911,\n",
              "  0.8938862681388855,\n",
              "  0.9168128371238708,\n",
              "  0.9315961003303528,\n",
              "  0.9407416582107544,\n",
              "  0.9477574825286865,\n",
              "  0.9495114088058472,\n",
              "  0.9520170092582703,\n",
              "  0.9537709951400757,\n",
              "  0.954647958278656,\n",
              "  0.9565271735191345,\n",
              "  0.9565271735191345,\n",
              "  0.9569030404090881,\n",
              "  0.9569030404090881,\n",
              "  0.9602856636047363,\n",
              "  0.957278847694397],\n",
              " 'loss': [2.644320249557495,\n",
              "  1.3657629489898682,\n",
              "  0.9947359561920166,\n",
              "  0.7771018743515015,\n",
              "  0.6204296350479126,\n",
              "  0.4948248863220215,\n",
              "  0.39646440744400024,\n",
              "  0.3280211389064789,\n",
              "  0.2730661928653717,\n",
              "  0.2258194237947464,\n",
              "  0.1999233067035675,\n",
              "  0.17178593575954437,\n",
              "  0.16244889795780182,\n",
              "  0.14608079195022583,\n",
              "  0.13707292079925537,\n",
              "  0.12952052056789398,\n",
              "  0.12245472520589828,\n",
              "  0.11898025125265121,\n",
              "  0.11427602916955948,\n",
              "  0.11046121269464493],\n",
              " 'val_accuracy': [0.6430000066757202,\n",
              "  0.7269999980926514,\n",
              "  0.7730000019073486,\n",
              "  0.7919999957084656,\n",
              "  0.8109999895095825,\n",
              "  0.8220000267028809,\n",
              "  0.8169999718666077,\n",
              "  0.824999988079071,\n",
              "  0.8209999799728394,\n",
              "  0.8149999976158142,\n",
              "  0.8230000138282776,\n",
              "  0.800000011920929,\n",
              "  0.8149999976158142,\n",
              "  0.8080000281333923,\n",
              "  0.8029999732971191,\n",
              "  0.8140000104904175,\n",
              "  0.8090000152587891,\n",
              "  0.8109999895095825,\n",
              "  0.8029999732971191,\n",
              "  0.796999990940094],\n",
              " 'val_loss': [1.7109289169311523,\n",
              "  1.272684097290039,\n",
              "  1.1069304943084717,\n",
              "  1.0091341733932495,\n",
              "  0.9517544507980347,\n",
              "  0.9142547845840454,\n",
              "  0.912411630153656,\n",
              "  0.8899311423301697,\n",
              "  0.9125654101371765,\n",
              "  0.9468779563903809,\n",
              "  0.9190504550933838,\n",
              "  1.0218921899795532,\n",
              "  0.9775062203407288,\n",
              "  0.9983712434768677,\n",
              "  1.0185413360595703,\n",
              "  1.0067893266677856,\n",
              "  1.0378891229629517,\n",
              "  1.0939770936965942,\n",
              "  1.1109399795532227,\n",
              "  1.127949595451355]}"
            ]
          },
          "metadata": {
            "tags": []
          },
          "execution_count": 63
        }
      ]
    },
    {
      "cell_type": "code",
      "metadata": {
        "id": "hhRY_BibP8lU",
        "outputId": "700eef2c-fba9-4d27-9249-0ec7edfa566f",
        "colab": {
          "base_uri": "https://localhost:8080/",
          "height": 265
        }
      },
      "source": [
        "acc = history.history['accuracy']\n",
        "val_acc= history.history['val_accuracy']\n",
        "\n",
        "plt.clf()\n",
        "plt.plot(epochs,acc,'bo',label='Training_accuracy')\n",
        "plt.plot(epochs,val_acc,'b',label='Validation_accuracy')\n",
        "plt.legend()\n",
        "plt.show()"
      ],
      "execution_count": 65,
      "outputs": [
        {
          "output_type": "display_data",
          "data": {
            "image/png": "[encoded data removed]",
            "text/plain": [
              "<Figure size 432x288 with 1 Axes>"
            ]
          },
          "metadata": {
            "tags": [],
            "needs_background": "light"
          }
        }
      ]
    },
    {
      "cell_type": "code",
      "metadata": {
        "id": "jMX9ugmDP8d4",
        "outputId": "6259ef19-f06f-4124-e88c-aed47bd7657c",
        "colab": {
          "base_uri": "https://localhost:8080/",
          "height": 359
        }
      },
      "source": [
        "model = models.Sequential()\n",
        "model.add(layers.Dense(64,activation='relu',input_shape=(10000,)))\n",
        "model.add(layers.Dense(64,activation='relu'))\n",
        "model.add(layers.Dense(46,activation='softmax'))\n",
        "\n",
        "model.compile(optimizer='rmsprop',\n",
        "              loss = 'categorical_crossentropy',\n",
        "              metrics=['accuracy'])\n",
        "model.fit(partial_x_train,\n",
        "          partial_y_train,\n",
        "          epochs=9,\n",
        "          batch_size=512,\n",
        "          validation_data=(x_val,y_val))\n",
        "results = model.evaluate(x_test,one_hot_test_labels)"
      ],
      "execution_count": 73,
      "outputs": [
        {
          "output_type": "stream",
          "text": [
            "Epoch 1/9\n",
            "16/16 [==============================] - 1s 46ms/step - loss: 2.6170 - accuracy: 0.5124 - val_loss: 1.7083 - val_accuracy: 0.6350\n",
            "Epoch 2/9\n",
            "16/16 [==============================] - 1s 49ms/step - loss: 1.3937 - accuracy: 0.7154 - val_loss: 1.2758 - val_accuracy: 0.7280\n",
            "Epoch 3/9\n",
            "16/16 [==============================] - 1s 49ms/step - loss: 1.0274 - accuracy: 0.7870 - val_loss: 1.1175 - val_accuracy: 0.7530\n",
            "Epoch 4/9\n",
            "16/16 [==============================] - 1s 50ms/step - loss: 0.8160 - accuracy: 0.8292 - val_loss: 1.0323 - val_accuracy: 0.7800\n",
            "Epoch 5/9\n",
            "16/16 [==============================] - 1s 50ms/step - loss: 0.6521 - accuracy: 0.8659 - val_loss: 0.9604 - val_accuracy: 0.8010\n",
            "Epoch 6/9\n",
            "16/16 [==============================] - 1s 51ms/step - loss: 0.5186 - accuracy: 0.8909 - val_loss: 0.9294 - val_accuracy: 0.8040\n",
            "Epoch 7/9\n",
            "16/16 [==============================] - 1s 49ms/step - loss: 0.4222 - accuracy: 0.9139 - val_loss: 0.8996 - val_accuracy: 0.8120\n",
            "Epoch 8/9\n",
            "16/16 [==============================] - 1s 49ms/step - loss: 0.3429 - accuracy: 0.9281 - val_loss: 0.8982 - val_accuracy: 0.8130\n",
            "Epoch 9/9\n",
            "16/16 [==============================] - 1s 49ms/step - loss: 0.2911 - accuracy: 0.9372 - val_loss: 0.8735 - val_accuracy: 0.8170\n",
            "71/71 [==============================] - 0s 2ms/step - loss: 0.9709 - accuracy: 0.7912\n"
          ],
          "name": "stdout"
        }
      ]
    },
    {
      "cell_type": "code",
      "metadata": {
        "id": "8DT2L96CP8Tl",
        "outputId": "61348235-23c1-40ba-c510-cee2ed0a189a",
        "colab": {
          "base_uri": "https://localhost:8080/",
          "height": 35
        }
      },
      "source": [
        "results"
      ],
      "execution_count": 74,
      "outputs": [
        {
          "output_type": "execute_result",
          "data": {
            "text/plain": [
              "[0.9708588123321533, 0.7911843061447144]"
            ]
          },
          "metadata": {
            "tags": []
          },
          "execution_count": 74
        }
      ]
    },
    {
      "cell_type": "code",
      "metadata": {
        "id": "ZibKdrN7P74-",
        "outputId": "a9c9e5a9-34f4-43ed-ffd0-4626fc96dd7f",
        "colab": {
          "base_uri": "https://localhost:8080/",
          "height": 35
        }
      },
      "source": [
        "import copy\n",
        "test_labels_copy = copy.copy(test_label)\n",
        "np.random.shuffle(test_labels_copy)\n",
        "hits_array = np.array(test_label) == np.array(test_labels_copy)\n",
        "float(np.sum(hits_array))/len(test_label)"
      ],
      "execution_count": 76,
      "outputs": [
        {
          "output_type": "execute_result",
          "data": {
            "text/plain": [
              "0.1856634016028495"
            ]
          },
          "metadata": {
            "tags": []
          },
          "execution_count": 76
        }
      ]
    },
    {
      "cell_type": "code",
      "metadata": {
        "id": "Jb-u51_8P7rd"
      },
      "source": [
        "# 3-22 새로운 데이터에 대해 예측하기\n",
        "predictions = model.predict(x_test)"
      ],
      "execution_count": 77,
      "outputs": []
    },
    {
      "cell_type": "code",
      "metadata": {
        "id": "TBUjZX0dP7mu",
        "outputId": "18610c49-8dfb-4d5d-aea7-3e76f1a723f9",
        "colab": {
          "base_uri": "https://localhost:8080/",
          "height": 35
        }
      },
      "source": [
        "predictions[0].shape"
      ],
      "execution_count": 78,
      "outputs": [
        {
          "output_type": "execute_result",
          "data": {
            "text/plain": [
              "(46,)"
            ]
          },
          "metadata": {
            "tags": []
          },
          "execution_count": 78
        }
      ]
    },
    {
      "cell_type": "code",
      "metadata": {
        "id": "IUa0KQsAcGxX",
        "outputId": "d930cb33-5fea-406b-932b-66d8495e7a1b",
        "colab": {
          "base_uri": "https://localhost:8080/",
          "height": 35
        }
      },
      "source": [
        "np.sum(predictions[0])"
      ],
      "execution_count": 80,
      "outputs": [
        {
          "output_type": "execute_result",
          "data": {
            "text/plain": [
              "0.99999994"
            ]
          },
          "metadata": {
            "tags": []
          },
          "execution_count": 80
        }
      ]
    },
    {
      "cell_type": "code",
      "metadata": {
        "id": "nbW7Yx53cG7i",
        "outputId": "ec06e129-2c45-4614-afda-f590c3d8ba9f",
        "colab": {
          "base_uri": "https://localhost:8080/",
          "height": 35
        }
      },
      "source": [
        "np.argmax(predictions[0])"
      ],
      "execution_count": 81,
      "outputs": [
        {
          "output_type": "execute_result",
          "data": {
            "text/plain": [
              "3"
            ]
          },
          "metadata": {
            "tags": []
          },
          "execution_count": 81
        }
      ]
    },
    {
      "cell_type": "markdown",
      "metadata": {
        "id": "g-MpSqUbkidm"
      },
      "source": [
        "### 원핫 인코딩 레이블이 아닌 정수 레이블을 사용하고 싶다면?\n",
        "- loss : categorical_crossentropy -> sparse_categorical_crossentropy\n",
        "- label: y_train= np.array(train_labels)"
      ]
    },
    {
      "cell_type": "code",
      "metadata": {
        "id": "sWrQE_uFcHAP",
        "outputId": "cc81ffa3-ddc6-44e2-b6b1-635e8007ae3f",
        "colab": {
          "base_uri": "https://localhost:8080/",
          "height": 755
        }
      },
      "source": [
        "# 3-23 정보 병목이 있는 모델\n",
        "model = models.Sequential()\n",
        "model.add(layers.Dense(64,activation='relu',input_shape=(10000,)))\n",
        "model.add(layers.Dense(4, activation='relu'))\n",
        "model.add(layers.Dense(46,activation='softmax'))\n",
        "\n",
        "model.compile(optimizer='rmsprop',\n",
        "              loss='categorical_crossentropy',\n",
        "              metrics=['accuracy'])\n",
        "model.fit(partial_x_train,\n",
        "          partial_y_train,\n",
        "          epochs=20,\n",
        "          batch_size=128,\n",
        "          validation_data=(x_val,y_val))"
      ],
      "execution_count": 83,
      "outputs": [
        {
          "output_type": "stream",
          "text": [
            "Epoch 1/20\n",
            "63/63 [==============================] - 1s 20ms/step - loss: 2.5005 - accuracy: 0.5128 - val_loss: 1.7515 - val_accuracy: 0.5740\n",
            "Epoch 2/20\n",
            "63/63 [==============================] - 1s 17ms/step - loss: 1.5363 - accuracy: 0.6006 - val_loss: 1.4933 - val_accuracy: 0.6050\n",
            "Epoch 3/20\n",
            "63/63 [==============================] - 1s 16ms/step - loss: 1.2806 - accuracy: 0.6586 - val_loss: 1.3874 - val_accuracy: 0.6630\n",
            "Epoch 4/20\n",
            "63/63 [==============================] - 1s 15ms/step - loss: 1.1135 - accuracy: 0.7181 - val_loss: 1.3667 - val_accuracy: 0.6660\n",
            "Epoch 5/20\n",
            "63/63 [==============================] - 1s 15ms/step - loss: 0.9869 - accuracy: 0.7558 - val_loss: 1.3463 - val_accuracy: 0.6860\n",
            "Epoch 6/20\n",
            "63/63 [==============================] - 1s 15ms/step - loss: 0.8877 - accuracy: 0.7829 - val_loss: 1.3085 - val_accuracy: 0.7010\n",
            "Epoch 7/20\n",
            "63/63 [==============================] - 1s 16ms/step - loss: 0.8094 - accuracy: 0.7949 - val_loss: 1.3330 - val_accuracy: 0.7070\n",
            "Epoch 8/20\n",
            "63/63 [==============================] - 1s 15ms/step - loss: 0.7438 - accuracy: 0.8109 - val_loss: 1.3831 - val_accuracy: 0.6990\n",
            "Epoch 9/20\n",
            "63/63 [==============================] - 1s 15ms/step - loss: 0.6884 - accuracy: 0.8197 - val_loss: 1.4105 - val_accuracy: 0.7020\n",
            "Epoch 10/20\n",
            "63/63 [==============================] - 1s 15ms/step - loss: 0.6388 - accuracy: 0.8297 - val_loss: 1.4181 - val_accuracy: 0.7010\n",
            "Epoch 11/20\n",
            "63/63 [==============================] - 1s 15ms/step - loss: 0.5973 - accuracy: 0.8365 - val_loss: 1.4696 - val_accuracy: 0.6990\n",
            "Epoch 12/20\n",
            "63/63 [==============================] - 1s 15ms/step - loss: 0.5576 - accuracy: 0.8464 - val_loss: 1.4904 - val_accuracy: 0.6970\n",
            "Epoch 13/20\n",
            "63/63 [==============================] - 1s 15ms/step - loss: 0.5248 - accuracy: 0.8569 - val_loss: 1.5301 - val_accuracy: 0.7070\n",
            "Epoch 14/20\n",
            "63/63 [==============================] - 1s 15ms/step - loss: 0.4938 - accuracy: 0.8683 - val_loss: 1.5896 - val_accuracy: 0.6940\n",
            "Epoch 15/20\n",
            "63/63 [==============================] - 1s 15ms/step - loss: 0.4686 - accuracy: 0.8752 - val_loss: 1.6286 - val_accuracy: 0.7090\n",
            "Epoch 16/20\n",
            "63/63 [==============================] - 1s 15ms/step - loss: 0.4454 - accuracy: 0.8816 - val_loss: 1.6695 - val_accuracy: 0.7030\n",
            "Epoch 17/20\n",
            "63/63 [==============================] - 1s 16ms/step - loss: 0.4216 - accuracy: 0.8847 - val_loss: 1.7108 - val_accuracy: 0.7000\n",
            "Epoch 18/20\n",
            "63/63 [==============================] - 1s 15ms/step - loss: 0.4041 - accuracy: 0.8881 - val_loss: 1.8057 - val_accuracy: 0.7010\n",
            "Epoch 19/20\n",
            "63/63 [==============================] - 1s 15ms/step - loss: 0.3869 - accuracy: 0.8945 - val_loss: 1.8681 - val_accuracy: 0.6970\n",
            "Epoch 20/20\n",
            "63/63 [==============================] - 1s 15ms/step - loss: 0.3705 - accuracy: 0.8965 - val_loss: 1.8835 - val_accuracy: 0.6990\n"
          ],
          "name": "stdout"
        },
        {
          "output_type": "execute_result",
          "data": {
            "text/plain": [
              "<tensorflow.python.keras.callbacks.History at 0x7fb14af566a0>"
            ]
          },
          "metadata": {
            "tags": []
          },
          "execution_count": 83
        }
      ]
    },
    {
      "cell_type": "markdown",
      "metadata": {
        "id": "9FZeUGbRlsis"
      },
      "source": [
        "### 비교\n",
        "- 병목이 있는 모델은 validation에 대한 accuracy가 7~8% 감소했다"
      ]
    },
    {
      "cell_type": "markdown",
      "metadata": {
        "id": "hQO7utyHmBWO"
      },
      "source": [
        "# 회귀 문제"
      ]
    },
    {
      "cell_type": "code",
      "metadata": {
        "id": "Ie8a_y_dcHEZ"
      },
      "source": [
        "# 3-24 보스턴 주택 데이터셋 로드하기\n",
        "from keras.datasets import boston_housing\n",
        "\n",
        "(train_data,train_targets),(test_data, test_targets) = boston_housing.load_data()"
      ],
      "execution_count": 1,
      "outputs": []
    },
    {
      "cell_type": "code",
      "metadata": {
        "id": "gZkJRU1KcHId",
        "outputId": "e032d269-e570-4681-b248-351e5c6fe8a7",
        "colab": {
          "base_uri": "https://localhost:8080/",
          "height": 53
        }
      },
      "source": [
        "print(train_data.shape)\n",
        "print(test_data.shape)"
      ],
      "execution_count": 2,
      "outputs": [
        {
          "output_type": "stream",
          "text": [
            "(404, 13)\n",
            "(102, 13)\n"
          ],
          "name": "stdout"
        }
      ]
    },
    {
      "cell_type": "code",
      "metadata": {
        "id": "Ndw8CshgcHOj"
      },
      "source": [
        "# 3-25 데이터 정규화하기\n",
        "mean = train_data.mean(axis=0)\n",
        "train_data -= mean\n",
        "std = train_data.std(axis=0)\n",
        "train_data /= std\n",
        "\n",
        "test_data -= mean\n",
        "test_data /= std"
      ],
      "execution_count": 3,
      "outputs": []
    },
    {
      "cell_type": "code",
      "metadata": {
        "id": "J_ALYUK0rgGT",
        "outputId": "bb9871a9-99eb-496b-d9f8-ce01c4cb7bb6",
        "colab": {
          "base_uri": "https://localhost:8080/",
          "height": 71
        }
      },
      "source": [
        "train_data[0]"
      ],
      "execution_count": 4,
      "outputs": [
        {
          "output_type": "execute_result",
          "data": {
            "text/plain": [
              "array([-0.27224633, -0.48361547, -0.43576161, -0.25683275, -0.1652266 ,\n",
              "       -0.1764426 ,  0.81306188,  0.1166983 , -0.62624905, -0.59517003,\n",
              "        1.14850044,  0.44807713,  0.8252202 ])"
            ]
          },
          "metadata": {
            "tags": []
          },
          "execution_count": 4
        }
      ]
    },
    {
      "cell_type": "code",
      "metadata": {
        "id": "sLrnkyXnvai7",
        "outputId": "93323c72-e8ae-4270-9e2b-ebcc2e983035",
        "colab": {
          "base_uri": "https://localhost:8080/",
          "height": 35
        }
      },
      "source": [
        "train_data.shape[1]"
      ],
      "execution_count": 5,
      "outputs": [
        {
          "output_type": "execute_result",
          "data": {
            "text/plain": [
              "13"
            ]
          },
          "metadata": {
            "tags": []
          },
          "execution_count": 5
        }
      ]
    },
    {
      "cell_type": "code",
      "metadata": {
        "id": "TJTlDoZRcHSn"
      },
      "source": [
        "# 3-26 모델 정의하기\n",
        "from keras import models\n",
        "from keras import layers\n",
        "def build_model():\n",
        "  model = models.Sequential()\n",
        "  model.add(layers.Dense(64,activation='relu',input_shape=(13,)))\n",
        "  model.add(layers.Dense(64,activation='relu'))\n",
        "  model.add(layers.Dense(1))                      # 스칼라 회귀를 위한 출력층\n",
        "  model.compile(optimizer='rmsprop', \n",
        "                loss='mse',                        # 회귀문제에 주로 쓰이는 손실 함수\n",
        "                metrics=['mae'])\n",
        "  return model"
      ],
      "execution_count": 6,
      "outputs": []
    },
    {
      "cell_type": "code",
      "metadata": {
        "id": "9AHPpzmecHQ2",
        "outputId": "cd91779c-a4a3-4a85-82b8-af574bb5b198",
        "colab": {
          "base_uri": "https://localhost:8080/",
          "height": 89
        }
      },
      "source": [
        "# 3-27\n",
        "# test 데이터가 많지 않기 때문에 어떤 데이터에 따라 결과가 큰 차이를 보일 수 있음 -> K-Fold\n",
        "import numpy as np\n",
        "\n",
        "k = 4\n",
        "num_val_samples = len(train_data)//k\n",
        "num_epochs = 100\n",
        "all_scores=[]\n",
        "for i in range(k):\n",
        "  print('처리중인 폴드 #',i)\n",
        "  val_data = train_data[i*num_val_samples: (i +1) * num_val_samples]                                        \n",
        "  val_targets = train_targets[i * num_val_samples: (i + 1) * num_val_samples]\n",
        "\n",
        "  partial_train_data = np.concatenate(                # k 를 빼놓고 나머지 concat\n",
        "      [train_data[:i * num_val_samples],\n",
        "      train_data[(i+1)*num_val_samples:]], axis = 0\n",
        "      )\n",
        "  partial_train_targets = np.concatenate(\n",
        "      [train_targets[:i * num_val_samples],\n",
        "       train_targets[(i+1)*num_val_samples:]], axis = 0\n",
        "  )\n",
        "\n",
        "  model = build_model()\n",
        "  model.fit(partial_train_data, partial_train_targets,\n",
        "            epochs=num_epochs,\n",
        "            batch_size=1,\n",
        "            verbose = 0)\n",
        "  val_mse, val_mae = model.evaluate(val_data, val_targets, verbose=0)\n",
        "  all_scores.append(val_mae)"
      ],
      "execution_count": 9,
      "outputs": [
        {
          "output_type": "stream",
          "text": [
            "처리중인 폴드 # 0\n",
            "처리중인 폴드 # 1\n",
            "처리중인 폴드 # 2\n",
            "처리중인 폴드 # 3\n"
          ],
          "name": "stdout"
        }
      ]
    },
    {
      "cell_type": "code",
      "metadata": {
        "id": "wQy98GMQwlez",
        "outputId": "c2df7521-6467-4c22-89c6-0129eecfdd67",
        "colab": {
          "base_uri": "https://localhost:8080/",
          "height": 53
        }
      },
      "source": [
        "print(all_scores)\n",
        "print(np.mean(all_scores))"
      ],
      "execution_count": 19,
      "outputs": [
        {
          "output_type": "stream",
          "text": [
            "[2.024306297302246, 2.547109365463257, 2.64969801902771, 2.367769241333008]\n",
            "2.397220730781555\n"
          ],
          "name": "stdout"
        }
      ]
    },
    {
      "cell_type": "code",
      "metadata": {
        "id": "Pt7bsaeEcHMh",
        "outputId": "597d9784-dd2e-444c-9cb3-e2262a5f0c71",
        "colab": {
          "base_uri": "https://localhost:8080/",
          "height": 89
        }
      },
      "source": [
        "# 3-28 각 폴드에서 검증 점수를 로그에 저장하기\n",
        "num_epochs = 500\n",
        "all_mae_scores = []\n",
        "for i in range(k):\n",
        "  print('처리중인 폴드 #', i)\n",
        "  val_data = train_data[i*num_val_samples: (i+1)*num_val_samples]\n",
        "  val_targets = train_targets[i*num_val_samples: (i + 1) * num_val_samples]\n",
        "  partial_train_data = np.concatenate(\n",
        "      [train_data[:i*num_val_samples],\n",
        "       train_data[(i+1) * num_val_samples:]],axis=0)\n",
        "  partial_train_target = np.concatenate(\n",
        "      [train_targets[:i*num_val_samples],\n",
        "       train_targets[(i+1)*num_val_samples:]],axis=0\n",
        "  )\n",
        "  model = build_model()\n",
        "  history = model.fit(partial_train_data,partial_train_target,\n",
        "            validation_data = (val_data,val_targets),\n",
        "            epochs=num_epochs,\n",
        "            batch_size=1,\n",
        "            verbose=0)\n",
        "  mae_history = history.history['val_mae']\n",
        "  all_mae_scores.append(mae_history)"
      ],
      "execution_count": 17,
      "outputs": [
        {
          "output_type": "stream",
          "text": [
            "처리중인 폴드 # 0\n",
            "처리중인 폴드 # 1\n",
            "처리중인 폴드 # 2\n",
            "처리중인 폴드 # 3\n"
          ],
          "name": "stdout"
        }
      ]
    },
    {
      "cell_type": "code",
      "metadata": {
        "id": "t41b-tH90U4J",
        "outputId": "1af16eac-22ca-40c6-a813-20d0088f1e9a",
        "colab": {
          "base_uri": "https://localhost:8080/",
          "height": 35
        }
      },
      "source": [
        "history.history.keys()"
      ],
      "execution_count": 15,
      "outputs": [
        {
          "output_type": "execute_result",
          "data": {
            "text/plain": [
              "dict_keys(['loss', 'mae', 'val_loss', 'val_mae'])"
            ]
          },
          "metadata": {
            "tags": []
          },
          "execution_count": 15
        }
      ]
    },
    {
      "cell_type": "code",
      "metadata": {
        "id": "gz-IAba7zTeD"
      },
      "source": [
        "# 3-29 k-fold 검증 점수 평균을 기록하기\n",
        "average_mae_history = [\n",
        "                       np.mean([x[i] for x in all_mae_scores]) for i in range(num_epochs)]"
      ],
      "execution_count": 24,
      "outputs": []
    },
    {
      "cell_type": "code",
      "metadata": {
        "id": "Gl5vEZAScHGq",
        "outputId": "8362d3c1-f375-450c-bb90-29d9a89d7bc7",
        "colab": {
          "base_uri": "https://localhost:8080/",
          "height": 73
        }
      },
      "source": [
        "print(all_mae_scores)\n",
        "print(np.mean(all_mae_scores))"
      ],
      "execution_count": 21,
      "outputs": [
        {
          "output_type": "stream",
          "text": [
            "[[3.877408981323242, 2.6829288005828857, 2.4935553073883057, 2.4810614585876465, 2.370415449142456, 2.2065253257751465, 2.3872368335723877, 2.479100465774536, 2.354835033416748, 2.19999623298645, 2.169692039489746, 2.1345598697662354, 2.172757148742676, 1.9978426694869995, 2.355088472366333, 2.1392734050750732, 2.317859649658203, 2.2015914916992188, 2.0474016666412354, 2.438551902770996, 1.9569041728973389, 2.474086284637451, 2.1295247077941895, 2.271007537841797, 2.2682995796203613, 1.9685596227645874, 2.2005224227905273, 1.9643763303756714, 2.232769727706909, 2.1218268871307373, 1.9493794441223145, 1.9562846422195435, 2.099499225616455, 1.989534854888916, 2.346848726272583, 2.225768566131592, 1.9544103145599365, 2.131868600845337, 1.9594676494598389, 2.2608113288879395, 2.0618791580200195, 2.095273494720459, 2.1402101516723633, 2.27567458152771, 2.0251314640045166, 2.256873369216919, 2.3348944187164307, 2.0323755741119385, 2.11716365814209, 2.0295093059539795, 2.061753034591675, 2.0344579219818115, 2.3297204971313477, 2.171903133392334, 2.725141763687134, 2.7061386108398438, 2.1930906772613525, 2.154208183288574, 2.099321126937866, 2.2143704891204834, 2.2083683013916016, 2.0511536598205566, 2.169210195541382, 2.2147045135498047, 2.3981471061706543, 2.3783986568450928, 2.1622085571289062, 2.2173917293548584, 1.9923700094223022, 2.167433738708496, 2.098539352416992, 2.092613697052002, 2.3587212562561035, 2.306588888168335, 2.0633411407470703, 2.117704391479492, 2.3192977905273438, 2.1962108612060547, 2.0537617206573486, 2.5596461296081543, 2.1966655254364014, 2.2202534675598145, 2.12292218208313, 2.5945098400115967, 2.08658766746521, 2.789396286010742, 2.572352409362793, 2.1121253967285156, 2.11761474609375, 2.1407694816589355, 2.3557944297790527, 2.107764720916748, 2.1134631633758545, 2.032585859298706, 2.262162208557129, 2.4918572902679443, 2.0890159606933594, 2.237006902694702, 2.282456398010254, 2.1876120567321777, 2.222507953643799, 2.1523611545562744, 2.3030104637145996, 2.386096954345703, 2.329393148422241, 2.241356372833252, 2.1404829025268555, 2.385204315185547, 2.4644200801849365, 2.324423313140869, 2.5564844608306885, 2.1040902137756348, 2.2935194969177246, 2.325331687927246, 2.8620777130126953, 2.400287628173828, 2.7838926315307617, 2.7534284591674805, 2.4074206352233887, 2.2895877361297607, 2.2175133228302, 2.2291131019592285, 2.11443829536438, 2.460902452468872, 2.3216545581817627, 2.34092116355896, 2.303593158721924, 2.4756929874420166, 2.3145365715026855, 2.3522026538848877, 2.241621494293213, 2.1922338008880615, 2.139249324798584, 2.4297938346862793, 2.2503578662872314, 2.371412754058838, 2.4861342906951904, 2.436220645904541, 2.1827430725097656, 2.1246392726898193, 2.248542070388794, 2.2346272468566895, 2.3402743339538574, 2.3794355392456055, 2.3890836238861084, 2.8606696128845215, 2.751508951187134, 2.352224349975586, 2.514708995819092, 2.0584566593170166, 2.2417898178100586, 2.3925061225891113, 2.1408536434173584, 2.4825210571289062, 2.4233202934265137, 2.226083993911743, 2.4441535472869873, 2.175826072692871, 2.2700130939483643, 2.4108967781066895, 2.258476972579956, 2.335554599761963, 2.2805535793304443, 2.4319541454315186, 2.1972880363464355, 2.3954997062683105, 2.2649447917938232, 2.2979319095611572, 2.280606746673584, 2.479531764984131, 2.2782912254333496, 2.417440176010132, 2.7866764068603516, 2.1910829544067383, 2.5937037467956543, 2.4795072078704834, 2.2030482292175293, 2.549001455307007, 2.3806769847869873, 2.6961402893066406, 2.32389235496521, 2.2671663761138916, 2.269400119781494, 2.620897054672241, 2.250553846359253, 2.583221673965454, 2.1174886226654053, 2.4057483673095703, 2.2258336544036865, 2.2028262615203857, 2.413830041885376, 2.4152889251708984, 2.5923073291778564, 2.6033241748809814, 2.4998252391815186, 2.270005702972412, 2.5346744060516357, 2.414844512939453, 2.2988083362579346, 2.387413740158081, 2.4934229850769043, 2.2292065620422363, 2.5457210540771484, 2.259917736053467, 2.125662326812744, 2.574881076812744, 2.3475289344787598, 2.2328453063964844, 2.374335765838623, 2.351783037185669, 2.457268238067627, 2.4992663860321045, 2.394294500350952, 2.328977584838867, 2.3708536624908447, 2.2750449180603027, 2.4748544692993164, 2.4713363647460938, 2.3389103412628174, 2.3630521297454834, 2.5180790424346924, 2.4883313179016113, 2.4220290184020996, 2.3974664211273193, 2.3749840259552, 2.3279683589935303, 2.0811221599578857, 2.3438427448272705, 2.3256945610046387, 2.2442636489868164, 2.4166290760040283, 2.254682779312134, 2.4910027980804443, 2.39196515083313, 2.4568591117858887, 2.1603991985321045, 2.2786264419555664, 2.636101484298706, 2.396110773086548, 2.500322103500366, 2.480712652206421, 2.4004428386688232, 2.2389376163482666, 2.4102630615234375, 2.3243796825408936, 2.3384182453155518, 2.562546730041504, 2.2635579109191895, 2.5065248012542725, 2.4107859134674072, 2.4796245098114014, 2.2880406379699707, 2.479816436767578, 2.4155075550079346, 2.469491720199585, 2.472647190093994, 2.4386110305786133, 2.797710657119751, 2.4703993797302246, 2.3134303092956543, 2.565608501434326, 2.4135286808013916, 2.4611637592315674, 2.4608876705169678, 2.395909309387207, 2.547468423843384, 2.4245879650115967, 2.4946298599243164, 2.341179609298706, 2.6117658615112305, 2.414837121963501, 2.6449806690216064, 2.3793623447418213, 2.4139297008514404, 2.542558193206787, 2.4469285011291504, 2.470047950744629, 2.575214385986328, 2.448200225830078, 2.4977610111236572, 2.555710554122925, 2.576580286026001, 2.3393795490264893, 2.5766990184783936, 2.406018018722534, 2.468411922454834, 2.489260196685791, 2.4367921352386475, 2.4841361045837402, 2.498551845550537, 2.470259189605713, 2.7405269145965576, 2.4491305351257324, 2.3890769481658936, 2.447678565979004, 2.5116937160491943, 2.533310651779175, 2.5925166606903076, 2.5592029094696045, 2.4732041358947754, 2.576565980911255, 2.560548782348633, 2.7188949584960938, 2.539036750793457, 2.52592396736145, 2.3537774085998535, 2.7135865688323975, 2.733644723892212, 2.556183099746704, 2.5456783771514893, 2.4906795024871826, 2.3965446949005127, 2.810213804244995, 2.5239408016204834, 2.497150421142578, 2.32670521736145, 2.4902215003967285, 2.6100189685821533, 2.5831243991851807, 2.4386913776397705, 2.4825005531311035, 2.5783421993255615, 2.6038434505462646, 2.5101847648620605, 2.7398838996887207, 2.604930877685547, 2.57124924659729, 2.5530574321746826, 2.512852668762207, 2.4494738578796387, 2.5810763835906982, 2.473933458328247, 2.5836341381073, 2.607997179031372, 2.4803667068481445, 2.8736066818237305, 2.6112864017486572, 2.5137312412261963, 2.5837697982788086, 2.5886096954345703, 2.30854868888855, 2.47005295753479, 2.452364444732666, 2.5166175365448, 2.3081610202789307, 2.4227423667907715, 2.5022449493408203, 2.7965915203094482, 2.4228599071502686, 2.568422794342041, 2.6224443912506104, 2.4991047382354736, 2.4740025997161865, 2.737481117248535, 2.5806169509887695, 2.5012805461883545, 2.391620635986328, 2.456860303878784, 2.327392578125, 2.559654951095581, 2.530923366546631, 2.394428014755249, 2.443279266357422, 2.6545591354370117, 2.5100347995758057, 2.3125195503234863, 2.4571003913879395, 2.356675148010254, 2.425034284591675, 2.5031487941741943, 2.5159430503845215, 2.470560073852539, 2.5938611030578613, 2.4655401706695557, 2.4774222373962402, 2.429163932800293, 2.429276466369629, 2.5825564861297607, 2.52852463722229, 2.3339219093322754, 2.3671207427978516, 2.4521918296813965, 2.28031849861145, 2.551128625869751, 2.475119113922119, 2.494403123855591, 2.448591709136963, 2.602121114730835, 2.534588575363159, 2.474865674972534, 2.5525476932525635, 2.3658697605133057, 2.7206523418426514, 2.4155209064483643, 2.674945592880249, 2.3830575942993164, 2.4976866245269775, 2.5277838706970215, 2.4573326110839844, 2.5351662635803223, 2.3842716217041016, 2.442046880722046, 2.5985989570617676, 2.3989217281341553, 2.5437259674072266, 2.4401941299438477, 2.3876473903656006, 2.5741474628448486, 2.5597004890441895, 2.331681966781616, 2.5025243759155273, 2.5680668354034424, 2.399519443511963, 2.6263349056243896, 2.5255329608917236, 2.457918167114258, 2.4226388931274414, 2.6831064224243164, 2.2360684871673584, 2.463078737258911, 2.593609571456909, 2.612391948699951, 2.292870044708252, 2.613970994949341, 2.646047830581665, 2.5356595516204834, 2.5080132484436035, 2.498351812362671, 2.5410661697387695, 2.5171167850494385, 2.631890058517456, 2.4088425636291504, 2.538592576980591, 2.6407551765441895, 2.650336742401123, 2.4428365230560303, 2.4960532188415527, 2.3345634937286377, 2.4798688888549805, 2.6020331382751465, 2.517422914505005, 2.459075450897217, 2.6124327182769775, 2.514341115951538, 2.5339081287384033, 2.6157615184783936, 2.5305254459381104, 2.3744702339172363, 2.4112637042999268, 2.5767738819122314, 2.501875162124634, 2.5163395404815674, 2.3988819122314453, 2.580808401107788, 2.4834327697753906, 2.511504650115967, 2.442056179046631, 2.54693865776062, 2.450838088989258, 2.477898359298706, 2.5506751537323, 2.414842128753662, 2.460744857788086, 2.4358248710632324, 2.4577341079711914, 2.5716564655303955, 2.4633612632751465, 2.4017996788024902, 2.4745993614196777, 2.4114017486572266, 2.5073046684265137, 2.4651408195495605, 2.511584520339966, 2.664367914199829, 2.4539055824279785, 2.4563679695129395, 2.507585287094116, 2.5810763835906982, 2.5209312438964844, 2.3836510181427, 2.3248865604400635, 2.4387125968933105, 2.4323108196258545, 2.349191904067993, 2.6569042205810547, 2.4216501712799072, 2.588991641998291, 2.44096302986145, 2.364445209503174, 2.468407392501831, 2.33371901512146, 2.375532627105713, 2.4002621173858643, 2.3049800395965576, 2.4106390476226807, 2.5258424282073975, 2.498985767364502, 2.4710021018981934, 2.334015130996704, 2.4921276569366455], [4.504307746887207, 3.139732837677002, 3.032181739807129, 3.2615787982940674, 2.8550968170166016, 2.895117998123169, 2.7366673946380615, 2.718402147293091, 2.5981264114379883, 3.1458659172058105, 2.7298641204833984, 2.786785125732422, 2.6384060382843018, 2.560518980026245, 2.669006586074829, 2.8531441688537598, 2.621258020401001, 2.4900283813476562, 2.877329111099243, 2.414043664932251, 2.6124935150146484, 2.5226142406463623, 2.7419748306274414, 2.453765630722046, 2.554941415786743, 2.397969961166382, 2.6927289962768555, 2.571991205215454, 2.9306483268737793, 2.5621464252471924, 2.547177791595459, 2.5035669803619385, 2.5439071655273438, 2.5767934322357178, 2.298255443572998, 2.6493234634399414, 2.6274924278259277, 2.523151159286499, 2.4432051181793213, 2.2613511085510254, 2.1917197704315186, 2.6035993099212646, 2.5172369480133057, 2.42722487449646, 2.20519757270813, 2.6096527576446533, 2.206094980239868, 2.5816097259521484, 2.496882438659668, 2.439509153366089, 2.237067937850952, 2.461962938308716, 2.238614320755005, 2.303861618041992, 2.490302324295044, 2.5450632572174072, 2.393782138824463, 2.2759971618652344, 2.384986639022827, 2.308492422103882, 2.374875783920288, 2.2043230533599854, 3.2444446086883545, 2.7157487869262695, 2.348505735397339, 2.597261905670166, 2.6604957580566406, 2.1765427589416504, 2.476442813873291, 2.350395917892456, 2.542546033859253, 2.6368908882141113, 2.593898296356201, 2.7783315181732178, 2.2738702297210693, 2.3920607566833496, 2.434783697128296, 2.130573272705078, 2.237600803375244, 2.209838628768921, 2.452080488204956, 2.3254787921905518, 2.4492874145507812, 2.1485185623168945, 2.2761669158935547, 2.446840286254883, 2.5378477573394775, 2.332242488861084, 2.4696452617645264, 2.142824411392212, 2.4498720169067383, 2.419764518737793, 2.5472183227539062, 2.722094774246216, 2.314004898071289, 2.238144636154175, 2.4847261905670166, 2.3367726802825928, 2.4666881561279297, 2.4800615310668945, 2.7980289459228516, 2.4472999572753906, 2.921306610107422, 2.527848720550537, 2.352668523788452, 2.6611580848693848, 2.515345811843872, 2.9663143157958984, 2.5205276012420654, 2.617795467376709, 2.806532382965088, 2.468426465988159, 2.6872262954711914, 2.525862216949463, 2.855729818344116, 2.4311435222625732, 2.5699684619903564, 2.526524305343628, 3.1601407527923584, 2.5542194843292236, 2.6551313400268555, 2.6379902362823486, 3.0778534412384033, 2.3794546127319336, 2.7717034816741943, 2.568228244781494, 2.41861891746521, 2.5432662963867188, 2.5295209884643555, 2.524772882461548, 3.2038064002990723, 2.5759739875793457, 2.366889238357544, 2.9797921180725098, 2.437455415725708, 3.0864322185516357, 2.900829553604126, 3.051328659057617, 2.765995502471924, 3.1004726886749268, 2.8155698776245117, 2.6341934204101562, 2.4281539916992188, 2.5996389389038086, 2.469700336456299, 2.540341854095459, 2.9960334300994873, 2.5954740047454834, 2.8517367839813232, 3.1543469429016113, 2.661897897720337, 2.72945499420166, 2.5621135234832764, 2.927292585372925, 2.468471050262451, 2.7825822830200195, 3.1265149116516113, 2.602464437484741, 2.66117787361145, 2.6478214263916016, 3.0907888412475586, 2.949063777923584, 2.6028828620910645, 2.74884033203125, 2.88708233833313, 2.955244541168213, 2.8288931846618652, 2.84867787361145, 2.493260383605957, 2.713136672973633, 2.619488000869751, 2.8487539291381836, 2.9270527362823486, 2.7282567024230957, 2.5815837383270264, 2.9191646575927734, 2.6717097759246826, 2.627825975418091, 2.620206594467163, 2.613320827484131, 2.8776774406433105, 2.756415843963623, 2.710495948791504, 2.4875128269195557, 2.6683857440948486, 2.9575798511505127, 3.0451340675354004, 2.6978964805603027, 3.266125440597534, 2.7418630123138428, 3.1987051963806152, 2.9506590366363525, 2.8870038986206055, 2.8185977935791016, 2.508808135986328, 2.887119770050049, 2.7930831909179688, 2.514759063720703, 2.9154624938964844, 2.7139110565185547, 2.6394400596618652, 3.2064216136932373, 2.9366583824157715, 2.629426956176758, 2.880819797515869, 2.865286111831665, 2.751424551010132, 3.3966193199157715, 2.7408626079559326, 2.8104774951934814, 2.7177913188934326, 3.0424752235412598, 3.0743980407714844, 2.664114475250244, 2.948711633682251, 2.832961320877075, 3.380155324935913, 3.067653179168701, 2.4932587146759033, 3.054997444152832, 2.691987991333008, 2.7466633319854736, 2.7304558753967285, 2.9642860889434814, 2.7690930366516113, 2.8284642696380615, 2.689112901687622, 2.8012728691101074, 2.512082099914551, 2.8697962760925293, 2.666616678237915, 2.9175539016723633, 2.6087489128112793, 3.0646371841430664, 3.0142369270324707, 2.7989470958709717, 2.8056325912475586, 3.1003828048706055, 2.647278070449829, 2.731321334838867, 3.3742265701293945, 3.123511791229248, 2.9590306282043457, 2.8025763034820557, 2.776116371154785, 2.7835962772369385, 3.1859469413757324, 3.0534780025482178, 3.279446840286255, 3.0254039764404297, 2.7520318031311035, 3.3302552700042725, 3.238629102706909, 2.681553363800049, 3.009032964706421, 3.0169360637664795, 2.7327582836151123, 2.6728291511535645, 2.7662758827209473, 3.179755449295044, 2.789642572402954, 2.83528733253479, 2.911820888519287, 3.1508734226226807, 2.6345527172088623, 2.6932036876678467, 2.9687869548797607, 2.9187026023864746, 2.955645799636841, 3.0216383934020996, 2.996885299682617, 2.8329288959503174, 3.0617198944091797, 3.244375467300415, 2.979093551635742, 2.983599901199341, 2.9413862228393555, 2.956939935684204, 2.7251601219177246, 2.7193148136138916, 2.713534116744995, 2.603985071182251, 3.024590253829956, 2.9189212322235107, 2.7305848598480225, 2.927400827407837, 2.7505393028259277, 2.83301043510437, 3.0602266788482666, 2.762796640396118, 3.0005829334259033, 3.3934292793273926, 2.795117139816284, 2.884477376937866, 2.8952395915985107, 3.1370723247528076, 3.405588388442993, 2.969881534576416, 2.811034917831421, 3.181328296661377, 3.1833386421203613, 2.9827747344970703, 2.590125322341919, 2.9806764125823975, 2.9133567810058594, 3.0171432495117188, 2.9729912281036377, 2.918649911880493, 3.004348039627075, 3.048638105392456, 3.199531078338623, 3.0076792240142822, 2.7761809825897217, 3.0337624549865723, 3.000387668609619, 2.937955617904663, 2.745680809020996, 2.7460198402404785, 2.9280388355255127, 3.152665138244629, 3.3213083744049072, 3.1314878463745117, 3.1732821464538574, 2.8327202796936035, 3.006514549255371, 3.1737582683563232, 2.794722557067871, 2.7705063819885254, 3.243661642074585, 3.1307146549224854, 2.8842551708221436, 3.194497585296631, 2.9322609901428223, 2.9078335762023926, 3.0477960109710693, 2.957348585128784, 2.9409499168395996, 3.126945972442627, 2.8164288997650146, 2.794325828552246, 2.720665454864502, 2.9995503425598145, 3.09572434425354, 3.107999324798584, 3.3176398277282715, 3.0154309272766113, 3.0514650344848633, 3.0757298469543457, 3.077296495437622, 2.934999704360962, 2.9443304538726807, 3.43874192237854, 2.8566734790802, 3.036320447921753, 2.727351665496826, 2.727107286453247, 2.76025390625, 3.3914008140563965, 2.7714614868164062, 2.9980380535125732, 3.1360132694244385, 3.1578478813171387, 2.8795549869537354, 3.135343074798584, 2.862668991088867, 2.9499311447143555, 2.944981336593628, 2.811671257019043, 2.867189645767212, 2.959409475326538, 2.988593101501465, 2.8246870040893555, 2.8923418521881104, 3.176387071609497, 2.9602015018463135, 2.937568187713623, 3.0473225116729736, 3.359590768814087, 2.9761714935302734, 2.865074634552002, 2.965388774871826, 3.1490228176116943, 3.1047935485839844, 2.8878567218780518, 2.898902416229248, 2.9861996173858643, 3.0110890865325928, 2.9261105060577393, 2.981569766998291, 2.9749724864959717, 3.0582029819488525, 2.9386563301086426, 2.8033900260925293, 3.223097801208496, 2.9206061363220215, 2.642050266265869, 2.792863368988037, 2.8969311714172363, 3.0211241245269775, 2.9755325317382812, 3.0576283931732178, 2.8917243480682373, 2.818425178527832, 2.88543963432312, 3.275242328643799, 3.1135692596435547, 3.0967583656311035, 2.9053409099578857, 3.2135984897613525, 2.836853265762329, 2.929805278778076, 2.921480655670166, 3.1582298278808594, 3.0862886905670166, 3.0178728103637695, 3.1354682445526123, 2.8113908767700195, 3.014200448989868, 2.8060617446899414, 2.8238253593444824, 2.8672213554382324, 3.0269217491149902, 2.835362195968628, 2.927548885345459, 3.179455518722534, 2.9442873001098633, 3.0900719165802, 2.7540459632873535, 3.0069708824157715, 2.9211342334747314, 2.9914655685424805, 2.8905529975891113, 3.1449098587036133, 2.8282198905944824, 2.95416259765625, 2.9801785945892334, 2.983039379119873, 2.937284231185913, 2.9277498722076416, 2.8287549018859863, 3.196166753768921, 2.991070032119751, 2.9653918743133545, 2.8331809043884277, 2.8781614303588867, 3.0112359523773193, 2.8705241680145264, 3.1669559478759766, 3.3769354820251465, 2.9646155834198, 2.9468817710876465, 2.998310089111328, 3.0840327739715576, 3.045207977294922, 2.8735604286193848, 2.8898067474365234, 3.0271384716033936, 3.1001031398773193, 2.878394603729248, 2.949923276901245, 3.3771116733551025, 2.9268720149993896, 3.034745216369629, 3.0790374279022217, 2.90535831451416, 3.044008731842041, 2.8143558502197266, 2.9005138874053955, 2.93752384185791, 3.111617088317871, 3.1747264862060547, 3.2922801971435547, 3.150020122528076, 3.045532464981079, 3.2439842224121094, 3.145512104034424, 3.1261165142059326, 3.0079562664031982, 2.964977264404297, 3.1215851306915283, 2.9244296550750732, 3.2011990547180176, 2.9905426502227783, 3.0322296619415283, 2.848839282989502, 2.8467636108398438, 2.9266750812530518, 2.9490268230438232, 3.1617214679718018, 2.9494528770446777, 2.620187520980835, 2.787731885910034, 2.7882466316223145, 3.2169578075408936, 2.8779215812683105, 2.804903268814087, 3.0963191986083984, 2.8728694915771484, 2.8189752101898193, 3.309565782546997], [3.9482667446136475, 2.906674861907959, 2.7922348976135254, 2.635662078857422, 3.174684524536133, 3.0483269691467285, 2.8042385578155518, 2.709000587463379, 2.776271104812622, 2.7025578022003174, 2.6450250148773193, 2.892763137817383, 2.63962459564209, 2.614748001098633, 2.57427978515625, 2.5608139038085938, 2.544779062271118, 2.7056949138641357, 2.719447374343872, 2.6460697650909424, 2.7927615642547607, 2.6548728942871094, 2.6733455657958984, 2.699795961380005, 2.735609292984009, 2.847649335861206, 2.685849666595459, 2.529555559158325, 2.5918068885803223, 2.944317102432251, 2.622260332107544, 2.8142035007476807, 2.8182075023651123, 2.8267250061035156, 2.5677061080932617, 2.6437582969665527, 2.5995020866394043, 2.630826234817505, 2.784294605255127, 2.6602377891540527, 2.659477949142456, 2.5598881244659424, 2.623866319656372, 2.7189602851867676, 2.7064638137817383, 2.700113534927368, 2.5466716289520264, 2.7839386463165283, 2.852159023284912, 2.7236688137054443, 2.7818024158477783, 2.7203192710876465, 2.8644015789031982, 2.7646994590759277, 2.581902265548706, 2.649200677871704, 2.8642027378082275, 2.7480454444885254, 2.915865659713745, 2.7715771198272705, 2.80907940864563, 2.7807247638702393, 2.7999427318573, 2.6218881607055664, 2.623997211456299, 2.992676019668579, 2.8311991691589355, 2.904710531234741, 2.8900771141052246, 2.592013120651245, 2.673982620239258, 2.8806302547454834, 2.740105152130127, 2.8183116912841797, 2.691035270690918, 2.6602444648742676, 2.77176833152771, 2.6543171405792236, 2.7694294452667236, 2.690063238143921, 3.0234081745147705, 2.677553176879883, 2.8387484550476074, 2.727915048599243, 2.6071877479553223, 2.7574267387390137, 2.7297682762145996, 2.832580327987671, 2.6392581462860107, 2.643386125564575, 2.7585744857788086, 2.736356019973755, 2.886995792388916, 2.6208462715148926, 2.710468053817749, 2.7707431316375732, 2.8737053871154785, 2.7302157878875732, 2.5478289127349854, 3.1523385047912598, 2.618399143218994, 2.7951793670654297, 2.5850603580474854, 2.7019846439361572, 2.6156461238861084, 2.775031328201294, 2.7812271118164062, 2.69792103767395, 2.9296796321868896, 2.5242466926574707, 2.656351327896118, 2.5900306701660156, 2.8865256309509277, 2.662292718887329, 2.751702308654785, 2.8522911071777344, 2.907090902328491, 3.012331485748291, 2.7830686569213867, 3.0368492603302, 2.78128719329834, 2.752687692642212, 2.6915624141693115, 2.7501094341278076, 3.002939462661743, 2.70238995552063, 2.743722677230835, 2.7348597049713135, 2.815207004547119, 2.62190318107605, 2.7796154022216797, 2.789930820465088, 2.5834474563598633, 2.6714701652526855, 2.727497100830078, 2.862258195877075, 2.6358249187469482, 2.8945090770721436, 3.229783058166504, 2.6837730407714844, 3.021698236465454, 2.7860684394836426, 2.7054429054260254, 2.6800782680511475, 2.7227444648742676, 2.9475455284118652, 2.8173367977142334, 2.8256351947784424, 2.884828805923462, 2.725821018218994, 3.0138750076293945, 2.7067370414733887, 2.6490542888641357, 2.784780979156494, 2.955310106277466, 2.7458748817443848, 2.6952061653137207, 2.7829012870788574, 2.713660478591919, 2.873096227645874, 2.6650443077087402, 3.088425636291504, 2.77681827545166, 2.9287478923797607, 2.6369693279266357, 2.9128823280334473, 2.7191383838653564, 2.7919256687164307, 2.9201555252075195, 2.9189817905426025, 2.8946399688720703, 2.706512212753296, 2.817680835723877, 2.7390406131744385, 2.794858694076538, 2.6438915729522705, 2.852445363998413, 2.816654682159424, 2.703559160232544, 2.7214713096618652, 2.804792642593384, 2.989166021347046, 2.983635902404785, 2.7062265872955322, 2.7436892986297607, 2.7662665843963623, 2.9084901809692383, 2.607151508331299, 2.8787741661071777, 2.6647679805755615, 2.86389422416687, 2.9120283126831055, 2.8101024627685547, 2.9549107551574707, 3.0333502292633057, 2.8210322856903076, 2.8565609455108643, 2.7229673862457275, 2.6323118209838867, 2.8213343620300293, 2.759408712387085, 2.6111810207366943, 2.8057875633239746, 2.9463982582092285, 2.881013870239258, 2.799107551574707, 2.9068820476531982, 2.9702179431915283, 2.833693742752075, 2.989816904067993, 2.9117631912231445, 2.738466739654541, 2.712665319442749, 2.6860203742980957, 2.910874843597412, 2.90759015083313, 3.000516176223755, 2.938708543777466, 2.797473907470703, 2.8026020526885986, 3.0633468627929688, 3.0030570030212402, 2.956181526184082, 2.8233823776245117, 3.0177671909332275, 2.962470054626465, 2.7975494861602783, 3.044933319091797, 2.891838788986206, 2.8927714824676514, 2.951660394668579, 2.900174617767334, 2.8850209712982178, 2.886594533920288, 2.8317625522613525, 2.869051218032837, 2.851341962814331, 2.9861035346984863, 2.987438440322876, 2.830605983734131, 2.823028802871704, 2.852034091949463, 2.984149694442749, 2.8565986156463623, 2.840127468109131, 3.036426544189453, 2.913341522216797, 2.8891851902008057, 2.9126482009887695, 2.907792806625366, 2.7743101119995117, 2.854492425918579, 2.8624281883239746, 2.7759265899658203, 2.8768672943115234, 2.7933380603790283, 2.9495139122009277, 2.974586009979248, 2.7813472747802734, 2.8969650268554688, 2.9159770011901855, 2.9395668506622314, 2.9381706714630127, 2.8927574157714844, 2.8502955436706543, 2.83467698097229, 2.8481810092926025, 2.8177499771118164, 2.939945697784424, 2.9153976440429688, 2.9602811336517334, 2.9473698139190674, 2.7963390350341797, 2.909771680831909, 2.9318509101867676, 2.950904369354248, 2.953455924987793, 2.8947415351867676, 2.831028938293457, 2.8351235389709473, 2.907987594604492, 2.9670703411102295, 2.862666130065918, 3.112880229949951, 2.9519553184509277, 2.966937303543091, 2.9597408771514893, 2.9599359035491943, 2.8996894359588623, 2.824836015701294, 2.815753936767578, 2.8927090167999268, 2.9091978073120117, 2.9958560466766357, 2.9495885372161865, 2.8766400814056396, 2.8822059631347656, 2.8547704219818115, 2.943829298019409, 2.967707633972168, 3.093250036239624, 2.863797426223755, 2.8955271244049072, 2.9116811752319336, 2.9790031909942627, 3.0213005542755127, 2.964355707168579, 3.0100181102752686, 2.9020912647247314, 3.083314895629883, 2.9714789390563965, 2.8644661903381348, 2.960132598876953, 2.8571925163269043, 3.063565492630005, 2.9012575149536133, 2.9033968448638916, 3.0112743377685547, 3.0129802227020264, 2.9143002033233643, 2.938239336013794, 2.9937736988067627, 2.8676750659942627, 2.872321605682373, 2.9153077602386475, 2.9678473472595215, 2.882697105407715, 2.8885016441345215, 2.833692789077759, 2.7799363136291504, 2.8996031284332275, 2.9288136959075928, 2.8910067081451416, 2.8509597778320312, 2.7721590995788574, 2.8857579231262207, 2.783637046813965, 2.9412310123443604, 2.8623478412628174, 2.851708173751831, 2.905907392501831, 2.9301598072052, 2.7582039833068848, 3.031357526779175, 2.785382032394409, 2.8946876525878906, 2.727454423904419, 2.9007210731506348, 2.7844159603118896, 2.8768866062164307, 2.8158018589019775, 2.836289167404175, 2.9265100955963135, 2.803335666656494, 2.841317892074585, 2.758002281188965, 2.9651918411254883, 2.8178017139434814, 2.972820520401001, 2.86034893989563, 3.085942268371582, 2.9697256088256836, 3.0641515254974365, 2.913217782974243, 2.933558702468872, 2.8779001235961914, 2.9166252613067627, 2.900076150894165, 2.988024950027466, 2.955897331237793, 2.9651267528533936, 3.016538381576538, 3.096900463104248, 2.9415199756622314, 2.9499428272247314, 2.8952488899230957, 2.9869918823242188, 2.967240333557129, 2.923555612564087, 3.033008337020874, 3.0520970821380615, 2.9285686016082764, 2.898404598236084, 2.9455292224884033, 2.9804587364196777, 2.8721256256103516, 2.963463306427002, 2.9011480808258057, 2.883197069168091, 2.9630126953125, 2.940131664276123, 2.9450035095214844, 3.0030910968780518, 2.920336961746216, 2.9997992515563965, 3.006027936935425, 2.9899227619171143, 2.8698959350585938, 2.880812883377075, 2.9658501148223877, 2.902494192123413, 2.9278974533081055, 2.975958824157715, 2.95438289642334, 2.8486623764038086, 2.9880685806274414, 2.9393558502197266, 3.0225412845611572, 2.9591033458709717, 3.0128583908081055, 2.9334843158721924, 3.0350794792175293, 2.9831814765930176, 2.9088025093078613, 2.8661375045776367, 2.822777271270752, 2.932828187942505, 2.962364912033081, 2.8681540489196777, 2.93695068359375, 2.9773571491241455, 2.979793071746826, 2.9305827617645264, 2.9517629146575928, 2.955871343612671, 2.9274344444274902, 2.9288315773010254, 2.96012020111084, 2.967052698135376, 2.947693109512329, 2.906221866607666, 2.9670543670654297, 2.8867993354797363, 2.954569101333618, 2.896040916442871, 2.9212610721588135, 2.926206588745117, 2.8902716636657715, 2.9941046237945557, 2.850867509841919, 2.9946236610412598, 2.9870142936706543, 2.9567625522613525, 3.00498104095459, 2.9678947925567627, 3.0835654735565186, 2.885235071182251, 2.9268720149993896, 2.8848934173583984, 2.967181921005249, 2.9364829063415527, 2.9322192668914795, 2.826690673828125, 2.839073896408081, 2.837905168533325, 2.8083910942077637, 2.8482587337493896, 2.9546825885772705, 2.7880070209503174, 2.998561143875122, 2.8220386505126953, 2.8746256828308105, 2.951112985610962, 2.8455233573913574, 2.941967010498047, 2.8172152042388916, 2.8526980876922607, 2.9036920070648193, 2.8991191387176514, 2.912876605987549, 2.8349735736846924, 2.888883352279663, 2.9047329425811768, 2.861255645751953, 2.84921932220459, 2.8798036575317383, 2.8888258934020996, 2.826432228088379, 2.8295061588287354, 2.7686591148376465, 2.839561939239502, 2.8698642253875732, 2.8584113121032715, 2.854602575302124, 2.883943557739258, 2.88808536529541, 2.9063823223114014, 2.9621527194976807, 2.9162023067474365, 2.936340570449829, 2.8385112285614014, 2.944744825363159, 2.9588751792907715, 2.950716257095337, 2.9437146186828613, 2.8672289848327637, 2.9910731315612793, 2.8830721378326416, 2.977564811706543, 2.922325611114502], [5.2184319496154785, 3.980902671813965, 3.3513617515563965, 3.274672031402588, 3.047532558441162, 2.821624994277954, 3.0689923763275146, 2.7198731899261475, 2.695448398590088, 2.805760383605957, 2.780755043029785, 2.5607850551605225, 2.6004843711853027, 2.8851234912872314, 2.42850399017334, 2.464857339859009, 2.428255796432495, 2.573532819747925, 2.503324270248413, 2.3931851387023926, 2.5371341705322266, 2.603600025177002, 2.7935967445373535, 2.429720878601074, 2.451819896697998, 2.4834933280944824, 2.395080804824829, 2.367804765701294, 2.5755271911621094, 2.5938527584075928, 2.775062084197998, 2.5566349029541016, 2.4658946990966797, 2.538304328918457, 2.7187161445617676, 2.582720994949341, 2.6869757175445557, 2.5197837352752686, 2.5674140453338623, 2.5486183166503906, 2.78155517578125, 2.5461678504943848, 2.5200812816619873, 2.6914544105529785, 2.410496950149536, 2.5213959217071533, 2.501260757446289, 2.592172145843506, 2.3840725421905518, 2.5778160095214844, 2.3616020679473877, 2.348878860473633, 2.4108400344848633, 2.517544984817505, 2.576869249343872, 2.4225008487701416, 2.3119215965270996, 2.395871877670288, 2.306992292404175, 2.427227258682251, 2.6012141704559326, 2.4304847717285156, 2.4973502159118652, 2.204617977142334, 2.238382339477539, 2.3558874130249023, 2.4036314487457275, 2.197998046875, 2.154294490814209, 2.484159469604492, 2.2933738231658936, 2.504779100418091, 2.4073264598846436, 2.3399477005004883, 2.2731127738952637, 2.3276467323303223, 2.5405540466308594, 2.3670358657836914, 2.263188600540161, 2.5648512840270996, 2.6569464206695557, 2.268547534942627, 2.149399757385254, 2.2589259147644043, 2.2715237140655518, 2.3932039737701416, 2.2764759063720703, 2.3781795501708984, 2.5655393600463867, 2.1544547080993652, 2.186685800552368, 2.224184513092041, 2.342226028442383, 2.321042537689209, 2.5377163887023926, 2.5036890506744385, 2.3599953651428223, 2.3439841270446777, 2.2583167552948, 2.286602020263672, 2.5431110858917236, 2.3254549503326416, 2.2398977279663086, 2.5461461544036865, 2.2355875968933105, 2.430220127105713, 2.396564245223999, 2.2211098670959473, 2.190540075302124, 2.4055845737457275, 2.344573497772217, 2.3039140701293945, 2.4142725467681885, 2.3256595134735107, 2.5218465328216553, 2.8036000728607178, 2.319068670272827, 2.4392435550689697, 2.2216644287109375, 2.540834903717041, 2.2174301147460938, 2.2405827045440674, 2.5479722023010254, 2.420151948928833, 2.2695088386535645, 2.3493854999542236, 2.3416032791137695, 2.3643648624420166, 2.371654510498047, 2.3423304557800293, 2.349992036819458, 2.2248775959014893, 2.267507791519165, 2.134586811065674, 2.297353506088257, 2.316875696182251, 2.3919031620025635, 2.255817174911499, 2.3849291801452637, 2.2421603202819824, 2.2709543704986572, 2.3060455322265625, 2.2912380695343018, 2.2191126346588135, 2.2811038494110107, 2.5782508850097656, 2.200162172317505, 2.3197317123413086, 2.2541110515594482, 2.271230936050415, 2.216402292251587, 2.2239301204681396, 2.3292901515960693, 2.2947051525115967, 2.600806474685669, 2.312593936920166, 2.3712658882141113, 2.3827779293060303, 2.17057204246521, 2.441282272338867, 2.283642530441284, 2.3307881355285645, 2.405789613723755, 2.3363733291625977, 2.3239903450012207, 2.318230628967285, 2.307173728942871, 2.382028341293335, 2.3086183071136475, 2.300231456756592, 2.358060836791992, 2.2631752490997314, 2.5857162475585938, 2.2628979682922363, 2.0934722423553467, 2.3592283725738525, 2.3109540939331055, 2.3804733753204346, 2.24421763420105, 2.266491651535034, 2.262242317199707, 2.2915844917297363, 2.3660621643066406, 2.222156524658203, 2.2920033931732178, 2.2135775089263916, 2.403801202774048, 2.4074931144714355, 2.4911677837371826, 2.276604413986206, 2.4687530994415283, 2.5636043548583984, 2.1745035648345947, 2.4133431911468506, 2.301151752471924, 2.3682124614715576, 2.264137029647827, 2.3368918895721436, 2.3064632415771484, 2.403235912322998, 2.570871591567993, 2.655116558074951, 2.459230661392212, 2.4464707374572754, 2.4243152141571045, 2.520465850830078, 2.362178087234497, 2.406745433807373, 2.2345986366271973, 2.574479579925537, 2.4251596927642822, 2.345564842224121, 2.65903377532959, 2.3405940532684326, 2.363490104675293, 2.3172245025634766, 2.3435373306274414, 2.2122726440429688, 2.432926654815674, 2.3173656463623047, 2.5412845611572266, 2.476155996322632, 2.448835849761963, 2.534316301345825, 2.4045040607452393, 2.4831364154815674, 2.5724191665649414, 2.4844374656677246, 2.5499210357666016, 2.8511486053466797, 2.3670918941497803, 2.4120497703552246, 2.4835503101348877, 2.3911242485046387, 2.4951486587524414, 2.3629837036132812, 2.306577682495117, 2.378591775894165, 2.3875560760498047, 2.4746527671813965, 2.5858230590820312, 2.342566728591919, 2.3903276920318604, 2.5420992374420166, 2.3758373260498047, 2.5677075386047363, 2.3540680408477783, 2.565368413925171, 2.5082361698150635, 2.520611047744751, 2.418658971786499, 2.5735790729522705, 2.43141508102417, 2.408233404159546, 2.5050289630889893, 2.6304686069488525, 2.5341250896453857, 2.541252851486206, 2.566859722137451, 2.579087018966675, 2.6240992546081543, 2.5929534435272217, 2.5430126190185547, 2.650432825088501, 2.4126923084259033, 2.5261664390563965, 2.6884474754333496, 2.734361410140991, 2.351832389831543, 2.7451589107513428, 2.507363796234131, 2.7609164714813232, 2.4481751918792725, 2.702350616455078, 2.5445396900177, 2.603106737136841, 2.5565381050109863, 2.6687350273132324, 2.6988143920898438, 2.618042230606079, 2.5170044898986816, 2.4264755249023438, 2.519500732421875, 2.461671829223633, 2.551640510559082, 2.7087831497192383, 2.6928482055664062, 2.447671890258789, 2.543071746826172, 2.434922933578491, 2.5947928428649902, 2.625751256942749, 2.6114845275878906, 2.615105390548706, 2.666163444519043, 2.5390331745147705, 2.668426513671875, 2.4167537689208984, 2.5789105892181396, 2.565718650817871, 2.5287418365478516, 2.496964931488037, 2.7587132453918457, 2.432551860809326, 2.5657777786254883, 2.490272045135498, 2.619123697280884, 2.7645950317382812, 2.525192975997925, 2.5980634689331055, 2.5980284214019775, 2.5450589656829834, 2.7321529388427734, 2.509479522705078, 2.6132500171661377, 2.469207763671875, 2.5201516151428223, 2.6750969886779785, 2.6660306453704834, 2.5166525840759277, 2.643951177597046, 2.6531834602355957, 2.5458855628967285, 2.574820041656494, 2.531217575073242, 2.543509006500244, 2.5713086128234863, 2.5803911685943604, 2.525054931640625, 2.611750841140747, 2.636225700378418, 2.6077373027801514, 2.677680492401123, 2.9866437911987305, 2.541729688644409, 2.541114330291748, 2.5327539443969727, 2.5918824672698975, 2.767441749572754, 2.923224449157715, 2.5352704524993896, 2.7425284385681152, 2.66166615486145, 2.739734649658203, 2.5026204586029053, 2.6394288539886475, 2.545478343963623, 2.808337926864624, 2.516091823577881, 2.499943971633911, 2.731405735015869, 2.579075336456299, 2.6519267559051514, 2.628441572189331, 2.492453098297119, 2.52176833152771, 2.538369655609131, 2.5588085651397705, 2.639906406402588, 2.5826663970947266, 2.616452693939209, 2.5266523361206055, 2.502504825592041, 2.6416499614715576, 2.8405535221099854, 2.678124189376831, 2.7129528522491455, 2.434668779373169, 2.649623394012451, 2.5367515087127686, 2.5737788677215576, 2.611152172088623, 2.6511497497558594, 2.5834126472473145, 2.8854258060455322, 2.4860334396362305, 2.660301923751831, 2.780458450317383, 2.604825258255005, 2.5260722637176514, 2.836318254470825, 2.7526473999023438, 2.6239254474639893, 2.9525318145751953, 2.7914650440216064, 2.5218887329101562, 2.664496898651123, 2.6232903003692627, 2.679722547531128, 2.6800899505615234, 2.82940673828125, 2.788731336593628, 2.6566264629364014, 2.707813262939453, 2.9974617958068848, 2.6753716468811035, 2.8167808055877686, 2.8934338092803955, 2.7628684043884277, 2.6912574768066406, 2.7833163738250732, 2.916027069091797, 2.6809568405151367, 2.639510154724121, 2.776686906814575, 2.6790037155151367, 2.706796884536743, 2.715222120285034, 2.6716182231903076, 2.6815810203552246, 2.6382479667663574, 2.8260750770568848, 2.808476209640503, 2.546401023864746, 2.702036142349243, 2.7619471549987793, 2.7189886569976807, 2.621119737625122, 2.6535184383392334, 2.664320468902588, 2.7158145904541016, 2.580320358276367, 2.554597854614258, 2.5912489891052246, 2.672703266143799, 2.640636444091797, 2.8435585498809814, 2.769977569580078, 2.6154396533966064, 2.66955828666687, 2.6585962772369385, 2.8873937129974365, 2.7482521533966064, 2.6496355533599854, 2.5774128437042236, 2.8116395473480225, 2.852426290512085, 2.6883058547973633, 2.6057546138763428, 2.6584370136260986, 2.56061053276062, 2.6514437198638916, 2.6748650074005127, 2.611097574234009, 2.741668462753296, 2.775394916534424, 2.653792381286621, 2.6041653156280518, 2.646608591079712, 2.866063117980957, 2.6442577838897705, 2.6739273071289062, 2.8143792152404785, 2.862982988357544, 2.881974935531616, 2.7625911235809326, 2.7074637413024902, 2.772783041000366, 2.6497464179992676, 2.8742973804473877, 2.881380796432495, 2.6885077953338623, 2.7145442962646484, 2.711041212081909, 2.7354509830474854, 3.0040531158447266, 2.8226242065429688, 2.9440383911132812, 2.6955478191375732, 2.86627459526062, 2.8315677642822266, 2.743227481842041, 2.8858730792999268, 2.6634631156921387, 2.8552210330963135, 2.788339853286743, 2.7817013263702393, 2.743666172027588, 2.9231345653533936, 2.7454168796539307, 2.9595084190368652, 2.7564094066619873, 3.0041935443878174, 2.6991000175476074, 2.7392876148223877, 2.809288740158081, 2.688673257827759, 2.6540772914886475, 2.6562082767486572, 2.6670961380004883, 2.8141427040100098, 2.6634905338287354, 2.800149440765381, 2.622518301010132, 2.86962890625, 2.7193048000335693, 2.6144981384277344, 2.770209312438965, 2.7196896076202393, 3.04144549369812]]\n",
            "2.6609935297369955\n"
          ],
          "name": "stdout"
        }
      ]
    },
    {
      "cell_type": "code",
      "metadata": {
        "id": "lRW_zw4tcHCb",
        "outputId": "5c3950a6-a958-4cb9-bce7-ce4553a9907d",
        "colab": {
          "base_uri": "https://localhost:8080/",
          "height": 279
        }
      },
      "source": [
        "# 3-30 검증 점수 그래프\n",
        "import matplotlib.pyplot as plt\n",
        "plt.plot(range(1,len(average_mae_history) + 1), average_mae_history)\n",
        "plt.xlabel('Epochs')\n",
        "plt.ylabel('Validation MAE')\n",
        "plt.show()\n",
        "\n",
        "# 초반의 데이터와의 편차가 너무 커서 중요한 정보를 보기 편치 않음 - 편차, 편치 라임 ㅅㅌㅊ"
      ],
      "execution_count": 25,
      "outputs": [
        {
          "output_type": "display_data",
          "data": {
            "image/png": "[encoded data removed]",
            "text/plain": [
              "<Figure size 432x288 with 1 Axes>"
            ]
          },
          "metadata": {
            "tags": [],
            "needs_background": "light"
          }
        }
      ]
    },
    {
      "cell_type": "code",
      "metadata": {
        "id": "rf5T7GAYcG-C",
        "outputId": "624b8317-0757-4ea3-d07e-bfd065afa200",
        "colab": {
          "base_uri": "https://localhost:8080/",
          "height": 279
        }
      },
      "source": [
        "# 3-31 처음 10개의 데이터 포인트를 제외한 검증 점수 그리기\n",
        "# 지수 이동 평균(exponential moving average) : 시계열 데이터를 부드럽게 만드는데 사용됨\n",
        "def smooth_curve(points, factor=0.9):\n",
        "  smoothed_points = []\n",
        "  for point in points:\n",
        "    if smoothed_points:\n",
        "      previous = smoothed_points[-1]\n",
        "      smoothed_points.append(previous*factor + point*(1 - factor))\n",
        "    else:\n",
        "      smoothed_points.append(point)\n",
        "  return smoothed_points\n",
        "\n",
        "smoothed_mae_history = smooth_curve(average_mae_history[10:])\n",
        "plt.plot(range(1,len(smoothed_mae_history)+1),smoothed_mae_history)\n",
        "plt.xlabel('Epochs')\n",
        "plt.ylabel('Validation MAE')\n",
        "plt.show()\n",
        "\n",
        "# Epoch이 80일 때 이후로 MAE가 줄어드는 것이 멈춤, epochs = 80으로 설정한다"
      ],
      "execution_count": 29,
      "outputs": [
        {
          "output_type": "display_data",
          "data": {
            "image/png": "[encoded data removed]",
            "text/plain": [
              "<Figure size 432x288 with 1 Axes>"
            ]
          },
          "metadata": {
            "tags": [],
            "needs_background": "light"
          }
        }
      ]
    },
    {
      "cell_type": "code",
      "metadata": {
        "id": "mNjL8M7OcG1p",
        "outputId": "29a5f14d-f48d-4f97-c84f-958cb1fc9479",
        "colab": {
          "base_uri": "https://localhost:8080/",
          "height": 35
        }
      },
      "source": [
        "# 3-32\n",
        "model = build_model()\n",
        "model.fit(train_data, train_targets,\n",
        "          epochs=80,\n",
        "          batch_size=16, verbose = 0)\n",
        "test_mse_score, test_mae_score = model.evaluate(test_data, test_targets)"
      ],
      "execution_count": 30,
      "outputs": [
        {
          "output_type": "stream",
          "text": [
            "4/4 [==============================] - 0s 2ms/step - loss: 20.8957 - mae: 2.9225\n"
          ],
          "name": "stdout"
        }
      ]
    },
    {
      "cell_type": "code",
      "metadata": {
        "id": "nVXlj5CPcGs3",
        "outputId": "9b5ea168-2a78-4d0d-f4b5-6404b03dc201",
        "colab": {
          "base_uri": "https://localhost:8080/",
          "height": 35
        }
      },
      "source": [
        "test_mae_score"
      ],
      "execution_count": 31,
      "outputs": [
        {
          "output_type": "execute_result",
          "data": {
            "text/plain": [
              "2.922508478164673"
            ]
          },
          "metadata": {
            "tags": []
          },
          "execution_count": 31
        }
      ]
    }
  ]
}