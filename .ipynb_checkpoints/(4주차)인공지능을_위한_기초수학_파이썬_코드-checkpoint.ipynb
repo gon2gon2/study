{
 "cells": [
  {
   "cell_type": "code",
   "execution_count": null,
   "metadata": {
    "colab": {
     "base_uri": "https://localhost:8080/"
    },
    "id": "jAqfTYc19sK1",
    "outputId": "cd38d152-bfc2-4ee5-ff3a-cea3f5ce06fb"
   },
   "outputs": [
    {
     "name": "stdout",
     "output_type": "stream",
     "text": [
      "Mounted at /content/gdrive\n"
     ]
    }
   ],
   "source": [
    "from google.colab import drive\n",
    "drive.mount('/content/gdrive')"
   ]
  },
  {
   "cell_type": "code",
   "execution_count": null,
   "metadata": {
    "id": "6WPMJICK5wvu"
   },
   "outputs": [],
   "source": [
    "# [Example]\n",
    "\n",
    "# 그래디언트 하강을 위한 최적화\n",
    "\n",
    "import numpy as np\n",
    "import matplotlib.pyplot as plt\n",
    "\n",
    "def numerical_gradient(f, x):\n",
    "    h = 1e-4\n",
    "    grad = np.zeros_like(x)\n",
    "    \n",
    "    for idx in range(x.size):\n",
    "        tmp_val = x[idx]\n",
    "        \n",
    "        #f(x+h) 계산\n",
    "        x[idx] = tmp_val + h\n",
    "        fxh1 = f(x)\n",
    "        \n",
    "        #f(x-h) 계산\n",
    "        x[idx] = tmp_val - h\n",
    "        fxh2 = f(x)\n",
    "        \n",
    "        grad[idx] = (fxh1 - fxh2) / (2*h)\n",
    "        x[idx] = tmp_val\n",
    "        \n",
    "    return grad\n",
    "\n",
    "def gradient_descent(f, init_x, lr=0.1, step_num=200): \n",
    "  x = init_x \n",
    "  x_history = [] \n",
    "  for i in range(step_num): \n",
    "    x_history.append( x.copy() ) \n",
    "    grad = numerical_gradient(f, x) \n",
    "    x -= lr * grad \n",
    "  return x, np.array(x_history)\n",
    "\n",
    "def function_2(x): \n",
    "  return (x[0]-3)**2 + (x[1]-1)**2 + 5\n",
    "  \n",
    "init_x = np.array([-2.0, 4.0]) \n",
    "lr = 0.1 \n",
    "step_num = 200\n",
    "x, x_history = gradient_descent(function_2, init_x, lr=lr, step_num=step_num) \n",
    "plt.figure(figsize=(6, 6))\n",
    "plt.plot( [-6, 6], [1, 1], '--b') \n",
    "plt.plot( [3, 3], [-6, 6], '--b') \n",
    "plt.plot(x_history[:,0], x_history[:,1], 'o') \n",
    "plt.xlim(-4.5, 4.5) \n",
    "plt.ylim(-4.5, 4.5) \n",
    "plt.xlabel(\"X0\") \n",
    "plt.ylabel(\"X1\") \n",
    "plt.show()\n",
    "\n",
    "\n",
    "# 출처: https://koreanfoodie.me/119 [KoreanFoodie's Study]"
   ]
  },
  {
   "cell_type": "code",
   "execution_count": null,
   "metadata": {
    "id": "uWxjr3TcJ8DR"
   },
   "outputs": [],
   "source": [
    "# [Example]\n",
    "\n",
    "import numpy as np\n",
    "from scipy.optimize import minimize\n",
    "\n",
    "# 함수 선언\n",
    "def function(p):\n",
    "  return 3*p[0]**2 +5\n",
    "\n",
    "# 시작점 설정\n",
    "Start_point = np.array([2])\n",
    "\n",
    "# 최적화 알고리즘 적용\n",
    "Optimum = minimize(function, Start_point, method='SLSQP', \n",
    "                   options={'xtol': 1e-8, 'disp':True})\n",
    "print('함수 f의 최소값을 가지게 하는 최적화 : \\n', Optimum)"
   ]
  },
  {
   "cell_type": "code",
   "execution_count": null,
   "metadata": {
    "id": "qc-Xk3DjKKQw"
   },
   "outputs": [],
   "source": [
    "# [Example]\n",
    "\n",
    "# Numpy 는 과학 연산을 위해서 설계된 다차원 배열을 처리를 위한 확장 패키지\n",
    "import numpy as np\n",
    "\n",
    "# Matplotlib 은 데이터를 시각화할 때 필요한 다양한 함수를 지원하는 패키지\n",
    "import matplotlib.pyplot as plt\n",
    "\n",
    "def function1(x):  # 함수 정의\n",
    "  return  3*(x)**2 + 5 # 함수의 반환 값\n",
    "\n",
    "x = np.linspace(-5, 5, 100) # -5과 5 사이에 100개 값 생성\n",
    "func = function1(x)  # sigmo 함수 호출 후 sig에 값 저장\n",
    "\n",
    "optimization_x = [0.0]\n",
    "optimization_f = [5.0]\n",
    "\n",
    "plt.figure(figsize=(5,5))\n",
    "# plt.ylim(0.0, 3.0)\n",
    "plt.plot(x, function1(x), 'r')  # matplotlib 의 plot 기능 이용하여 (x, y) 좌표\n",
    "plt.plot(optimization_x, optimization_f, \n",
    "         marker='x', markersize=30, color='b')\n",
    "plt.grid()  # 격자 표시\n",
    "plt.show()  # plot을 화면에서 볼 수 있도록 show()"
   ]
  },
  {
   "cell_type": "code",
   "execution_count": null,
   "metadata": {
    "id": "GnXIsuw5Kb1A"
   },
   "outputs": [],
   "source": [
    "# [Example]\n",
    "\n",
    "import numpy as np\n",
    "from scipy.optimize import minimize\n",
    "\n",
    "# 함수 선언\n",
    "def function(p):\n",
    "  return 3*p[0]**2 + 4*(p[1]-3)**2 +5\n",
    "\n",
    "# 시작점 설정\n",
    "Start_point = np.array([2.0, 3.0])\n",
    "\n",
    "# 최적화 알고리즘 적용\n",
    "Optimum = minimize(function, Start_point, method='SLSQP', \n",
    "                   options={'xtol': 1e-8, 'disp':True})\n",
    "print('함수 f의 최소값을 가지게 하는 최적화 : \\n', Optimum)"
   ]
  },
  {
   "cell_type": "code",
   "execution_count": null,
   "metadata": {
    "id": "nbUSdVNGK23K"
   },
   "outputs": [],
   "source": [
    "# [Example]\n",
    "\n",
    "# Numpy 는 과학 연산을 위해서 설계된 다차원 배열을 처리를 위한 확장 패키지\n",
    "import numpy as np\n",
    "\n",
    "# Matplotlib 은 데이터를 시각화할 때 필요한 다양한 함수를 지원하는 패키지\n",
    "import matplotlib.pyplot as plt\n",
    "from mpl_toolkits.mplot3d import Axes3D\n",
    "from matplotlib import cm\n",
    "\n",
    "\n",
    "x = np.linspace(-5, 5, 100) # -5과 5 사이에 100개 값 생성\n",
    "y = np.linspace(-5, 5, 100) # -5과 5 사이에 100개 값 생성\n",
    "x, y = np.meshgrid(x, y)\n",
    "function1 = 3*(x)**2 + 4*(y-3)**2 + 5\n",
    "\n",
    "optimization_x = [0.0]\n",
    "optimization_y = [3.0]\n",
    "optimization_f = [5.0]\n",
    "\n",
    "fig = plt.figure()\n",
    "ax = fig.gca(projection='3d')\n",
    "surf = ax.plot_surface(x, y, function1, \n",
    "                       rstride=2, cstride=2,  linewidth=1)\n",
    "plt.plot(optimization_x, optimization_y, optimization_f, \n",
    "         marker='x', markersize=30, color='r')\n",
    "plt.grid()  # 격자 표시\n",
    "ax.view_init(elev=25, azim=70)\n",
    "plt.show()  # plot을 화면에서 볼 수 있도록 show()"
   ]
  },
  {
   "cell_type": "code",
   "execution_count": 1,
   "metadata": {
    "id": "GN4pZ03GLOEY"
   },
   "outputs": [
    {
     "name": "stdout",
     "output_type": "stream",
     "text": [
      "라그랑즈 곱수를 이용한 최대점은 (1.5168539325842698, -0.40449438202247195, 0.6067415730337079)\n"
     ]
    }
   ],
   "source": [
    "# [Example]\n",
    "\n",
    "import autograd.numpy as np\n",
    "from autograd import grad\n",
    "import numpy as np\n",
    "from scipy.optimize import minimize\n",
    "\n",
    "def objective(X):\n",
    "    x, y, z = X\n",
    "    return 2*x**2 + 3*y**2 + z**2 # f(X)\n",
    "\n",
    "def eq(X):\n",
    "    x, y, z = X \n",
    "    return 5 * x - 2 * y + z - 9 # g(X) = 5x -2y +z = 9 \n",
    "\n",
    "def F(L):\n",
    "    'Augmented Lagrange function'\n",
    "    x, y, z, _lambda = L\n",
    "    return objective([x, y, z]) - _lambda * eq([x, y, z])\n",
    "\n",
    "# Gradients of the Lagrange function\n",
    "dfdL = grad(F, 0)\n",
    "\n",
    "# Find L that returns all zeros in this function.\n",
    "def obj(L):\n",
    "    x, y, z, _lambda = L\n",
    "    dFdx, dFdy, dFdz, dFdlam = dfdL(L)\n",
    "    return [dFdx, dFdy, dFdz, eq([x, y, z])]\n",
    "\n",
    "from scipy.optimize import fsolve\n",
    "x, y, z, _lam = fsolve(obj, [0.0, 0.0, 0.0, 1.0])\n",
    "print(f'라그랑즈 곱수를 이용한 최대점은 {x, y, z}')"
   ]
  },
  {
   "cell_type": "code",
   "execution_count": 2,
   "metadata": {
    "id": "VtRIjLUGhGVM"
   },
   "outputs": [
    {
     "name": "stdout",
     "output_type": "stream",
     "text": [
      "라그랑즈 곱수를 이용한 최적점 하나는 (0.7653668647324424, 1.8477590650232458, 3.9301512653140493)\n",
      "라그랑즈 곱수를 이용한 최적점 다른 하나는 (-1.8477590650233688, 0.7653668647312664, 4.378492794485902)\n"
     ]
    }
   ],
   "source": [
    "# [Example]\n",
    "\n",
    "import autograd.numpy as np\n",
    "from autograd import grad\n",
    "import numpy as np\n",
    "from scipy.optimize import minimize\n",
    "\n",
    "\n",
    "def objective(X):\n",
    "    x, y, z = X\n",
    "    return 3*x + 2*y**3 - 3*z  # f(X)\n",
    "\n",
    "def eq1(X):\n",
    "    x, y, z = X \n",
    "    return x - 2*y + z -1 # g(X) \n",
    "\n",
    "def eq2(X):\n",
    "    x, y, z = X \n",
    "    return x**2 + y**2 -4 # h(X)     \n",
    "\n",
    "def F(L):\n",
    "    'Augmented Lagrange function'\n",
    "    x, y, z, _lambda, _mu = L\n",
    "    return objective([x, y, z]) - _lambda * eq1([x, y, z]) - _mu * eq2([x ,y, z])\n",
    "\n",
    "# Gradients of the Lagrange function\n",
    "dfdL = grad(F, 0)\n",
    "\n",
    "# Find L that returns all zeros in this function.\n",
    "def obj(L):\n",
    "    x, y, z, _lambda, _mu = L\n",
    "    dFdx, dFdy, dFdz, dFdlam, dFdmu = dfdL(L)\n",
    "    return [dFdx, dFdy, dFdz, eq1([x, y, z]), eq2([x, y, z])]\n",
    "\n",
    "from scipy.optimize import fsolve\n",
    "x1, y1, z1, _lam, _mu = fsolve(obj, [0.0, 0.0, 0.0, 1.0, 1.0])\n",
    "x2, y2, z2, _lam, _mu = fsolve(obj, [0.0, 0.0, 0.0, -1.0, -1.0])\n",
    "print(f'라그랑즈 곱수를 이용한 최적점 하나는 {x1, y1, z1}')\n",
    "print(f'라그랑즈 곱수를 이용한 최적점 다른 하나는 {x2, y2, z2}')"
   ]
  },
  {
   "cell_type": "code",
   "execution_count": null,
   "metadata": {},
   "outputs": [],
   "source": []
  }
 ],
 "metadata": {
  "colab": {
   "collapsed_sections": [],
   "name": "(201110)(4주차)인공지능을 위한 기초수학 파이썬 코드.ipynb",
   "provenance": []
  },
  "kernelspec": {
   "display_name": "Python 3",
   "language": "python",
   "name": "python3"
  },
  "language_info": {
   "codemirror_mode": {
    "name": "ipython",
    "version": 3
   },
   "file_extension": ".py",
   "mimetype": "text/x-python",
   "name": "python",
   "nbconvert_exporter": "python",
   "pygments_lexer": "ipython3",
   "version": "3.7.6"
  }
 },
 "nbformat": 4,
 "nbformat_minor": 1
}
