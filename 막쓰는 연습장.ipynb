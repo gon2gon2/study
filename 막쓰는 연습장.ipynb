{
 "cells": [
  {
   "cell_type": "code",
   "execution_count": 1,
   "metadata": {},
   "outputs": [],
   "source": [
    "from sympy import *\n",
    "import sympy as sym"
   ]
  },
  {
   "cell_type": "code",
   "execution_count": 93,
   "metadata": {},
   "outputs": [
    {
     "data": {
      "text/latex": [
       "$\\displaystyle \\frac{e^{x}}{2 \\sqrt{z}}$"
      ],
      "text/plain": [
       "exp(x)/(2*sqrt(z))"
      ]
     },
     "execution_count": 93,
     "metadata": {},
     "output_type": "execute_result"
    }
   ],
   "source": [
    "x,y,z = symbols('x y z')\n",
    "\n",
    "y = sym.sqrt(z)\n",
    "y_prime_z = diff(y, z)\n",
    "\n",
    "z = sym.exp(x)\n",
    "z_prime_x = diff(z, x)\n",
    "\n",
    "y_prime_x = (y_prime_z) * (z_prime_x)\n",
    "y_prime_x"
   ]
  },
  {
   "cell_type": "code",
   "execution_count": 95,
   "metadata": {},
   "outputs": [
    {
     "data": {
      "text/latex": [
       "$\\displaystyle \\frac{2 x}{z^{2} + 1}$"
      ],
      "text/plain": [
       "2*x/(z**2 + 1)"
      ]
     },
     "execution_count": 95,
     "metadata": {},
     "output_type": "execute_result"
    }
   ],
   "source": [
    "x,y,z = symbols('x y z')\n",
    "\n",
    "y = sym.atan(z)\n",
    "y_prime_z = diff(y, z)\n",
    "\n",
    "z = x**2\n",
    "z_prime_x = diff(z, x)\n",
    "\n",
    "y_prime_x = (y_prime_z) * (z_prime_x)\n",
    "y_prime_x"
   ]
  },
  {
   "cell_type": "code",
   "execution_count": 88,
   "metadata": {},
   "outputs": [
    {
     "data": {
      "text/latex": [
       "$\\displaystyle \\left(1 - \\tanh^{2}{\\left(y \\right)}\\right) \\cos{\\left(x \\right)}$"
      ],
      "text/plain": [
       "(1 - tanh(y)**2)*cos(x)"
      ]
     },
     "execution_count": 88,
     "metadata": {},
     "output_type": "execute_result"
    }
   ],
   "source": [
    "x, y, z = symbols('x y z')\n",
    "\n",
    "z = sym.tanh(y)\n",
    "z_prime_y = diff(z, y)\n",
    "\n",
    "y = sym.sin(x)\n",
    "y_prime_x = diff(y, x)\n",
    "\n",
    "z_prime_x = (z_prime_y) * (y_prime_x)\n",
    "z_prime_x"
   ]
  },
  {
   "cell_type": "code",
   "execution_count": 84,
   "metadata": {},
   "outputs": [
    {
     "data": {
      "text/latex": [
       "$\\displaystyle e^{u}$"
      ],
      "text/plain": [
       "exp(u)"
      ]
     },
     "execution_count": 84,
     "metadata": {},
     "output_type": "execute_result"
    }
   ],
   "source": [
    "x,y,u,z = symbols('x y u z')\n",
    "z =3*y**2+2*y +5\n"
   ]
  }
 ],
 "metadata": {
  "kernelspec": {
   "display_name": "Python 3",
   "language": "python",
   "name": "python3"
  },
  "language_info": {
   "codemirror_mode": {
    "name": "ipython",
    "version": 3
   },
   "file_extension": ".py",
   "mimetype": "text/x-python",
   "name": "python",
   "nbconvert_exporter": "python",
   "pygments_lexer": "ipython3",
   "version": "3.7.6"
  }
 },
 "nbformat": 4,
 "nbformat_minor": 4
}
